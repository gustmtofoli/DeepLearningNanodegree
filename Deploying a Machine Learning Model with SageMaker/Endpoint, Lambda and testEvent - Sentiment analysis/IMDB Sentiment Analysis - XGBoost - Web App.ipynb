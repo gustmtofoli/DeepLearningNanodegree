{
 "cells": [
  {
   "cell_type": "markdown",
   "metadata": {},
   "source": [
    "# Sentiment Analysis Web App\n",
    "\n",
    "_Deep Learning Nanodegree Program | Deployment_\n",
    "\n",
    "---\n",
    "\n",
    "In this notebook we will use Amazon's SageMaker service to construct a random tree model to predict the sentiment of a movie review. In addition, we will deploy this model to an endpoint and construct a very simple web app which will interact with our model's deployed endpoint.\n",
    "\n",
    "## General Outline\n",
    "\n",
    "Typically, when using a notebook instance with SageMaker, you will proceed through the following steps. Of course, not every step will need to be done with each project. Also, there is quite a lot of room for variation in many of the steps, as you will see throughout these lessons.\n",
    "\n",
    "1. Download or otherwise retrieve the data.\n",
    "2. Process / Prepare the data.\n",
    "3. Upload the processed data to S3.\n",
    "4. Train a chosen model.\n",
    "5. Test the trained model (typically using a batch transform job).\n",
    "6. Deploy the trained model.\n",
    "7. Use the deployed model.\n",
    "\n",
    "In this notebook we will progress through each of the steps above. We will also see that the final step, using the deployed model, can be quite challenging."
   ]
  },
  {
   "cell_type": "markdown",
   "metadata": {},
   "source": [
    "## Step 1: Downloading the data\n",
    "\n",
    "The dataset we are going to use is very popular among researchers in Natural Language Processing, usually referred to as the [IMDb dataset](http://ai.stanford.edu/~amaas/data/sentiment/). It consists of movie reviews from the website [imdb.com](http://www.imdb.com/), each labeled as either '**pos**itive', if the reviewer enjoyed the film, or '**neg**ative' otherwise.\n",
    "\n",
    "> Maas, Andrew L., et al. [Learning Word Vectors for Sentiment Analysis](http://ai.stanford.edu/~amaas/data/sentiment/). In _Proceedings of the 49th Annual Meeting of the Association for Computational Linguistics: Human Language Technologies_. Association for Computational Linguistics, 2011.\n",
    "\n",
    "We begin by using some Jupyter Notebook magic to download and extract the dataset."
   ]
  },
  {
   "cell_type": "code",
   "execution_count": 1,
   "metadata": {},
   "outputs": [
    {
     "name": "stdout",
     "output_type": "stream",
     "text": [
      "mkdir: cannot create directory ‘../data’: File exists\n",
      "--2019-08-08 01:27:15--  http://ai.stanford.edu/~amaas/data/sentiment/aclImdb_v1.tar.gz\n",
      "Resolving ai.stanford.edu (ai.stanford.edu)... 171.64.68.10\n",
      "Connecting to ai.stanford.edu (ai.stanford.edu)|171.64.68.10|:80... connected.\n",
      "HTTP request sent, awaiting response... 200 OK\n",
      "Length: 84125825 (80M) [application/x-gzip]\n",
      "Saving to: ‘../data/aclImdb_v1.tar.gz’\n",
      "\n",
      "../data/aclImdb_v1. 100%[===================>]  80.23M  19.4MB/s    in 5.3s    \n",
      "\n",
      "2019-08-08 01:27:21 (15.1 MB/s) - ‘../data/aclImdb_v1.tar.gz’ saved [84125825/84125825]\n",
      "\n"
     ]
    }
   ],
   "source": [
    "%mkdir ../data\n",
    "!wget -O ../data/aclImdb_v1.tar.gz http://ai.stanford.edu/~amaas/data/sentiment/aclImdb_v1.tar.gz\n",
    "!tar -zxf ../data/aclImdb_v1.tar.gz -C ../data"
   ]
  },
  {
   "cell_type": "markdown",
   "metadata": {},
   "source": [
    "## Step 2: Preparing and Processing the data\n",
    "\n",
    "The data we have downloaded is split into various files, each of which contains a single review. It will be much easier going forward if we combine these individual files into two large files, one for training and one for testing."
   ]
  },
  {
   "cell_type": "code",
   "execution_count": 2,
   "metadata": {},
   "outputs": [],
   "source": [
    "import os\n",
    "import glob\n",
    "\n",
    "def read_imdb_data(data_dir='../data/aclImdb'):\n",
    "    data = {}\n",
    "    labels = {}\n",
    "    \n",
    "    for data_type in ['train', 'test']:\n",
    "        data[data_type] = {}\n",
    "        labels[data_type] = {}\n",
    "        \n",
    "        for sentiment in ['pos', 'neg']:\n",
    "            data[data_type][sentiment] = []\n",
    "            labels[data_type][sentiment] = []\n",
    "            \n",
    "            path = os.path.join(data_dir, data_type, sentiment, '*.txt')\n",
    "            files = glob.glob(path)\n",
    "            \n",
    "            for f in files:\n",
    "                with open(f) as review:\n",
    "                    data[data_type][sentiment].append(review.read())\n",
    "                    # Here we represent a positive review by '1' and a negative review by '0'\n",
    "                    labels[data_type][sentiment].append(1 if sentiment == 'pos' else 0)\n",
    "                    \n",
    "            assert len(data[data_type][sentiment]) == len(labels[data_type][sentiment]), \\\n",
    "                    \"{}/{} data size does not match labels size\".format(data_type, sentiment)\n",
    "                \n",
    "    return data, labels"
   ]
  },
  {
   "cell_type": "code",
   "execution_count": 3,
   "metadata": {},
   "outputs": [
    {
     "name": "stdout",
     "output_type": "stream",
     "text": [
      "IMDB reviews: train = 12500 pos / 12500 neg, test = 12500 pos / 12500 neg\n"
     ]
    }
   ],
   "source": [
    "data, labels = read_imdb_data()\n",
    "print(\"IMDB reviews: train = {} pos / {} neg, test = {} pos / {} neg\".format(\n",
    "            len(data['train']['pos']), len(data['train']['neg']),\n",
    "            len(data['test']['pos']), len(data['test']['neg'])))"
   ]
  },
  {
   "cell_type": "code",
   "execution_count": 4,
   "metadata": {},
   "outputs": [],
   "source": [
    "from sklearn.utils import shuffle\n",
    "\n",
    "def prepare_imdb_data(data, labels):\n",
    "    \"\"\"Prepare training and test sets from IMDb movie reviews.\"\"\"\n",
    "    \n",
    "    #Combine positive and negative reviews and labels\n",
    "    data_train = data['train']['pos'] + data['train']['neg']\n",
    "    data_test = data['test']['pos'] + data['test']['neg']\n",
    "    labels_train = labels['train']['pos'] + labels['train']['neg']\n",
    "    labels_test = labels['test']['pos'] + labels['test']['neg']\n",
    "    \n",
    "    #Shuffle reviews and corresponding labels within training and test sets\n",
    "    data_train, labels_train = shuffle(data_train, labels_train)\n",
    "    data_test, labels_test = shuffle(data_test, labels_test)\n",
    "    \n",
    "    # Return a unified training data, test data, training labels, test labets\n",
    "    return data_train, data_test, labels_train, labels_test"
   ]
  },
  {
   "cell_type": "code",
   "execution_count": 5,
   "metadata": {},
   "outputs": [
    {
     "name": "stdout",
     "output_type": "stream",
     "text": [
      "IMDb reviews (combined): train = 25000, test = 25000\n"
     ]
    }
   ],
   "source": [
    "train_X, test_X, train_y, test_y = prepare_imdb_data(data, labels)\n",
    "print(\"IMDb reviews (combined): train = {}, test = {}\".format(len(train_X), len(test_X)))"
   ]
  },
  {
   "cell_type": "code",
   "execution_count": 6,
   "metadata": {},
   "outputs": [
    {
     "data": {
      "text/plain": [
       "'Despite the overwhelming cult following for this sad \"documentary,\" I must admit to having cordially loathed the film which struck our party as far more a distressing exploitation piece than usefully informative. That said, after seeing the magnificent stage musical drawn from it, one can appreciate what the film might have been in surer hands. <br /><br />One suspects that those many of us who actively suffered through the film may have had any campy delights its crueler fans enjoyed destroyed by the uncomfortable suspicion that too many of us - or those we know - are only a misstep or two away from the deplorable plight of the two mad women depicted who live in and contribute to a squalor they seem incapable of controlling or escaping.<br /><br />The film leaves the viewer desperately wondering how any person could have slid to this level of degradation and, unlike the musical, offers no cautionary clues or explanations, only a horror show unredeemed by humor or insight. <br /><br />This soul crushing flatness of the film makes the achievement of the stage version (hopefully to be filmed ultimately for cable) all the more remarkable. Act II is faithful in almost every detail to the film under discussion but strangely, setting the sad inmates\\' plight to music, raises the human tragedy to art. Even more important, this act is preceded by a fine Act I where we meet the women before their decent into mutually enabled madness, and are offered hints how their isolated purgatory came about. In short, everything which the FILM is lacking.<br /><br />To the filmmakers\\' credit (or their successors), the excellent Criterion DVD release includes out-takes and bonus material that partially redeem the main film - behind the scenes photographs, interviews and commentary - filling in some of the blank spots the original editing consciously decided to omit in its drive for unadulterated horror and depression. They can\\'t make the amateurish film itself satisfying, but they can at least make it a bit more comprehensible. <br /><br />Ultimately though, it is only the remarkable stage piece inspired by and drawn from it by book writer Doug Wright, composer Scott Frankel and lyricist Michael Korie which raises the rating of the original GREY GARDENS above a single (generous) star.'"
      ]
     },
     "execution_count": 6,
     "metadata": {},
     "output_type": "execute_result"
    }
   ],
   "source": [
    "train_X[100]"
   ]
  },
  {
   "cell_type": "markdown",
   "metadata": {},
   "source": [
    "## Processing the data\n",
    "\n",
    "Now that we have our training and testing datasets merged and ready to use, we need to start processing the raw data into something that will be useable by our machine learning algorithm. To begin with, we remove any html formatting and any non-alpha numeric characters that may appear in the reviews. We will do this in a very simplistic way using Python's regular expression module. We will discuss the reason for this rather simplistic pre-processing later on."
   ]
  },
  {
   "cell_type": "code",
   "execution_count": 7,
   "metadata": {},
   "outputs": [],
   "source": [
    "import re\n",
    "\n",
    "REPLACE_NO_SPACE = re.compile(\"(\\.)|(\\;)|(\\:)|(\\!)|(\\')|(\\?)|(\\,)|(\\\")|(\\()|(\\))|(\\[)|(\\])\")\n",
    "REPLACE_WITH_SPACE = re.compile(\"(<br\\s*/><br\\s*/>)|(\\-)|(\\/)\")\n",
    "\n",
    "def review_to_words(review):\n",
    "    words = REPLACE_NO_SPACE.sub(\"\", review.lower())\n",
    "    words = REPLACE_WITH_SPACE.sub(\" \", words)\n",
    "    return words"
   ]
  },
  {
   "cell_type": "code",
   "execution_count": 8,
   "metadata": {},
   "outputs": [
    {
     "data": {
      "text/plain": [
       "'despite the overwhelming cult following for this sad documentary i must admit to having cordially loathed the film which struck our party as far more a distressing exploitation piece than usefully informative that said after seeing the magnificent stage musical drawn from it one can appreciate what the film might have been in surer hands  one suspects that those many of us who actively suffered through the film may have had any campy delights its crueler fans enjoyed destroyed by the uncomfortable suspicion that too many of us   or those we know   are only a misstep or two away from the deplorable plight of the two mad women depicted who live in and contribute to a squalor they seem incapable of controlling or escaping the film leaves the viewer desperately wondering how any person could have slid to this level of degradation and unlike the musical offers no cautionary clues or explanations only a horror show unredeemed by humor or insight  this soul crushing flatness of the film makes the achievement of the stage version hopefully to be filmed ultimately for cable all the more remarkable act ii is faithful in almost every detail to the film under discussion but strangely setting the sad inmates plight to music raises the human tragedy to art even more important this act is preceded by a fine act i where we meet the women before their decent into mutually enabled madness and are offered hints how their isolated purgatory came about in short everything which the film is lacking to the filmmakers credit or their successors the excellent criterion dvd release includes out takes and bonus material that partially redeem the main film   behind the scenes photographs interviews and commentary   filling in some of the blank spots the original editing consciously decided to omit in its drive for unadulterated horror and depression they cant make the amateurish film itself satisfying but they can at least make it a bit more comprehensible  ultimately though it is only the remarkable stage piece inspired by and drawn from it by book writer doug wright composer scott frankel and lyricist michael korie which raises the rating of the original grey gardens above a single generous star'"
      ]
     },
     "execution_count": 8,
     "metadata": {},
     "output_type": "execute_result"
    }
   ],
   "source": [
    "review_to_words(train_X[100])"
   ]
  },
  {
   "cell_type": "code",
   "execution_count": 9,
   "metadata": {},
   "outputs": [],
   "source": [
    "import pickle\n",
    "\n",
    "cache_dir = os.path.join(\"../cache\", \"sentiment_web_app\")  # where to store cache files\n",
    "os.makedirs(cache_dir, exist_ok=True)  # ensure cache directory exists\n",
    "\n",
    "def preprocess_data(data_train, data_test, labels_train, labels_test,\n",
    "                    cache_dir=cache_dir, cache_file=\"preprocessed_data.pkl\"):\n",
    "    \"\"\"Convert each review to words; read from cache if available.\"\"\"\n",
    "\n",
    "    # If cache_file is not None, try to read from it first\n",
    "    cache_data = None\n",
    "    if cache_file is not None:\n",
    "        try:\n",
    "            with open(os.path.join(cache_dir, cache_file), \"rb\") as f:\n",
    "                cache_data = pickle.load(f)\n",
    "            print(\"Read preprocessed data from cache file:\", cache_file)\n",
    "        except:\n",
    "            pass  # unable to read from cache, but that's okay\n",
    "    \n",
    "    # If cache is missing, then do the heavy lifting\n",
    "    if cache_data is None:\n",
    "        # Preprocess training and test data to obtain words for each review\n",
    "        #words_train = list(map(review_to_words, data_train))\n",
    "        #words_test = list(map(review_to_words, data_test))\n",
    "        words_train = [review_to_words(review) for review in data_train]\n",
    "        words_test = [review_to_words(review) for review in data_test]\n",
    "        \n",
    "        # Write to cache file for future runs\n",
    "        if cache_file is not None:\n",
    "            cache_data = dict(words_train=words_train, words_test=words_test,\n",
    "                              labels_train=labels_train, labels_test=labels_test)\n",
    "            with open(os.path.join(cache_dir, cache_file), \"wb\") as f:\n",
    "                pickle.dump(cache_data, f)\n",
    "            print(\"Wrote preprocessed data to cache file:\", cache_file)\n",
    "    else:\n",
    "        # Unpack data loaded from cache file\n",
    "        words_train, words_test, labels_train, labels_test = (cache_data['words_train'],\n",
    "                cache_data['words_test'], cache_data['labels_train'], cache_data['labels_test'])\n",
    "    \n",
    "    return words_train, words_test, labels_train, labels_test"
   ]
  },
  {
   "cell_type": "code",
   "execution_count": 10,
   "metadata": {},
   "outputs": [
    {
     "name": "stdout",
     "output_type": "stream",
     "text": [
      "Wrote preprocessed data to cache file: preprocessed_data.pkl\n"
     ]
    }
   ],
   "source": [
    "# Preprocess data\n",
    "train_X, test_X, train_y, test_y = preprocess_data(train_X, test_X, train_y, test_y)"
   ]
  },
  {
   "cell_type": "markdown",
   "metadata": {},
   "source": [
    "### Extract Bag-of-Words features\n",
    "\n",
    "For the model we will be implementing, rather than using the reviews directly, we are going to transform each review into a Bag-of-Words feature representation. Keep in mind that 'in the wild' we will only have access to the training set so our transformer can only use the training set to construct a representation."
   ]
  },
  {
   "cell_type": "code",
   "execution_count": 11,
   "metadata": {},
   "outputs": [],
   "source": [
    "import numpy as np\n",
    "from sklearn.feature_extraction.text import CountVectorizer\n",
    "from sklearn.externals import joblib\n",
    "# joblib is an enhanced version of pickle that is more efficient for storing NumPy arrays\n",
    "\n",
    "def extract_BoW_features(words_train, words_test, vocabulary_size=5000,\n",
    "                         cache_dir=cache_dir, cache_file=\"bow_features.pkl\"):\n",
    "    \"\"\"Extract Bag-of-Words for a given set of documents, already preprocessed into words.\"\"\"\n",
    "    \n",
    "    # If cache_file is not None, try to read from it first\n",
    "    cache_data = None\n",
    "    if cache_file is not None:\n",
    "        try:\n",
    "            with open(os.path.join(cache_dir, cache_file), \"rb\") as f:\n",
    "                cache_data = joblib.load(f)\n",
    "            print(\"Read features from cache file:\", cache_file)\n",
    "        except:\n",
    "            pass  # unable to read from cache, but that's okay\n",
    "    \n",
    "    # If cache is missing, then do the heavy lifting\n",
    "    if cache_data is None:\n",
    "        # Fit a vectorizer to training documents and use it to transform them\n",
    "        # NOTE: Training documents have already been preprocessed and tokenized into words;\n",
    "        #       pass in dummy functions to skip those steps, e.g. preprocessor=lambda x: x\n",
    "        vectorizer = CountVectorizer(max_features=vocabulary_size)\n",
    "        features_train = vectorizer.fit_transform(words_train).toarray()\n",
    "\n",
    "        # Apply the same vectorizer to transform the test documents (ignore unknown words)\n",
    "        features_test = vectorizer.transform(words_test).toarray()\n",
    "        \n",
    "        # NOTE: Remember to convert the features using .toarray() for a compact representation\n",
    "        \n",
    "        # Write to cache file for future runs (store vocabulary as well)\n",
    "        if cache_file is not None:\n",
    "            vocabulary = vectorizer.vocabulary_\n",
    "            cache_data = dict(features_train=features_train, features_test=features_test,\n",
    "                             vocabulary=vocabulary)\n",
    "            with open(os.path.join(cache_dir, cache_file), \"wb\") as f:\n",
    "                joblib.dump(cache_data, f)\n",
    "            print(\"Wrote features to cache file:\", cache_file)\n",
    "    else:\n",
    "        # Unpack data loaded from cache file\n",
    "        features_train, features_test, vocabulary = (cache_data['features_train'],\n",
    "                cache_data['features_test'], cache_data['vocabulary'])\n",
    "    \n",
    "    # Return both the extracted features as well as the vocabulary\n",
    "    return features_train, features_test, vocabulary"
   ]
  },
  {
   "cell_type": "code",
   "execution_count": 12,
   "metadata": {},
   "outputs": [
    {
     "name": "stdout",
     "output_type": "stream",
     "text": [
      "Wrote features to cache file: bow_features.pkl\n"
     ]
    }
   ],
   "source": [
    "# Extract Bag of Words features for both training and test datasets\n",
    "train_X, test_X, vocabulary = extract_BoW_features(train_X, test_X)"
   ]
  },
  {
   "cell_type": "code",
   "execution_count": 13,
   "metadata": {},
   "outputs": [
    {
     "data": {
      "text/plain": [
       "5000"
      ]
     },
     "execution_count": 13,
     "metadata": {},
     "output_type": "execute_result"
    }
   ],
   "source": [
    "len(train_X[100])"
   ]
  },
  {
   "cell_type": "markdown",
   "metadata": {},
   "source": [
    "## Step 3: Upload data to S3\n",
    "\n",
    "Now that we have created the feature representation of our training (and testing) data, it is time to start setting up and using the XGBoost classifier provided by SageMaker.\n",
    "\n",
    "### Writing the datasets\n",
    "\n",
    "The XGBoost classifier that we will be using requires the dataset to be written to a file and stored using Amazon S3. To do this, we will start by splitting the training dataset into two parts, the data we will train the model with and a validation set. Then, we will write those datasets to a file locally and then upload the files to S3. In addition, we will write the test set to a file and upload that file to S3. This is so that we can use SageMakers Batch Transform functionality to test our model once we've fit it."
   ]
  },
  {
   "cell_type": "code",
   "execution_count": 14,
   "metadata": {},
   "outputs": [],
   "source": [
    "import pandas as pd\n",
    "\n",
    "# Earlier we shuffled the training dataset so to make things simple we can just assign\n",
    "# the first 10 000 reviews to the validation set and use the remaining reviews for training.\n",
    "val_X = pd.DataFrame(train_X[:10000])\n",
    "train_X = pd.DataFrame(train_X[10000:])\n",
    "\n",
    "val_y = pd.DataFrame(train_y[:10000])\n",
    "train_y = pd.DataFrame(train_y[10000:])"
   ]
  },
  {
   "cell_type": "markdown",
   "metadata": {},
   "source": [
    "The documentation for the XGBoost algorithm in SageMaker requires that the training and validation datasets should contain no headers or index and that the label should occur first for each sample.\n",
    "\n",
    "For more information about this and other algorithms, the SageMaker developer documentation can be found on __[Amazon's website.](https://docs.aws.amazon.com/sagemaker/latest/dg/)__"
   ]
  },
  {
   "cell_type": "code",
   "execution_count": 15,
   "metadata": {},
   "outputs": [],
   "source": [
    "# First we make sure that the local directory in which we'd like to store the training and validation csv files exists.\n",
    "data_dir = '../data/sentiment_web_app'\n",
    "if not os.path.exists(data_dir):\n",
    "    os.makedirs(data_dir)"
   ]
  },
  {
   "cell_type": "code",
   "execution_count": 16,
   "metadata": {},
   "outputs": [],
   "source": [
    "pd.DataFrame(test_X).to_csv(os.path.join(data_dir, 'test.csv'), header=False, index=False)\n",
    "\n",
    "pd.concat([val_y, val_X], axis=1).to_csv(os.path.join(data_dir, 'validation.csv'), header=False, index=False)\n",
    "pd.concat([train_y, train_X], axis=1).to_csv(os.path.join(data_dir, 'train.csv'), header=False, index=False)"
   ]
  },
  {
   "cell_type": "code",
   "execution_count": 17,
   "metadata": {},
   "outputs": [],
   "source": [
    "# To save a bit of memory we can set text_X, train_X, val_X, train_y and val_y to None.\n",
    "\n",
    "test_X = train_X = val_X = train_y = val_y = None"
   ]
  },
  {
   "cell_type": "markdown",
   "metadata": {},
   "source": [
    "### Uploading Training / Validation files to S3\n",
    "\n",
    "Amazon's S3 service allows us to store files that can be accessed by both the built-in training models such as the XGBoost model we will be using as well as custom models such as the one we will see a little later.\n",
    "\n",
    "For this and most other tasks we will be doing using SageMaker, there are two methods we could use. The first is to use the low level functionality of SageMaker which requires knowing each of the objects involved in the SageMaker environment. The second is to use the high level functionality in which certain choices have been made on the user's behalf. The low level approach benefits from allowing the user a great deal of flexibility while the high level approach makes development much quicker. For our purposes we will opt to use the high level approach although using the low-level approach is certainly an option.\n",
    "\n",
    "Recall the method `upload_data()` which is a member of the object representing our current SageMaker session. What this method does is upload the data to the default bucket (which is created if it does not exist) into the path described by the key_prefix variable. To see this for yourself, once you have uploaded the data files, go to the S3 console and look to see where the files have been uploaded.\n",
    "\n",
    "For additional resources, see the __[SageMaker API documentation](http://sagemaker.readthedocs.io/en/latest/)__ and in addition the __[SageMaker Developer Guide.](https://docs.aws.amazon.com/sagemaker/latest/dg/)__"
   ]
  },
  {
   "cell_type": "code",
   "execution_count": 18,
   "metadata": {},
   "outputs": [],
   "source": [
    "import sagemaker\n",
    "\n",
    "session = sagemaker.Session() # Store the current SageMaker session\n",
    "\n",
    "# S3 prefix (which folder will we use)\n",
    "prefix = 'sentiment-web-app'\n",
    "\n",
    "test_location = session.upload_data(os.path.join(data_dir, 'test.csv'), key_prefix=prefix)\n",
    "val_location = session.upload_data(os.path.join(data_dir, 'validation.csv'), key_prefix=prefix)\n",
    "train_location = session.upload_data(os.path.join(data_dir, 'train.csv'), key_prefix=prefix)"
   ]
  },
  {
   "cell_type": "markdown",
   "metadata": {},
   "source": [
    "## Step 4: Creating the XGBoost model\n",
    "\n",
    "Now that the data has been uploaded it is time to create the XGBoost model. To begin with, we need to do some setup. At this point it is worth discussing what a model is in SageMaker. It is easiest to think of a model of comprising three different objects in the SageMaker ecosystem, which interact with one another.\n",
    "\n",
    "- Model Artifacts\n",
    "- Training Code (Container)\n",
    "- Inference Code (Container)\n",
    "\n",
    "The Model Artifacts are what you might think of as the actual model itself. For example, if you were building a neural network, the model artifacts would be the weights of the various layers. In our case, for an XGBoost model, the artifacts are the actual trees that are created during training.\n",
    "\n",
    "The other two objects, the training code and the inference code are then used to manipulate the training artifacts. More precisely, the training code uses the training data that is provided and creates the model artifacts, while the inference code uses the model artifacts to make predictions on new data.\n",
    "\n",
    "The way that SageMaker runs the training and inference code is by making use of Docker containers. For now, think of a container as being a way of packaging code up so that dependencies aren't an issue."
   ]
  },
  {
   "cell_type": "code",
   "execution_count": 19,
   "metadata": {},
   "outputs": [],
   "source": [
    "from sagemaker import get_execution_role\n",
    "\n",
    "# Our current execution role is required when creating the model as the training\n",
    "# and inference code will need to access the model artifacts.\n",
    "role = get_execution_role()"
   ]
  },
  {
   "cell_type": "code",
   "execution_count": 20,
   "metadata": {},
   "outputs": [],
   "source": [
    "# We need to retrieve the location of the container which is provided by Amazon for using XGBoost.\n",
    "# As a matter of convenience, the training and inference code both use the same container.\n",
    "from sagemaker.amazon.amazon_estimator import get_image_uri\n",
    "\n",
    "container = get_image_uri(session.boto_region_name, 'xgboost')"
   ]
  },
  {
   "cell_type": "code",
   "execution_count": 21,
   "metadata": {},
   "outputs": [],
   "source": [
    "# First we create a SageMaker estimator object for our model.\n",
    "xgb = sagemaker.estimator.Estimator(container, # The location of the container we wish to use\n",
    "                                    role,                                    # What is our current IAM Role\n",
    "                                    train_instance_count=1,                  # How many compute instances\n",
    "                                    train_instance_type='ml.m4.xlarge',      # What kind of compute instances\n",
    "                                    output_path='s3://{}/{}/output'.format(session.default_bucket(), prefix),\n",
    "                                    sagemaker_session=session)\n",
    "\n",
    "# And then set the algorithm specific parameters.\n",
    "xgb.set_hyperparameters(max_depth=5,\n",
    "                        eta=0.2,\n",
    "                        gamma=4,\n",
    "                        min_child_weight=6,\n",
    "                        subsample=0.8,\n",
    "                        silent=0,\n",
    "                        objective='binary:logistic',\n",
    "                        early_stopping_rounds=10,\n",
    "                        num_round=500)"
   ]
  },
  {
   "cell_type": "markdown",
   "metadata": {},
   "source": [
    "### Fit the XGBoost model\n",
    "\n",
    "Now that our model has been set up we simply need to attach the training and validation datasets and then ask SageMaker to set up the computation."
   ]
  },
  {
   "cell_type": "code",
   "execution_count": 22,
   "metadata": {},
   "outputs": [],
   "source": [
    "s3_input_train = sagemaker.s3_input(s3_data=train_location, content_type='csv')\n",
    "s3_input_validation = sagemaker.s3_input(s3_data=val_location, content_type='csv')"
   ]
  },
  {
   "cell_type": "code",
   "execution_count": 23,
   "metadata": {},
   "outputs": [
    {
     "name": "stdout",
     "output_type": "stream",
     "text": [
      "2019-08-08 01:38:29 Starting - Starting the training job...\n",
      "2019-08-08 01:38:31 Starting - Launching requested ML instances......\n",
      "2019-08-08 01:39:32 Starting - Preparing the instances for training...\n",
      "2019-08-08 01:40:30 Downloading - Downloading input data...\n",
      "2019-08-08 01:40:50 Training - Downloading the training image...\n",
      "2019-08-08 01:41:11 Training - Training image download completed. Training in progress.\n",
      "\u001b[31mArguments: train\u001b[0m\n",
      "\u001b[31m[2019-08-08:01:41:11:INFO] Running standalone xgboost training.\u001b[0m\n",
      "\u001b[31m[2019-08-08:01:41:11:INFO] File size need to be processed in the node: 238.5mb. Available memory size in the node: 8586.63mb\u001b[0m\n",
      "\u001b[31m[2019-08-08:01:41:11:INFO] Determined delimiter of CSV input is ','\u001b[0m\n",
      "\u001b[31m[01:41:11] S3DistributionType set as FullyReplicated\u001b[0m\n",
      "\u001b[31m[01:41:13] 15000x5000 matrix with 75000000 entries loaded from /opt/ml/input/data/train?format=csv&label_column=0&delimiter=,\u001b[0m\n",
      "\u001b[31m[2019-08-08:01:41:13:INFO] Determined delimiter of CSV input is ','\u001b[0m\n",
      "\u001b[31m[01:41:13] S3DistributionType set as FullyReplicated\u001b[0m\n",
      "\u001b[31m[01:41:14] 10000x5000 matrix with 50000000 entries loaded from /opt/ml/input/data/validation?format=csv&label_column=0&delimiter=,\u001b[0m\n",
      "\u001b[31m[01:41:17] src/tree/updater_prune.cc:74: tree pruning end, 1 roots, 46 extra nodes, 8 pruned nodes, max_depth=5\u001b[0m\n",
      "\u001b[31m[0]#011train-error:0.3016#011validation-error:0.3125\u001b[0m\n",
      "\u001b[31mMultiple eval metrics have been passed: 'validation-error' will be used for early stopping.\n",
      "\u001b[0m\n",
      "\u001b[31mWill train until validation-error hasn't improved in 10 rounds.\u001b[0m\n",
      "\u001b[31m[01:41:19] src/tree/updater_prune.cc:74: tree pruning end, 1 roots, 36 extra nodes, 6 pruned nodes, max_depth=5\u001b[0m\n",
      "\u001b[31m[1]#011train-error:0.300467#011validation-error:0.3112\u001b[0m\n",
      "\u001b[31m[01:41:20] src/tree/updater_prune.cc:74: tree pruning end, 1 roots, 40 extra nodes, 4 pruned nodes, max_depth=5\u001b[0m\n",
      "\u001b[31m[2]#011train-error:0.2992#011validation-error:0.311\u001b[0m\n",
      "\u001b[31m[01:41:22] src/tree/updater_prune.cc:74: tree pruning end, 1 roots, 28 extra nodes, 4 pruned nodes, max_depth=5\u001b[0m\n",
      "\u001b[31m[3]#011train-error:0.2782#011validation-error:0.2885\u001b[0m\n",
      "\u001b[31m[01:41:23] src/tree/updater_prune.cc:74: tree pruning end, 1 roots, 42 extra nodes, 12 pruned nodes, max_depth=5\u001b[0m\n",
      "\u001b[31m[4]#011train-error:0.270933#011validation-error:0.2805\u001b[0m\n",
      "\u001b[31m[01:41:24] src/tree/updater_prune.cc:74: tree pruning end, 1 roots, 28 extra nodes, 8 pruned nodes, max_depth=5\u001b[0m\n",
      "\u001b[31m[5]#011train-error:0.258733#011validation-error:0.2674\u001b[0m\n",
      "\u001b[31m[01:41:25] src/tree/updater_prune.cc:74: tree pruning end, 1 roots, 42 extra nodes, 4 pruned nodes, max_depth=5\u001b[0m\n",
      "\u001b[31m[6]#011train-error:0.2472#011validation-error:0.2573\u001b[0m\n",
      "\u001b[31m[01:41:27] src/tree/updater_prune.cc:74: tree pruning end, 1 roots, 28 extra nodes, 2 pruned nodes, max_depth=5\u001b[0m\n",
      "\u001b[31m[7]#011train-error:0.2402#011validation-error:0.2503\u001b[0m\n",
      "\u001b[31m[01:41:28] src/tree/updater_prune.cc:74: tree pruning end, 1 roots, 24 extra nodes, 8 pruned nodes, max_depth=5\u001b[0m\n",
      "\u001b[31m[8]#011train-error:0.231867#011validation-error:0.2445\u001b[0m\n",
      "\u001b[31m[01:41:29] src/tree/updater_prune.cc:74: tree pruning end, 1 roots, 42 extra nodes, 8 pruned nodes, max_depth=5\u001b[0m\n",
      "\u001b[31m[9]#011train-error:0.230067#011validation-error:0.2423\u001b[0m\n",
      "\u001b[31m[01:41:30] src/tree/updater_prune.cc:74: tree pruning end, 1 roots, 36 extra nodes, 6 pruned nodes, max_depth=5\u001b[0m\n",
      "\u001b[31m[10]#011train-error:0.221733#011validation-error:0.2363\u001b[0m\n",
      "\u001b[31m[01:41:32] src/tree/updater_prune.cc:74: tree pruning end, 1 roots, 34 extra nodes, 0 pruned nodes, max_depth=5\u001b[0m\n",
      "\u001b[31m[11]#011train-error:0.217#011validation-error:0.2317\u001b[0m\n",
      "\u001b[31m[01:41:33] src/tree/updater_prune.cc:74: tree pruning end, 1 roots, 38 extra nodes, 0 pruned nodes, max_depth=5\u001b[0m\n",
      "\u001b[31m[12]#011train-error:0.213867#011validation-error:0.2296\u001b[0m\n",
      "\u001b[31m[01:41:34] src/tree/updater_prune.cc:74: tree pruning end, 1 roots, 32 extra nodes, 6 pruned nodes, max_depth=5\u001b[0m\n",
      "\u001b[31m[13]#011train-error:0.208733#011validation-error:0.2265\u001b[0m\n",
      "\u001b[31m[01:41:35] src/tree/updater_prune.cc:74: tree pruning end, 1 roots, 46 extra nodes, 6 pruned nodes, max_depth=5\u001b[0m\n",
      "\u001b[31m[14]#011train-error:0.203067#011validation-error:0.2199\u001b[0m\n",
      "\u001b[31m[01:41:37] src/tree/updater_prune.cc:74: tree pruning end, 1 roots, 30 extra nodes, 8 pruned nodes, max_depth=5\u001b[0m\n",
      "\u001b[31m[15]#011train-error:0.2004#011validation-error:0.2188\u001b[0m\n",
      "\u001b[31m[01:41:38] src/tree/updater_prune.cc:74: tree pruning end, 1 roots, 32 extra nodes, 6 pruned nodes, max_depth=5\u001b[0m\n",
      "\u001b[31m[16]#011train-error:0.197333#011validation-error:0.2161\u001b[0m\n",
      "\u001b[31m[01:41:39] src/tree/updater_prune.cc:74: tree pruning end, 1 roots, 44 extra nodes, 8 pruned nodes, max_depth=5\u001b[0m\n",
      "\u001b[31m[17]#011train-error:0.193133#011validation-error:0.212\u001b[0m\n",
      "\u001b[31m[01:41:40] src/tree/updater_prune.cc:74: tree pruning end, 1 roots, 22 extra nodes, 14 pruned nodes, max_depth=5\u001b[0m\n",
      "\u001b[31m[18]#011train-error:0.190667#011validation-error:0.2103\u001b[0m\n",
      "\u001b[31m[01:41:42] src/tree/updater_prune.cc:74: tree pruning end, 1 roots, 32 extra nodes, 4 pruned nodes, max_depth=5\u001b[0m\n",
      "\u001b[31m[19]#011train-error:0.187267#011validation-error:0.2073\u001b[0m\n",
      "\u001b[31m[01:41:43] src/tree/updater_prune.cc:74: tree pruning end, 1 roots, 16 extra nodes, 20 pruned nodes, max_depth=5\u001b[0m\n",
      "\u001b[31m[20]#011train-error:0.1856#011validation-error:0.2072\u001b[0m\n",
      "\u001b[31m[01:41:44] src/tree/updater_prune.cc:74: tree pruning end, 1 roots, 14 extra nodes, 8 pruned nodes, max_depth=5\u001b[0m\n",
      "\u001b[31m[21]#011train-error:0.1836#011validation-error:0.2059\u001b[0m\n",
      "\u001b[31m[01:41:46] src/tree/updater_prune.cc:74: tree pruning end, 1 roots, 24 extra nodes, 4 pruned nodes, max_depth=5\u001b[0m\n",
      "\u001b[31m[22]#011train-error:0.1802#011validation-error:0.204\u001b[0m\n",
      "\u001b[31m[01:41:47] src/tree/updater_prune.cc:74: tree pruning end, 1 roots, 26 extra nodes, 18 pruned nodes, max_depth=5\u001b[0m\n",
      "\u001b[31m[23]#011train-error:0.179467#011validation-error:0.2035\u001b[0m\n",
      "\u001b[31m[01:41:48] src/tree/updater_prune.cc:74: tree pruning end, 1 roots, 20 extra nodes, 12 pruned nodes, max_depth=5\u001b[0m\n",
      "\u001b[31m[24]#011train-error:0.177867#011validation-error:0.2014\u001b[0m\n",
      "\u001b[31m[01:41:49] src/tree/updater_prune.cc:74: tree pruning end, 1 roots, 32 extra nodes, 8 pruned nodes, max_depth=5\u001b[0m\n",
      "\u001b[31m[25]#011train-error:0.1756#011validation-error:0.199\u001b[0m\n",
      "\u001b[31m[01:41:51] src/tree/updater_prune.cc:74: tree pruning end, 1 roots, 30 extra nodes, 14 pruned nodes, max_depth=5\u001b[0m\n",
      "\u001b[31m[26]#011train-error:0.173533#011validation-error:0.1978\u001b[0m\n",
      "\u001b[31m[01:41:52] src/tree/updater_prune.cc:74: tree pruning end, 1 roots, 22 extra nodes, 10 pruned nodes, max_depth=5\u001b[0m\n",
      "\u001b[31m[27]#011train-error:0.172#011validation-error:0.1964\u001b[0m\n",
      "\u001b[31m[01:41:53] src/tree/updater_prune.cc:74: tree pruning end, 1 roots, 18 extra nodes, 6 pruned nodes, max_depth=5\u001b[0m\n",
      "\u001b[31m[28]#011train-error:0.170467#011validation-error:0.1962\u001b[0m\n",
      "\u001b[31m[01:41:54] src/tree/updater_prune.cc:74: tree pruning end, 1 roots, 18 extra nodes, 10 pruned nodes, max_depth=5\u001b[0m\n",
      "\u001b[31m[29]#011train-error:0.1688#011validation-error:0.1938\u001b[0m\n",
      "\u001b[31m[01:41:56] src/tree/updater_prune.cc:74: tree pruning end, 1 roots, 30 extra nodes, 14 pruned nodes, max_depth=5\u001b[0m\n",
      "\u001b[31m[30]#011train-error:0.166733#011validation-error:0.1935\u001b[0m\n",
      "\u001b[31m[01:41:57] src/tree/updater_prune.cc:74: tree pruning end, 1 roots, 38 extra nodes, 4 pruned nodes, max_depth=5\u001b[0m\n",
      "\u001b[31m[31]#011train-error:0.163733#011validation-error:0.1922\u001b[0m\n",
      "\u001b[31m[01:41:58] src/tree/updater_prune.cc:74: tree pruning end, 1 roots, 16 extra nodes, 8 pruned nodes, max_depth=5\u001b[0m\n",
      "\u001b[31m[32]#011train-error:0.163533#011validation-error:0.1908\u001b[0m\n",
      "\u001b[31m[01:41:59] src/tree/updater_prune.cc:74: tree pruning end, 1 roots, 30 extra nodes, 4 pruned nodes, max_depth=5\u001b[0m\n",
      "\u001b[31m[33]#011train-error:0.162867#011validation-error:0.1891\u001b[0m\n",
      "\u001b[31m[01:42:01] src/tree/updater_prune.cc:74: tree pruning end, 1 roots, 26 extra nodes, 14 pruned nodes, max_depth=5\u001b[0m\n",
      "\u001b[31m[34]#011train-error:0.1606#011validation-error:0.1882\u001b[0m\n",
      "\u001b[31m[01:42:02] src/tree/updater_prune.cc:74: tree pruning end, 1 roots, 28 extra nodes, 6 pruned nodes, max_depth=5\u001b[0m\n",
      "\u001b[31m[35]#011train-error:0.1576#011validation-error:0.1853\u001b[0m\n",
      "\u001b[31m[01:42:03] src/tree/updater_prune.cc:74: tree pruning end, 1 roots, 26 extra nodes, 12 pruned nodes, max_depth=5\u001b[0m\n",
      "\u001b[31m[36]#011train-error:0.156#011validation-error:0.1858\u001b[0m\n",
      "\u001b[31m[01:42:04] src/tree/updater_prune.cc:74: tree pruning end, 1 roots, 28 extra nodes, 14 pruned nodes, max_depth=5\u001b[0m\n",
      "\u001b[31m[37]#011train-error:0.156133#011validation-error:0.1847\u001b[0m\n",
      "\u001b[31m[01:42:06] src/tree/updater_prune.cc:74: tree pruning end, 1 roots, 24 extra nodes, 12 pruned nodes, max_depth=5\u001b[0m\n",
      "\u001b[31m[38]#011train-error:0.154267#011validation-error:0.1844\u001b[0m\n",
      "\u001b[31m[01:42:07] src/tree/updater_prune.cc:74: tree pruning end, 1 roots, 20 extra nodes, 6 pruned nodes, max_depth=5\u001b[0m\n",
      "\u001b[31m[39]#011train-error:0.153067#011validation-error:0.1837\u001b[0m\n",
      "\u001b[31m[01:42:08] src/tree/updater_prune.cc:74: tree pruning end, 1 roots, 16 extra nodes, 14 pruned nodes, max_depth=5\u001b[0m\n",
      "\u001b[31m[40]#011train-error:0.1534#011validation-error:0.1844\u001b[0m\n"
     ]
    },
    {
     "name": "stdout",
     "output_type": "stream",
     "text": [
      "\u001b[31m[01:42:10] src/tree/updater_prune.cc:74: tree pruning end, 1 roots, 20 extra nodes, 12 pruned nodes, max_depth=5\u001b[0m\n",
      "\u001b[31m[41]#011train-error:0.152467#011validation-error:0.1834\u001b[0m\n",
      "\u001b[31m[01:42:11] src/tree/updater_prune.cc:74: tree pruning end, 1 roots, 28 extra nodes, 18 pruned nodes, max_depth=5\u001b[0m\n",
      "\u001b[31m[42]#011train-error:0.151467#011validation-error:0.1824\u001b[0m\n",
      "\u001b[31m[01:42:12] src/tree/updater_prune.cc:74: tree pruning end, 1 roots, 32 extra nodes, 10 pruned nodes, max_depth=5\u001b[0m\n",
      "\u001b[31m[43]#011train-error:0.149667#011validation-error:0.1819\u001b[0m\n",
      "\u001b[31m[01:42:13] src/tree/updater_prune.cc:74: tree pruning end, 1 roots, 10 extra nodes, 14 pruned nodes, max_depth=5\u001b[0m\n",
      "\u001b[31m[44]#011train-error:0.147933#011validation-error:0.1796\u001b[0m\n",
      "\u001b[31m[01:42:15] src/tree/updater_prune.cc:74: tree pruning end, 1 roots, 32 extra nodes, 12 pruned nodes, max_depth=5\u001b[0m\n",
      "\u001b[31m[45]#011train-error:0.147#011validation-error:0.178\u001b[0m\n",
      "\u001b[31m[01:42:16] src/tree/updater_prune.cc:74: tree pruning end, 1 roots, 26 extra nodes, 8 pruned nodes, max_depth=5\u001b[0m\n",
      "\u001b[31m[46]#011train-error:0.1456#011validation-error:0.1794\u001b[0m\n",
      "\u001b[31m[01:42:17] src/tree/updater_prune.cc:74: tree pruning end, 1 roots, 20 extra nodes, 12 pruned nodes, max_depth=5\u001b[0m\n",
      "\u001b[31m[47]#011train-error:0.145533#011validation-error:0.1785\u001b[0m\n",
      "\u001b[31m[01:42:18] src/tree/updater_prune.cc:74: tree pruning end, 1 roots, 26 extra nodes, 6 pruned nodes, max_depth=5\u001b[0m\n",
      "\u001b[31m[48]#011train-error:0.1444#011validation-error:0.1774\u001b[0m\n",
      "\u001b[31m[01:42:20] src/tree/updater_prune.cc:74: tree pruning end, 1 roots, 30 extra nodes, 8 pruned nodes, max_depth=5\u001b[0m\n",
      "\u001b[31m[49]#011train-error:0.143533#011validation-error:0.177\u001b[0m\n",
      "\u001b[31m[01:42:21] src/tree/updater_prune.cc:74: tree pruning end, 1 roots, 12 extra nodes, 10 pruned nodes, max_depth=5\u001b[0m\n",
      "\u001b[31m[50]#011train-error:0.142533#011validation-error:0.1761\u001b[0m\n",
      "\u001b[31m[01:42:22] src/tree/updater_prune.cc:74: tree pruning end, 1 roots, 18 extra nodes, 4 pruned nodes, max_depth=5\u001b[0m\n",
      "\u001b[31m[51]#011train-error:0.141267#011validation-error:0.176\u001b[0m\n",
      "\u001b[31m[01:42:23] src/tree/updater_prune.cc:74: tree pruning end, 1 roots, 26 extra nodes, 12 pruned nodes, max_depth=5\u001b[0m\n",
      "\u001b[31m[52]#011train-error:0.140467#011validation-error:0.1753\u001b[0m\n",
      "\u001b[31m[01:42:25] src/tree/updater_prune.cc:74: tree pruning end, 1 roots, 20 extra nodes, 12 pruned nodes, max_depth=5\u001b[0m\n",
      "\u001b[31m[53]#011train-error:0.1392#011validation-error:0.174\u001b[0m\n",
      "\u001b[31m[01:42:26] src/tree/updater_prune.cc:74: tree pruning end, 1 roots, 16 extra nodes, 12 pruned nodes, max_depth=5\u001b[0m\n",
      "\u001b[31m[54]#011train-error:0.139333#011validation-error:0.1733\u001b[0m\n",
      "\u001b[31m[01:42:27] src/tree/updater_prune.cc:74: tree pruning end, 1 roots, 30 extra nodes, 10 pruned nodes, max_depth=5\u001b[0m\n",
      "\u001b[31m[55]#011train-error:0.137067#011validation-error:0.1724\u001b[0m\n",
      "\u001b[31m[01:42:29] src/tree/updater_prune.cc:74: tree pruning end, 1 roots, 26 extra nodes, 4 pruned nodes, max_depth=5\u001b[0m\n",
      "\u001b[31m[56]#011train-error:0.1364#011validation-error:0.1725\u001b[0m\n",
      "\u001b[31m[01:42:30] src/tree/updater_prune.cc:74: tree pruning end, 1 roots, 24 extra nodes, 2 pruned nodes, max_depth=5\u001b[0m\n",
      "\u001b[31m[57]#011train-error:0.134267#011validation-error:0.1704\u001b[0m\n",
      "\u001b[31m[01:42:31] src/tree/updater_prune.cc:74: tree pruning end, 1 roots, 14 extra nodes, 6 pruned nodes, max_depth=5\u001b[0m\n",
      "\u001b[31m[58]#011train-error:0.1332#011validation-error:0.169\u001b[0m\n",
      "\u001b[31m[01:42:32] src/tree/updater_prune.cc:74: tree pruning end, 1 roots, 16 extra nodes, 6 pruned nodes, max_depth=5\u001b[0m\n",
      "\u001b[31m[59]#011train-error:0.131933#011validation-error:0.1685\u001b[0m\n",
      "\u001b[31m[01:42:34] src/tree/updater_prune.cc:74: tree pruning end, 1 roots, 22 extra nodes, 10 pruned nodes, max_depth=5\u001b[0m\n",
      "\u001b[31m[60]#011train-error:0.131733#011validation-error:0.1682\u001b[0m\n",
      "\u001b[31m[01:42:35] src/tree/updater_prune.cc:74: tree pruning end, 1 roots, 14 extra nodes, 18 pruned nodes, max_depth=5\u001b[0m\n",
      "\u001b[31m[61]#011train-error:0.130933#011validation-error:0.1669\u001b[0m\n",
      "\u001b[31m[01:42:36] src/tree/updater_prune.cc:74: tree pruning end, 1 roots, 20 extra nodes, 6 pruned nodes, max_depth=5\u001b[0m\n",
      "\u001b[31m[62]#011train-error:0.130533#011validation-error:0.167\u001b[0m\n",
      "\u001b[31m[01:42:37] src/tree/updater_prune.cc:74: tree pruning end, 1 roots, 20 extra nodes, 6 pruned nodes, max_depth=5\u001b[0m\n",
      "\u001b[31m[63]#011train-error:0.129333#011validation-error:0.1656\u001b[0m\n",
      "\u001b[31m[01:42:39] src/tree/updater_prune.cc:74: tree pruning end, 1 roots, 20 extra nodes, 8 pruned nodes, max_depth=5\u001b[0m\n",
      "\u001b[31m[64]#011train-error:0.1286#011validation-error:0.1652\u001b[0m\n",
      "\u001b[31m[01:42:40] src/tree/updater_prune.cc:74: tree pruning end, 1 roots, 22 extra nodes, 16 pruned nodes, max_depth=5\u001b[0m\n",
      "\u001b[31m[65]#011train-error:0.126533#011validation-error:0.1653\u001b[0m\n",
      "\u001b[31m[01:42:41] src/tree/updater_prune.cc:74: tree pruning end, 1 roots, 22 extra nodes, 12 pruned nodes, max_depth=5\u001b[0m\n",
      "\u001b[31m[66]#011train-error:0.1256#011validation-error:0.1647\u001b[0m\n",
      "\u001b[31m[01:42:42] src/tree/updater_prune.cc:74: tree pruning end, 1 roots, 16 extra nodes, 6 pruned nodes, max_depth=5\u001b[0m\n",
      "\u001b[31m[67]#011train-error:0.125867#011validation-error:0.1632\u001b[0m\n",
      "\u001b[31m[01:42:44] src/tree/updater_prune.cc:74: tree pruning end, 1 roots, 28 extra nodes, 12 pruned nodes, max_depth=5\u001b[0m\n",
      "\u001b[31m[68]#011train-error:0.1242#011validation-error:0.163\u001b[0m\n",
      "\u001b[31m[01:42:45] src/tree/updater_prune.cc:74: tree pruning end, 1 roots, 26 extra nodes, 4 pruned nodes, max_depth=5\u001b[0m\n",
      "\u001b[31m[69]#011train-error:0.123533#011validation-error:0.1623\u001b[0m\n",
      "\u001b[31m[01:42:46] src/tree/updater_prune.cc:74: tree pruning end, 1 roots, 12 extra nodes, 8 pruned nodes, max_depth=5\u001b[0m\n",
      "\u001b[31m[70]#011train-error:0.123733#011validation-error:0.1625\u001b[0m\n",
      "\u001b[31m[01:42:47] src/tree/updater_prune.cc:74: tree pruning end, 1 roots, 16 extra nodes, 2 pruned nodes, max_depth=5\u001b[0m\n",
      "\u001b[31m[71]#011train-error:0.123067#011validation-error:0.1613\u001b[0m\n",
      "\u001b[31m[01:42:49] src/tree/updater_prune.cc:74: tree pruning end, 1 roots, 12 extra nodes, 6 pruned nodes, max_depth=5\u001b[0m\n",
      "\u001b[31m[72]#011train-error:0.121933#011validation-error:0.1602\u001b[0m\n",
      "\u001b[31m[01:42:50] src/tree/updater_prune.cc:74: tree pruning end, 1 roots, 12 extra nodes, 2 pruned nodes, max_depth=5\u001b[0m\n",
      "\u001b[31m[73]#011train-error:0.1212#011validation-error:0.1602\u001b[0m\n",
      "\u001b[31m[01:42:51] src/tree/updater_prune.cc:74: tree pruning end, 1 roots, 18 extra nodes, 10 pruned nodes, max_depth=5\u001b[0m\n",
      "\u001b[31m[74]#011train-error:0.121333#011validation-error:0.1598\u001b[0m\n",
      "\u001b[31m[01:42:52] src/tree/updater_prune.cc:74: tree pruning end, 1 roots, 26 extra nodes, 6 pruned nodes, max_depth=5\u001b[0m\n",
      "\u001b[31m[75]#011train-error:0.121067#011validation-error:0.1599\u001b[0m\n",
      "\u001b[31m[01:42:54] src/tree/updater_prune.cc:74: tree pruning end, 1 roots, 20 extra nodes, 10 pruned nodes, max_depth=5\u001b[0m\n",
      "\u001b[31m[76]#011train-error:0.1198#011validation-error:0.1593\u001b[0m\n",
      "\u001b[31m[01:42:55] src/tree/updater_prune.cc:74: tree pruning end, 1 roots, 14 extra nodes, 2 pruned nodes, max_depth=5\u001b[0m\n",
      "\u001b[31m[77]#011train-error:0.119533#011validation-error:0.1587\u001b[0m\n",
      "\u001b[31m[01:42:56] src/tree/updater_prune.cc:74: tree pruning end, 1 roots, 14 extra nodes, 14 pruned nodes, max_depth=5\u001b[0m\n",
      "\u001b[31m[78]#011train-error:0.118667#011validation-error:0.1583\u001b[0m\n",
      "\u001b[31m[01:42:57] src/tree/updater_prune.cc:74: tree pruning end, 1 roots, 22 extra nodes, 14 pruned nodes, max_depth=5\u001b[0m\n",
      "\u001b[31m[79]#011train-error:0.117867#011validation-error:0.1578\u001b[0m\n",
      "\u001b[31m[01:42:59] src/tree/updater_prune.cc:74: tree pruning end, 1 roots, 22 extra nodes, 10 pruned nodes, max_depth=5\u001b[0m\n",
      "\u001b[31m[80]#011train-error:0.117533#011validation-error:0.1588\u001b[0m\n",
      "\u001b[31m[01:43:00] src/tree/updater_prune.cc:74: tree pruning end, 1 roots, 20 extra nodes, 8 pruned nodes, max_depth=5\u001b[0m\n",
      "\u001b[31m[81]#011train-error:0.116133#011validation-error:0.1584\u001b[0m\n",
      "\u001b[31m[01:43:01] src/tree/updater_prune.cc:74: tree pruning end, 1 roots, 24 extra nodes, 6 pruned nodes, max_depth=5\u001b[0m\n",
      "\u001b[31m[82]#011train-error:0.115333#011validation-error:0.157\u001b[0m\n",
      "\u001b[31m[01:43:03] src/tree/updater_prune.cc:74: tree pruning end, 1 roots, 26 extra nodes, 12 pruned nodes, max_depth=5\u001b[0m\n",
      "\u001b[31m[83]#011train-error:0.114867#011validation-error:0.1573\u001b[0m\n",
      "\u001b[31m[01:43:04] src/tree/updater_prune.cc:74: tree pruning end, 1 roots, 22 extra nodes, 8 pruned nodes, max_depth=5\u001b[0m\n",
      "\u001b[31m[84]#011train-error:0.114067#011validation-error:0.1571\u001b[0m\n",
      "\u001b[31m[01:43:05] src/tree/updater_prune.cc:74: tree pruning end, 1 roots, 12 extra nodes, 14 pruned nodes, max_depth=5\u001b[0m\n",
      "\u001b[31m[85]#011train-error:0.113667#011validation-error:0.1581\u001b[0m\n",
      "\u001b[31m[01:43:06] src/tree/updater_prune.cc:74: tree pruning end, 1 roots, 16 extra nodes, 8 pruned nodes, max_depth=5\u001b[0m\n",
      "\u001b[31m[86]#011train-error:0.113#011validation-error:0.1585\u001b[0m\n",
      "\u001b[31m[01:43:08] src/tree/updater_prune.cc:74: tree pruning end, 1 roots, 18 extra nodes, 6 pruned nodes, max_depth=5\u001b[0m\n",
      "\u001b[31m[87]#011train-error:0.112333#011validation-error:0.1586\u001b[0m\n",
      "\u001b[31m[01:43:09] src/tree/updater_prune.cc:74: tree pruning end, 1 roots, 44 extra nodes, 2 pruned nodes, max_depth=5\u001b[0m\n",
      "\u001b[31m[88]#011train-error:0.111#011validation-error:0.1575\u001b[0m\n"
     ]
    },
    {
     "name": "stdout",
     "output_type": "stream",
     "text": [
      "\u001b[31m[01:43:10] src/tree/updater_prune.cc:74: tree pruning end, 1 roots, 26 extra nodes, 12 pruned nodes, max_depth=5\u001b[0m\n",
      "\u001b[31m[89]#011train-error:0.109733#011validation-error:0.1569\u001b[0m\n",
      "\u001b[31m[01:43:11] src/tree/updater_prune.cc:74: tree pruning end, 1 roots, 14 extra nodes, 6 pruned nodes, max_depth=5\u001b[0m\n",
      "\u001b[31m[90]#011train-error:0.109533#011validation-error:0.1578\u001b[0m\n",
      "\u001b[31m[01:43:13] src/tree/updater_prune.cc:74: tree pruning end, 1 roots, 18 extra nodes, 2 pruned nodes, max_depth=5\u001b[0m\n",
      "\u001b[31m[91]#011train-error:0.108933#011validation-error:0.1566\u001b[0m\n",
      "\u001b[31m[01:43:14] src/tree/updater_prune.cc:74: tree pruning end, 1 roots, 12 extra nodes, 0 pruned nodes, max_depth=5\u001b[0m\n",
      "\u001b[31m[92]#011train-error:0.1092#011validation-error:0.1567\u001b[0m\n",
      "\u001b[31m[01:43:15] src/tree/updater_prune.cc:74: tree pruning end, 1 roots, 12 extra nodes, 6 pruned nodes, max_depth=5\u001b[0m\n",
      "\u001b[31m[93]#011train-error:0.1082#011validation-error:0.1558\u001b[0m\n",
      "\u001b[31m[01:43:16] src/tree/updater_prune.cc:74: tree pruning end, 1 roots, 16 extra nodes, 14 pruned nodes, max_depth=5\u001b[0m\n",
      "\u001b[31m[94]#011train-error:0.108067#011validation-error:0.1557\u001b[0m\n",
      "\u001b[31m[01:43:18] src/tree/updater_prune.cc:74: tree pruning end, 1 roots, 26 extra nodes, 16 pruned nodes, max_depth=5\u001b[0m\n",
      "\u001b[31m[95]#011train-error:0.107867#011validation-error:0.1553\u001b[0m\n",
      "\u001b[31m[01:43:19] src/tree/updater_prune.cc:74: tree pruning end, 1 roots, 14 extra nodes, 14 pruned nodes, max_depth=5\u001b[0m\n",
      "\u001b[31m[96]#011train-error:0.107533#011validation-error:0.1542\u001b[0m\n",
      "\u001b[31m[01:43:20] src/tree/updater_prune.cc:74: tree pruning end, 1 roots, 16 extra nodes, 10 pruned nodes, max_depth=5\u001b[0m\n",
      "\u001b[31m[97]#011train-error:0.106467#011validation-error:0.1543\u001b[0m\n",
      "\u001b[31m[01:43:21] src/tree/updater_prune.cc:74: tree pruning end, 1 roots, 18 extra nodes, 16 pruned nodes, max_depth=5\u001b[0m\n",
      "\u001b[31m[98]#011train-error:0.106467#011validation-error:0.1539\u001b[0m\n",
      "\u001b[31m[01:43:23] src/tree/updater_prune.cc:74: tree pruning end, 1 roots, 24 extra nodes, 8 pruned nodes, max_depth=5\u001b[0m\n",
      "\u001b[31m[99]#011train-error:0.105267#011validation-error:0.1533\u001b[0m\n",
      "\u001b[31m[01:43:24] src/tree/updater_prune.cc:74: tree pruning end, 1 roots, 20 extra nodes, 10 pruned nodes, max_depth=5\u001b[0m\n",
      "\u001b[31m[100]#011train-error:0.104867#011validation-error:0.1526\u001b[0m\n",
      "\u001b[31m[01:43:25] src/tree/updater_prune.cc:74: tree pruning end, 1 roots, 24 extra nodes, 6 pruned nodes, max_depth=5\u001b[0m\n",
      "\u001b[31m[101]#011train-error:0.103067#011validation-error:0.1522\u001b[0m\n",
      "\u001b[31m[01:43:26] src/tree/updater_prune.cc:74: tree pruning end, 1 roots, 32 extra nodes, 8 pruned nodes, max_depth=5\u001b[0m\n",
      "\u001b[31m[102]#011train-error:0.102533#011validation-error:0.1513\u001b[0m\n",
      "\u001b[31m[01:43:28] src/tree/updater_prune.cc:74: tree pruning end, 1 roots, 14 extra nodes, 8 pruned nodes, max_depth=5\u001b[0m\n",
      "\u001b[31m[103]#011train-error:0.102533#011validation-error:0.1512\u001b[0m\n",
      "\u001b[31m[01:43:29] src/tree/updater_prune.cc:74: tree pruning end, 1 roots, 30 extra nodes, 8 pruned nodes, max_depth=5\u001b[0m\n",
      "\u001b[31m[104]#011train-error:0.101333#011validation-error:0.1515\u001b[0m\n",
      "\u001b[31m[01:43:30] src/tree/updater_prune.cc:74: tree pruning end, 1 roots, 24 extra nodes, 12 pruned nodes, max_depth=5\u001b[0m\n",
      "\u001b[31m[105]#011train-error:0.100867#011validation-error:0.1511\u001b[0m\n",
      "\u001b[31m[01:43:31] src/tree/updater_prune.cc:74: tree pruning end, 1 roots, 10 extra nodes, 10 pruned nodes, max_depth=5\u001b[0m\n",
      "\u001b[31m[106]#011train-error:0.100267#011validation-error:0.1511\u001b[0m\n",
      "\u001b[31m[01:43:33] src/tree/updater_prune.cc:74: tree pruning end, 1 roots, 14 extra nodes, 6 pruned nodes, max_depth=5\u001b[0m\n",
      "\u001b[31m[107]#011train-error:0.099933#011validation-error:0.151\u001b[0m\n",
      "\u001b[31m[01:43:34] src/tree/updater_prune.cc:74: tree pruning end, 1 roots, 12 extra nodes, 6 pruned nodes, max_depth=5\u001b[0m\n",
      "\u001b[31m[108]#011train-error:0.099267#011validation-error:0.1501\u001b[0m\n",
      "\u001b[31m[01:43:35] src/tree/updater_prune.cc:74: tree pruning end, 1 roots, 24 extra nodes, 4 pruned nodes, max_depth=5\u001b[0m\n",
      "\u001b[31m[109]#011train-error:0.099067#011validation-error:0.1494\u001b[0m\n",
      "\u001b[31m[01:43:37] src/tree/updater_prune.cc:74: tree pruning end, 1 roots, 18 extra nodes, 10 pruned nodes, max_depth=5\u001b[0m\n",
      "\u001b[31m[110]#011train-error:0.098667#011validation-error:0.1489\u001b[0m\n",
      "\u001b[31m[01:43:38] src/tree/updater_prune.cc:74: tree pruning end, 1 roots, 18 extra nodes, 14 pruned nodes, max_depth=5\u001b[0m\n",
      "\u001b[31m[111]#011train-error:0.097867#011validation-error:0.1484\u001b[0m\n",
      "\u001b[31m[01:43:39] src/tree/updater_prune.cc:74: tree pruning end, 1 roots, 14 extra nodes, 22 pruned nodes, max_depth=5\u001b[0m\n",
      "\u001b[31m[112]#011train-error:0.096733#011validation-error:0.1475\u001b[0m\n",
      "\u001b[31m[01:43:40] src/tree/updater_prune.cc:74: tree pruning end, 1 roots, 20 extra nodes, 8 pruned nodes, max_depth=5\u001b[0m\n",
      "\u001b[31m[113]#011train-error:0.096067#011validation-error:0.1468\u001b[0m\n",
      "\u001b[31m[01:43:42] src/tree/updater_prune.cc:74: tree pruning end, 1 roots, 34 extra nodes, 10 pruned nodes, max_depth=5\u001b[0m\n",
      "\u001b[31m[114]#011train-error:0.0962#011validation-error:0.1462\u001b[0m\n",
      "\u001b[31m[01:43:43] src/tree/updater_prune.cc:74: tree pruning end, 1 roots, 16 extra nodes, 12 pruned nodes, max_depth=5\u001b[0m\n",
      "\u001b[31m[115]#011train-error:0.0958#011validation-error:0.1469\u001b[0m\n",
      "\u001b[31m[01:43:44] src/tree/updater_prune.cc:74: tree pruning end, 1 roots, 12 extra nodes, 2 pruned nodes, max_depth=5\u001b[0m\n",
      "\u001b[31m[116]#011train-error:0.095533#011validation-error:0.1462\u001b[0m\n",
      "\u001b[31m[01:43:45] src/tree/updater_prune.cc:74: tree pruning end, 1 roots, 14 extra nodes, 10 pruned nodes, max_depth=5\u001b[0m\n",
      "\u001b[31m[117]#011train-error:0.095#011validation-error:0.1455\u001b[0m\n",
      "\u001b[31m[01:43:47] src/tree/updater_prune.cc:74: tree pruning end, 1 roots, 12 extra nodes, 6 pruned nodes, max_depth=5\u001b[0m\n",
      "\u001b[31m[118]#011train-error:0.094667#011validation-error:0.1463\u001b[0m\n",
      "\u001b[31m[01:43:48] src/tree/updater_prune.cc:74: tree pruning end, 1 roots, 14 extra nodes, 20 pruned nodes, max_depth=5\u001b[0m\n",
      "\u001b[31m[119]#011train-error:0.094067#011validation-error:0.1474\u001b[0m\n",
      "\u001b[31m[01:43:49] src/tree/updater_prune.cc:74: tree pruning end, 1 roots, 16 extra nodes, 0 pruned nodes, max_depth=5\u001b[0m\n",
      "\u001b[31m[120]#011train-error:0.094333#011validation-error:0.148\u001b[0m\n",
      "\n",
      "2019-08-08 01:44:03 Uploading - Uploading generated training model\u001b[31m[01:43:50] src/tree/updater_prune.cc:74: tree pruning end, 1 roots, 10 extra nodes, 8 pruned nodes, max_depth=5\u001b[0m\n",
      "\u001b[31m[121]#011train-error:0.094267#011validation-error:0.1481\u001b[0m\n",
      "\u001b[31m[01:43:52] src/tree/updater_prune.cc:74: tree pruning end, 1 roots, 12 extra nodes, 10 pruned nodes, max_depth=5\u001b[0m\n",
      "\u001b[31m[122]#011train-error:0.094133#011validation-error:0.1474\u001b[0m\n",
      "\u001b[31m[01:43:53] src/tree/updater_prune.cc:74: tree pruning end, 1 roots, 12 extra nodes, 8 pruned nodes, max_depth=5\u001b[0m\n",
      "\u001b[31m[123]#011train-error:0.0942#011validation-error:0.1473\u001b[0m\n",
      "\u001b[31m[01:43:54] src/tree/updater_prune.cc:74: tree pruning end, 1 roots, 12 extra nodes, 8 pruned nodes, max_depth=5\u001b[0m\n",
      "\u001b[31m[124]#011train-error:0.093733#011validation-error:0.1476\u001b[0m\n",
      "\u001b[31m[01:43:55] src/tree/updater_prune.cc:74: tree pruning end, 1 roots, 14 extra nodes, 10 pruned nodes, max_depth=5\u001b[0m\n",
      "\u001b[31m[125]#011train-error:0.093533#011validation-error:0.1483\u001b[0m\n",
      "\u001b[31m[01:43:57] src/tree/updater_prune.cc:74: tree pruning end, 1 roots, 10 extra nodes, 8 pruned nodes, max_depth=5\u001b[0m\n",
      "\u001b[31m[126]#011train-error:0.093533#011validation-error:0.1485\u001b[0m\n",
      "\u001b[31m[01:43:58] src/tree/updater_prune.cc:74: tree pruning end, 1 roots, 14 extra nodes, 8 pruned nodes, max_depth=5\u001b[0m\n",
      "\u001b[31m[127]#011train-error:0.092933#011validation-error:0.1479\u001b[0m\n",
      "\u001b[31mStopping. Best iteration:\u001b[0m\n",
      "\u001b[31m[117]#011train-error:0.095#011validation-error:0.1455\n",
      "\u001b[0m\n",
      "\n",
      "2019-08-08 01:44:10 Completed - Training job completed\n",
      "Billable seconds: 220\n"
     ]
    }
   ],
   "source": [
    "xgb.fit({'train': s3_input_train, 'validation': s3_input_validation})"
   ]
  },
  {
   "cell_type": "markdown",
   "metadata": {},
   "source": [
    "## Step 5: Testing the model\n",
    "\n",
    "Now that we've fit our XGBoost model, it's time to see how well it performs. To do this we will use SageMakers Batch Transform functionality. Batch Transform is a convenient way to perform inference on a large dataset in a way that is not realtime. That is, we don't necessarily need to use our model's results immediately and instead we can perform inference on a large number of samples. An example of this in industry might be performing an end of month report. This method of inference can also be useful to us as it means that we can perform inference on our entire test set. \n",
    "\n",
    "To perform a Batch Transformation we need to first create a transformer objects from our trained estimator object."
   ]
  },
  {
   "cell_type": "code",
   "execution_count": 24,
   "metadata": {},
   "outputs": [],
   "source": [
    "xgb_transformer = xgb.transformer(instance_count = 1, instance_type = 'ml.m4.xlarge')"
   ]
  },
  {
   "cell_type": "markdown",
   "metadata": {},
   "source": [
    "Next we actually perform the transform job. When doing so we need to make sure to specify the type of data we are sending so that it is serialized correctly in the background. In our case we are providing our model with csv data so we specify `text/csv`. Also, if the test data that we have provided is too large to process all at once then we need to specify how the data file should be split up. Since each line is a single entry in our data set we tell SageMaker that it can split the input on each line."
   ]
  },
  {
   "cell_type": "code",
   "execution_count": 25,
   "metadata": {},
   "outputs": [],
   "source": [
    "xgb_transformer.transform(test_location, content_type='text/csv', split_type='Line')"
   ]
  },
  {
   "cell_type": "markdown",
   "metadata": {},
   "source": [
    "Currently the transform job is running but it is doing so in the background. Since we wish to wait until the transform job is done and we would like a bit of feedback we can run the `wait()` method."
   ]
  },
  {
   "cell_type": "code",
   "execution_count": 26,
   "metadata": {},
   "outputs": [
    {
     "name": "stdout",
     "output_type": "stream",
     "text": [
      "..............................................!\n"
     ]
    }
   ],
   "source": [
    "xgb_transformer.wait()"
   ]
  },
  {
   "cell_type": "markdown",
   "metadata": {},
   "source": [
    "Now the transform job has executed and the result, the estimated sentiment of each review, has been saved on S3. Since we would rather work on this file locally we can perform a bit of notebook magic to copy the file to the `data_dir`."
   ]
  },
  {
   "cell_type": "code",
   "execution_count": 27,
   "metadata": {},
   "outputs": [
    {
     "name": "stdout",
     "output_type": "stream",
     "text": [
      "Completed 256.0 KiB/368.8 KiB (3.3 MiB/s) with 1 file(s) remaining\r",
      "Completed 368.8 KiB/368.8 KiB (4.6 MiB/s) with 1 file(s) remaining\r",
      "download: s3://sagemaker-us-east-1-034554972399/xgboost-2019-08-08-01-46-25-486/test.csv.out to ../data/sentiment_web_app/test.csv.out\r\n"
     ]
    }
   ],
   "source": [
    "!aws s3 cp --recursive $xgb_transformer.output_path $data_dir"
   ]
  },
  {
   "cell_type": "markdown",
   "metadata": {},
   "source": [
    "The last step is now to read in the output from our model, convert the output to something a little more usable, in this case we want the sentiment to be either `1` (positive) or `0` (negative), and then compare to the ground truth labels."
   ]
  },
  {
   "cell_type": "code",
   "execution_count": 28,
   "metadata": {},
   "outputs": [],
   "source": [
    "predictions = pd.read_csv(os.path.join(data_dir, 'test.csv.out'), header=None)\n",
    "predictions = [round(num) for num in predictions.squeeze().values]"
   ]
  },
  {
   "cell_type": "code",
   "execution_count": 29,
   "metadata": {},
   "outputs": [
    {
     "data": {
      "text/plain": [
       "0.8548"
      ]
     },
     "execution_count": 29,
     "metadata": {},
     "output_type": "execute_result"
    }
   ],
   "source": [
    "from sklearn.metrics import accuracy_score\n",
    "accuracy_score(test_y, predictions)"
   ]
  },
  {
   "cell_type": "markdown",
   "metadata": {},
   "source": [
    "## Step 6: Deploying the model\n",
    "\n",
    "Once we construct and fit our model, SageMaker stores the resulting model artifacts and we can use those to deploy an endpoint (inference code). To see this, look in the SageMaker console and you should see that a model has been created along with a link to the S3 location where the model artifacts have been stored.\n",
    "\n",
    "Deploying an endpoint is a lot like training the model with a few important differences. The first is that a deployed model doesn't change the model artifacts, so as you send it various testing instances the model won't change. Another difference is that since we aren't performing a fixed computation, as we were in the training step or while performing a batch transform, the compute instance that gets started stays running until we tell it to stop. This is important to note as if we forget and leave it running we will be charged the entire time.\n",
    "\n",
    "In other words **If you are no longer using a deployed endpoint, shut it down!**"
   ]
  },
  {
   "cell_type": "code",
   "execution_count": 30,
   "metadata": {},
   "outputs": [
    {
     "name": "stderr",
     "output_type": "stream",
     "text": [
      "Using already existing model: xgboost-2019-08-08-01-38-29-538\n"
     ]
    },
    {
     "name": "stdout",
     "output_type": "stream",
     "text": [
      "--------------------------------------------------------------------------------------!"
     ]
    }
   ],
   "source": [
    "xgb_predictor = xgb.deploy(initial_instance_count = 1, instance_type = 'ml.m4.xlarge')"
   ]
  },
  {
   "cell_type": "markdown",
   "metadata": {},
   "source": [
    "### Testing the model (again)\n",
    "\n",
    "Now that we have deployed our endpoint, we can send the testing data to it and get back the inference results. We already did this earlier using the batch transform functionality of SageMaker, however, we will test our model again using the newly deployed endpoint so that we can make sure that it works properly and to get a bit of a feel for how the endpoint works.\n",
    "\n",
    "When using the created endpoint it is important to know that we are limited in the amount of information we can send in each call so we need to break the testing data up into chunks and then send each chunk. Also, we need to serialize our data before we send it to the endpoint to ensure that our data is transmitted properly. Fortunately, SageMaker can do the serialization part for us provided we tell it the format of our data."
   ]
  },
  {
   "cell_type": "code",
   "execution_count": 31,
   "metadata": {},
   "outputs": [],
   "source": [
    "from sagemaker.predictor import csv_serializer\n",
    "\n",
    "# We need to tell the endpoint what format the data we are sending is in so that SageMaker can perform the serialization.\n",
    "xgb_predictor.content_type = 'text/csv'\n",
    "xgb_predictor.serializer = csv_serializer"
   ]
  },
  {
   "cell_type": "code",
   "execution_count": 32,
   "metadata": {},
   "outputs": [],
   "source": [
    "# We split the data into chunks and send each chunk seperately, accumulating the results.\n",
    "\n",
    "def predict(data, rows=512):\n",
    "    split_array = np.array_split(data, int(data.shape[0] / float(rows) + 1))\n",
    "    predictions = ''\n",
    "    for array in split_array:\n",
    "        predictions = ','.join([predictions, xgb_predictor.predict(array).decode('utf-8')])\n",
    "    \n",
    "    return np.fromstring(predictions[1:], sep=',')"
   ]
  },
  {
   "cell_type": "code",
   "execution_count": 33,
   "metadata": {},
   "outputs": [],
   "source": [
    "test_X = pd.read_csv(os.path.join(data_dir, 'test.csv'), header=None).values\n",
    "\n",
    "predictions = predict(test_X)\n",
    "predictions = [round(num) for num in predictions]"
   ]
  },
  {
   "cell_type": "markdown",
   "metadata": {},
   "source": [
    "Lastly, we check to see what the accuracy of our model is."
   ]
  },
  {
   "cell_type": "code",
   "execution_count": 34,
   "metadata": {},
   "outputs": [
    {
     "data": {
      "text/plain": [
       "0.8548"
      ]
     },
     "execution_count": 34,
     "metadata": {},
     "output_type": "execute_result"
    }
   ],
   "source": [
    "from sklearn.metrics import accuracy_score\n",
    "accuracy_score(test_y, predictions)"
   ]
  },
  {
   "cell_type": "markdown",
   "metadata": {},
   "source": [
    "And the results here should agree with the model testing that we did earlier using the batch transform job.\n",
    "\n",
    "### Cleaning up\n",
    "\n",
    "Now that we've determined that deploying our model works as expected, we are going to shut it down. Remember that the longer the endpoint is left running, the greater the cost and since we have a bit more work to do before we are able to use our endpoint with our simple web app, we should shut everything down."
   ]
  },
  {
   "cell_type": "code",
   "execution_count": 35,
   "metadata": {},
   "outputs": [],
   "source": [
    "xgb_predictor.delete_endpoint()"
   ]
  },
  {
   "cell_type": "markdown",
   "metadata": {},
   "source": [
    "## Step 7: Putting our model to work\n",
    "\n",
    "As we've mentioned a few times now, our goal is to have our model deployed and then access it using a very simple web app. The intent is for this web app to take some user submitted data (a review), send it off to our endpoint (the model) and then display the result.\n",
    "\n",
    "However, there is a small catch. Currently the only way we can access the endpoint to send it data is using the SageMaker API. We can, if we wish, expose the actual URL that our model's endpoint is receiving data from, however, if we just send it data ourselves we will not get anything in return. This is because the endpoint created by SageMaker requires the entity accessing it have the correct permissions. So, we would need to somehow authenticate our web app with AWS.\n",
    "\n",
    "Having a website that authenticates to AWS seems a bit beyond the scope of this lesson so we will opt for an alternative approach. Namely, we will create a new endpoint which does not require authentication and which acts as a proxy for the SageMaker endpoint.\n",
    "\n",
    "As an additional constraint, we will try to avoid doing any data processing in the web app itself. Remember that when we constructed and tested our model we started with a movie review, then we simplified it by removing any html formatting and punctuation, then we constructed a bag of words embedding and the resulting vector is what we sent to our model. All of this needs to be done to our user input as well.\n",
    "\n",
    "Fortunately we can do all of this data processing in the backend, using Amazon's Lambda service.\n",
    "\n",
    "<img src=\"Web App Diagram.svg\">\n",
    "\n",
    "The diagram above gives an overview of how the various services will work together. On the far right is the model which we trained above and which will be deployed using SageMaker. On the far left is our web app that collects a user's movie review, sends it off and expects a positive or negative sentiment in return.\n",
    "\n",
    "In the middle is where some of the magic happens. We will construct a Lambda function, which you can think of as a straightforward Python function that can be executed whenever a specified event occurs. This Python function will do the data processing we need to perform on a user submitted review. In addition, we will give this function permission to send and recieve data from a SageMaker endpoint.\n",
    "\n",
    "Lastly, the method we will use to execute the Lambda function is a new endpoint that we will create using API Gateway. This endpoint will be a url that listens for data to be sent to it. Once it gets some data it will pass that data on to the Lambda function and then return whatever the Lambda function returns. Essentially it will act as an interface that lets our web app communicate with the Lambda function.\n",
    "\n",
    "### Processing a single review\n",
    "\n",
    "For now, suppose we are given a movie review by our user in the form of a string, like so:"
   ]
  },
  {
   "cell_type": "code",
   "execution_count": 36,
   "metadata": {},
   "outputs": [],
   "source": [
    "test_review = \"Nothing but a disgusting materialistic pageant of glistening abed remote control greed zombies, totally devoid of any heart or heat. A romantic comedy that has zero romantic chemestry and zero laughs!\""
   ]
  },
  {
   "cell_type": "markdown",
   "metadata": {},
   "source": [
    "How do we go from this string to the bag of words feature vector that is expected by our model?\n",
    "\n",
    "If we recall at the beginning of this notebook, the first step is to remove any unnecessary characters using the `review_to_words` method. Remember that we intentionally did this in a very simplistic way. This is because we are going to have to copy this method to our (eventual) Lambda function (we will go into more detail later) and this means it needs to be rather simplistic."
   ]
  },
  {
   "cell_type": "code",
   "execution_count": 37,
   "metadata": {},
   "outputs": [
    {
     "name": "stdout",
     "output_type": "stream",
     "text": [
      "nothing but a disgusting materialistic pageant of glistening abed remote control greed zombies totally devoid of any heart or heat a romantic comedy that has zero romantic chemestry and zero laughs\n"
     ]
    }
   ],
   "source": [
    "test_words = review_to_words(test_review)\n",
    "print(test_words)"
   ]
  },
  {
   "cell_type": "markdown",
   "metadata": {},
   "source": [
    "Next, we need to construct a bag of words embedding of the `test_words` string. To do this, remember that a bag of words embedding uses a `vocabulary` consisting of the most frequently appearing words in a set of documents. Then, for each word in the vocabulary we record the number of times that word appears in `test_words`. We constructed the `vocabulary` earlier using the training set for our problem so encoding `test_words` is relatively straightforward."
   ]
  },
  {
   "cell_type": "code",
   "execution_count": 38,
   "metadata": {},
   "outputs": [],
   "source": [
    "def bow_encoding(words, vocabulary):\n",
    "    bow = [0] * len(vocabulary) # Start by setting the count for each word in the vocabulary to zero.\n",
    "    for word in words.split():  # For each word in the string\n",
    "        if word in vocabulary:  # If the word is one that occurs in the vocabulary, increase its count.\n",
    "            bow[vocabulary[word]] += 1\n",
    "    return bow"
   ]
  },
  {
   "cell_type": "code",
   "execution_count": 39,
   "metadata": {},
   "outputs": [
    {
     "name": "stdout",
     "output_type": "stream",
     "text": [
      "[0, 0, 0, 0, 0, 0, 0, 0, 0, 0, 0, 0, 0, 0, 0, 0, 0, 0, 0, 0, 0, 0, 0, 0, 0, 0, 0, 0, 0, 0, 0, 0, 0, 0, 0, 0, 0, 0, 0, 0, 0, 0, 0, 0, 0, 0, 0, 0, 0, 0, 0, 0, 0, 0, 0, 0, 0, 0, 0, 0, 0, 0, 0, 0, 0, 0, 0, 0, 0, 0, 0, 0, 0, 0, 0, 0, 0, 0, 0, 0, 0, 0, 0, 0, 0, 0, 0, 0, 0, 0, 0, 0, 0, 0, 0, 0, 0, 0, 0, 0, 0, 0, 0, 0, 0, 0, 0, 0, 0, 0, 0, 0, 0, 0, 0, 0, 0, 0, 0, 0, 0, 0, 0, 0, 0, 0, 0, 0, 0, 0, 0, 0, 0, 0, 0, 0, 0, 0, 0, 0, 0, 0, 0, 0, 0, 0, 0, 0, 0, 0, 0, 0, 0, 0, 0, 0, 0, 0, 0, 0, 0, 0, 0, 0, 0, 0, 0, 0, 0, 0, 0, 0, 0, 0, 0, 0, 0, 0, 0, 0, 0, 0, 0, 0, 0, 0, 0, 0, 0, 0, 0, 0, 0, 0, 0, 0, 0, 0, 0, 0, 0, 0, 0, 0, 0, 0, 0, 0, 0, 0, 0, 0, 0, 0, 0, 0, 0, 0, 0, 0, 0, 0, 0, 0, 0, 0, 1, 0, 0, 0, 0, 0, 0, 0, 0, 0, 0, 0, 0, 0, 0, 0, 0, 0, 0, 0, 0, 0, 0, 0, 0, 0, 0, 0, 0, 0, 1, 0, 0, 0, 0, 0, 0, 0, 0, 0, 0, 0, 0, 0, 0, 0, 0, 0, 0, 0, 0, 0, 0, 0, 0, 0, 0, 0, 0, 0, 0, 0, 0, 0, 0, 0, 0, 0, 0, 0, 0, 0, 0, 0, 0, 0, 0, 0, 0, 0, 0, 0, 0, 0, 0, 0, 0, 0, 0, 0, 0, 0, 0, 0, 0, 0, 0, 0, 0, 0, 0, 0, 0, 0, 0, 0, 0, 0, 0, 0, 0, 0, 0, 0, 0, 0, 0, 0, 0, 0, 0, 0, 0, 0, 0, 0, 0, 0, 0, 0, 0, 0, 0, 0, 0, 0, 0, 0, 0, 0, 0, 0, 0, 0, 0, 0, 0, 0, 0, 0, 0, 0, 0, 0, 0, 0, 0, 0, 0, 0, 0, 0, 0, 0, 0, 0, 0, 0, 0, 0, 0, 0, 0, 0, 0, 0, 0, 0, 0, 0, 0, 0, 0, 0, 0, 0, 0, 0, 0, 0, 0, 0, 0, 0, 0, 0, 0, 0, 0, 0, 0, 0, 0, 0, 0, 0, 0, 0, 0, 0, 0, 0, 0, 0, 0, 0, 0, 0, 0, 0, 0, 0, 0, 0, 0, 0, 0, 0, 0, 0, 0, 0, 0, 0, 0, 0, 0, 0, 0, 0, 0, 0, 0, 0, 0, 0, 0, 0, 0, 0, 0, 0, 0, 0, 0, 0, 0, 0, 0, 0, 0, 0, 0, 0, 0, 0, 0, 0, 0, 0, 0, 0, 0, 0, 0, 0, 0, 0, 0, 0, 0, 0, 0, 0, 0, 0, 0, 0, 0, 0, 0, 0, 0, 0, 0, 0, 0, 0, 0, 0, 0, 0, 0, 0, 0, 0, 0, 0, 0, 0, 0, 0, 0, 0, 0, 0, 0, 0, 0, 0, 0, 0, 0, 0, 0, 0, 0, 0, 0, 0, 0, 0, 0, 0, 0, 0, 0, 0, 0, 0, 0, 0, 0, 0, 0, 0, 0, 0, 0, 0, 0, 0, 0, 0, 0, 0, 0, 0, 0, 0, 0, 0, 0, 0, 0, 0, 0, 0, 0, 0, 0, 0, 0, 0, 0, 0, 0, 0, 0, 0, 0, 0, 0, 0, 0, 0, 0, 0, 0, 0, 0, 0, 0, 0, 0, 0, 0, 0, 0, 0, 0, 0, 0, 0, 0, 0, 0, 0, 0, 0, 1, 0, 0, 0, 0, 0, 0, 0, 0, 0, 0, 0, 0, 0, 0, 0, 0, 0, 0, 0, 0, 0, 0, 0, 0, 0, 0, 0, 0, 0, 0, 0, 0, 0, 0, 0, 0, 0, 0, 0, 0, 0, 0, 0, 0, 0, 0, 0, 0, 0, 0, 0, 0, 0, 0, 0, 0, 0, 0, 0, 0, 0, 0, 0, 0, 0, 0, 0, 0, 0, 0, 0, 0, 0, 0, 0, 0, 0, 0, 0, 0, 0, 0, 0, 0, 0, 0, 0, 0, 0, 0, 0, 0, 0, 0, 0, 0, 0, 0, 0, 0, 0, 0, 0, 0, 0, 0, 0, 0, 0, 0, 0, 0, 0, 0, 0, 0, 0, 0, 0, 0, 0, 0, 0, 0, 0, 0, 0, 0, 0, 0, 0, 0, 0, 0, 0, 0, 0, 0, 0, 0, 0, 0, 0, 0, 0, 0, 0, 0, 0, 0, 0, 0, 0, 0, 0, 0, 0, 0, 0, 0, 0, 0, 0, 0, 0, 0, 0, 0, 0, 0, 0, 0, 0, 0, 0, 0, 0, 0, 0, 0, 0, 0, 0, 0, 0, 0, 0, 0, 0, 0, 0, 0, 0, 0, 0, 0, 0, 0, 0, 0, 0, 0, 0, 0, 0, 0, 0, 0, 0, 0, 0, 0, 0, 0, 0, 0, 0, 0, 0, 0, 0, 0, 0, 0, 0, 0, 0, 0, 0, 0, 0, 0, 0, 0, 0, 0, 0, 0, 0, 0, 0, 0, 0, 0, 0, 0, 0, 0, 0, 0, 0, 0, 0, 1, 0, 0, 0, 0, 0, 0, 0, 0, 0, 0, 0, 0, 0, 0, 0, 0, 0, 0, 0, 0, 0, 0, 0, 0, 0, 0, 0, 0, 0, 0, 0, 0, 0, 0, 0, 0, 0, 0, 0, 0, 0, 0, 0, 0, 0, 0, 0, 0, 0, 0, 0, 0, 0, 0, 0, 0, 0, 0, 0, 0, 0, 0, 0, 0, 0, 0, 0, 0, 0, 0, 0, 0, 0, 0, 0, 0, 0, 0, 0, 0, 0, 0, 0, 0, 0, 0, 1, 0, 0, 0, 0, 0, 0, 0, 0, 0, 0, 0, 0, 0, 0, 0, 0, 0, 0, 0, 0, 0, 0, 0, 0, 0, 0, 0, 0, 0, 0, 0, 0, 0, 0, 0, 0, 0, 0, 0, 0, 0, 0, 0, 0, 0, 0, 0, 0, 0, 0, 0, 0, 0, 0, 0, 0, 0, 0, 0, 0, 0, 0, 0, 0, 0, 0, 0, 0, 0, 0, 0, 0, 0, 0, 0, 0, 0, 0, 0, 0, 0, 0, 0, 0, 0, 0, 0, 0, 0, 0, 0, 0, 0, 0, 0, 0, 0, 0, 0, 0, 0, 0, 0, 0, 0, 0, 0, 0, 0, 0, 0, 0, 0, 0, 0, 0, 0, 0, 0, 0, 0, 0, 0, 0, 0, 0, 0, 0, 0, 0, 0, 0, 0, 0, 0, 0, 0, 0, 0, 0, 0, 0, 0, 0, 0, 0, 0, 0, 0, 0, 0, 0, 0, 0, 0, 0, 0, 0, 0, 0, 0, 0, 0, 0, 0, 0, 0, 0, 0, 0, 0, 0, 0, 0, 0, 0, 0, 0, 0, 0, 0, 0, 0, 0, 0, 0, 0, 0, 0, 0, 0, 0, 0, 0, 0, 0, 0, 0, 0, 0, 0, 0, 0, 0, 0, 0, 0, 0, 0, 0, 0, 0, 0, 0, 0, 0, 0, 0, 0, 0, 0, 0, 0, 0, 0, 0, 0, 0, 0, 0, 0, 0, 0, 0, 0, 0, 0, 0, 0, 0, 0, 0, 0, 0, 0, 0, 0, 0, 0, 0, 0, 0, 1, 0, 0, 0, 0, 0, 0, 0, 0, 0, 0, 0, 0, 0, 0, 0, 0, 0, 0, 0, 0, 0, 0, 0, 0, 0, 0, 0, 0, 0, 0, 0, 0, 0, 0, 0, 0, 0, 0, 0, 0, 0, 0, 0, 0, 0, 0, 0, 0, 0, 0, 0, 0, 0, 0, 0, 1, 0, 0, 0, 0, 0, 0, 0, 0, 0, 0, 0, 0, 0, 0, 0, 0, 0, 0, 0, 0, 0, 0, 0, 0, 0, 0, 0, 0, 0, 0, 0, 0, 0, 0, 0, 0, 0, 0, 0, 0, 0, 0, 0, 0, 0, 0, 0, 0, 0, 0, 0, 0, 0, 0, 0, 0, 0, 0, 0, 0, 0, 0, 0, 0, 0, 0, 0, 0, 0, 0, 0, 0, 0, 0, 0, 0, 0, 0, 0, 0, 0, 0, 0, 0, 0, 0, 0, 0, 0, 0, 0, 0, 0, 0, 0, 0, 0, 0, 0, 0, 0, 0, 0, 0, 0, 0, 0, 0, 0, 0, 0, 0, 0, 0, 0, 0, 0, 0, 0, 0, 0, 0, 0, 0, 0, 0, 0, 0, 0, 0, 0, 0, 0, 0, 0, 0, 0, 0, 0, 0, 0, 0, 0, 0, 0, 0, 0, 0, 0, 0, 0, 0, 0, 0, 0, 0, 0, 0, 0, 0, 0, 0, 0, 0, 0, 0, 0, 0, 0, 0, 0, 0, 0, 0, 0, 0, 0, 0, 0, 0, 0, 0, 0, 0, 0, 0, 0, 0, 0, 0, 0, 0, 0, 0, 0, 0, 0, 0, 0, 0, 0, 0, 0, 0, 0, 0, 0, 0, 0, 0, 0, 0, 0, 0, 0, 0, 0, 0, 0, 0, 0, 0, 0, 0, 0, 0, 0, 0, 0, 0, 0, 0, 0, 0, 0, 0, 0, 0, 0, 0, 0, 0, 0, 0, 0, 0, 0, 0, 0, 0, 0, 0, 0, 0, 0, 0, 0, 0, 0, 0, 0, 0, 0, 0, 0, 0, 0, 0, 0, 0, 0, 0, 0, 0, 0, 0, 0, 0, 0, 0, 0, 0, 0, 0, 0, 0, 0, 0, 0, 0, 0, 0, 0, 0, 0, 0, 0, 0, 0, 0, 0, 0, 0, 0, 0, 0, 0, 0, 0, 0, 0, 0, 0, 0, 0, 0, 0, 0, 0, 0, 0, 0, 0, 0, 0, 0, 0, 0, 0, 0, 0, 0, 0, 0, 0, 0, 0, 0, 0, 0, 0, 0, 0, 0, 0, 0, 0, 0, 0, 0, 0, 0, 0, 0, 0, 0, 0, 0, 0, 0, 0, 0, 0, 0, 0, 0, 0, 0, 0, 0, 0, 0, 0, 0, 0, 0, 0, 0, 0, 0, 0, 0, 0, 0, 0, 0, 0, 0, 0, 0, 0, 0, 0, 0, 0, 0, 0, 0, 0, 0, 0, 0, 0, 0, 0, 0, 0, 0, 0, 0, 0, 0, 0, 0, 0, 0, 0, 0, 0, 0, 0, 0, 0, 0, 0, 0, 0, 0, 0, 0, 0, 0, 0, 0, 0, 0, 0, 0, 0, 0, 0, 0, 0, 0, 0, 0, 0, 0, 0, 0, 0, 0, 0, 0, 0, 0, 0, 0, 0, 0, 0, 0, 0, 0, 0, 0, 0, 0, 0, 0, 0, 0, 0, 0, 0, 0, 0, 0, 0, 0, 0, 0, 0, 0, 0, 0, 0, 0, 0, 0, 0, 0, 0, 0, 0, 0, 0, 0, 0, 0, 0, 0, 0, 0, 0, 0, 0, 0, 0, 0, 0, 0, 0, 0, 0, 0, 0, 0, 0, 0, 0, 0, 0, 0, 0, 0, 0, 0, 0, 0, 0, 0, 0, 0, 0, 0, 0, 0, 0, 0, 0, 0, 0, 0, 0, 0, 0, 0, 0, 0, 0, 0, 0, 0, 0, 0, 0, 0, 0, 0, 0, 0, 0, 0, 0, 0, 0, 0, 0, 0, 0, 0, 0, 0, 0, 0, 0, 0, 0, 0, 0, 0, 0, 0, 0, 0, 0, 0, 0, 0, 0, 0, 0, 0, 0, 0, 0, 0, 0, 0, 0, 0, 0, 0, 0, 0, 0, 0, 0, 0, 0, 0, 0, 0, 0, 0, 0, 0, 0, 0, 0, 0, 0, 0, 0, 0, 0, 0, 0, 0, 0, 0, 0, 0, 0, 0, 0, 0, 0, 0, 0, 0, 0, 0, 0, 0, 0, 0, 0, 0, 0, 0, 0, 0, 0, 0, 0, 0, 0, 0, 0, 0, 0, 0, 0, 0, 0, 0, 0, 0, 0, 0, 0, 0, 0, 0, 0, 0, 0, 0, 0, 1, 0, 0, 0, 0, 0, 0, 0, 0, 0, 0, 0, 0, 0, 0, 0, 0, 0, 0, 0, 0, 0, 0, 0, 0, 0, 0, 0, 0, 0, 0, 0, 0, 0, 0, 0, 0, 0, 0, 0, 0, 0, 0, 0, 0, 0, 0, 0, 0, 0, 0, 0, 0, 0, 0, 0, 0, 0, 0, 0, 0, 0, 0, 0, 0, 0, 0, 0, 0, 0, 0, 0, 0, 0, 0, 1, 0, 0, 0, 0, 0, 0, 0, 0, 0, 0, 0, 0, 0, 0, 0, 0, 0, 0, 0, 0, 1, 0, 0, 1, 0, 0, 0, 0, 0, 0, 0, 0, 0, 0, 0, 0, 0, 0, 0, 0, 0, 0, 0, 0, 0, 0, 0, 0, 0, 0, 0, 0, 0, 0, 0, 0, 0, 0, 0, 0, 0, 0, 0, 0, 0, 0, 0, 0, 0, 0, 0, 0, 0, 0, 0, 0, 0, 0, 0, 0, 0, 0, 0, 0, 0, 0, 0, 0, 0, 0, 0, 0, 0, 0, 0, 0, 0, 0, 0, 0, 0, 0, 0, 0, 0, 0, 0, 0, 0, 0, 0, 0, 0, 0, 0, 0, 0, 0, 0, 0, 0, 0, 0, 0, 0, 0, 0, 0, 0, 0, 0, 0, 0, 0, 0, 0, 0, 0, 0, 0, 0, 0, 0, 0, 0, 0, 0, 0, 0, 0, 0, 0, 0, 0, 0, 0, 0, 0, 0, 0, 0, 0, 0, 0, 0, 0, 0, 0, 0, 0, 0, 0, 0, 0, 0, 0, 0, 0, 0, 0, 0, 0, 0, 0, 0, 0, 0, 0, 0, 0, 0, 0, 0, 0, 0, 0, 0, 0, 0, 0, 0, 0, 0, 0, 0, 0, 0, 0, 0, 0, 0, 0, 0, 0, 0, 0, 0, 0, 0, 0, 0, 0, 0, 0, 0, 0, 0, 0, 0, 0, 0, 0, 0, 0, 0, 0, 0, 0, 0, 0, 0, 0, 0, 0, 0, 0, 0, 0, 0, 0, 0, 0, 0, 0, 0, 0, 0, 0, 0, 0, 0, 0, 0, 0, 0, 0, 0, 0, 0, 0, 0, 0, 0, 0, 0, 0, 0, 0, 0, 0, 0, 0, 0, 0, 0, 0, 0, 0, 0, 0, 0, 0, 0, 0, 0, 0, 0, 0, 0, 0, 0, 0, 0, 0, 0, 0, 0, 0, 0, 0, 0, 0, 0, 0, 0, 0, 0, 0, 0, 0, 0, 0, 0, 0, 0, 0, 0, 0, 0, 0, 0, 0, 0, 0, 0, 0, 0, 0, 0, 0, 0, 0, 0, 0, 0, 0, 0, 0, 0, 0, 0, 0, 0, 0, 0, 0, 0, 0, 0, 0, 0, 0, 0, 0, 0, 0, 0, 0, 0, 0, 0, 0, 0, 0, 0, 0, 0, 0, 0, 0, 0, 0, 0, 0, 0, 0, 0, 0, 0, 0, 0, 0, 0, 0, 0, 0, 0, 0, 0, 0, 0, 0, 0, 0, 0, 0, 0, 0, 0, 0, 0, 0, 0, 0, 0, 0, 0, 0, 0, 0, 0, 0, 0, 0, 0, 0, 0, 0, 0, 0, 0, 0, 0, 0, 0, 0, 0, 0, 0, 0, 0, 0, 0, 0, 0, 0, 0, 0, 0, 0, 0, 0, 0, 0, 0, 0, 0, 0, 0, 0, 0, 0, 0, 0, 0, 0, 0, 0, 0, 0, 0, 0, 0, 0, 0, 0, 0, 0, 0, 0, 0, 0, 0, 0, 0, 0, 0, 0, 0, 0, 1, 0, 0, 0, 0, 0, 0, 0, 0, 0, 0, 0, 0, 0, 0, 0, 0, 0, 0, 0, 0, 0, 0, 0, 0, 0, 0, 0, 0, 0, 0, 0, 0, 0, 0, 0, 0, 0, 0, 0, 0, 0, 0, 0, 0, 0, 0, 0, 0, 0, 0, 0, 0, 0, 0, 0, 0, 0, 0, 0, 0, 0, 0, 0, 0, 0, 0, 0, 0, 0, 0, 0, 0, 0, 0, 0, 0, 0, 0, 0, 0, 0, 0, 0, 0, 0, 0, 0, 0, 0, 0, 0, 0, 0, 0, 0, 0, 0, 0, 0, 0, 0, 0, 0, 0, 0, 0, 0, 0, 0, 0, 0, 0, 0, 0, 0, 0, 0, 0, 0, 0, 0, 0, 0, 0, 0, 0, 0, 0, 0, 0, 0, 0, 0, 0, 0, 0, 0, 0, 0, 0, 0, 0, 0, 0, 0, 0, 0, 0, 0, 0, 0, 0, 0, 0, 0, 0, 0, 0, 0, 0, 0, 0, 0, 0, 0, 0, 0, 0, 0, 0, 0, 0, 0, 0, 0, 0, 0, 0, 0, 0, 0, 0, 0, 0, 0, 0, 0, 0, 0, 0, 0, 0, 0, 0, 0, 0, 0, 0, 0, 0, 0, 0, 0, 0, 0, 0, 0, 0, 0, 0, 0, 0, 0, 0, 0, 0, 0, 0, 0, 0, 0, 0, 0, 0, 0, 0, 0, 0, 0, 0, 0, 0, 0, 0, 0, 0, 0, 0, 0, 0, 0, 0, 0, 0, 0, 0, 0, 0, 0, 0, 0, 0, 0, 0, 0, 0, 0, 0, 0, 0, 0, 0, 0, 0, 0, 0, 0, 0, 0, 0, 0, 0, 0, 0, 0, 0, 0, 0, 0, 0, 0, 0, 0, 0, 0, 0, 0, 0, 0, 0, 0, 0, 0, 0, 0, 0, 0, 0, 0, 0, 0, 0, 0, 0, 0, 0, 0, 0, 0, 0, 0, 0, 0, 0, 0, 0, 0, 0, 0, 0, 0, 0, 0, 0, 0, 0, 0, 0, 0, 0, 0, 0, 0, 0, 0, 0, 0, 0, 0, 0, 0, 0, 0, 0, 0, 0, 0, 0, 0, 0, 0, 0, 0, 0, 0, 0, 0, 0, 0, 0, 0, 0, 0, 0, 0, 0, 0, 0, 0, 0, 0, 0, 0, 0, 0, 0, 0, 0, 0, 0, 0, 0, 0, 0, 0, 0, 0, 0, 0, 0, 0, 0, 0, 0, 0, 0, 0, 0, 0, 0, 0, 0, 0, 0, 0, 0, 0, 0, 0, 0, 0, 0, 0, 0, 0, 0, 0, 0, 0, 0, 0, 0, 0, 0, 0, 0, 0, 0, 0, 0, 0, 0, 0, 0, 0, 0, 0, 0, 0, 0, 0, 0, 0, 0, 0, 0, 0, 0, 0, 0, 0, 0, 0, 0, 0, 0, 0, 0, 0, 0, 0, 0, 0, 0, 0, 0, 0, 0, 0, 0, 0, 0, 0, 0, 0, 0, 0, 0, 0, 0, 0, 0, 0, 0, 0, 0, 0, 0, 0, 0, 0, 0, 0, 0, 0, 0, 0, 0, 0, 0, 0, 0, 0, 0, 0, 0, 0, 0, 0, 0, 0, 0, 1, 0, 0, 0, 0, 0, 0, 0, 0, 0, 0, 0, 0, 0, 0, 0, 0, 0, 0, 0, 0, 0, 0, 0, 0, 0, 0, 0, 0, 0, 0, 0, 0, 0, 0, 0, 2, 0, 0, 0, 0, 0, 0, 0, 0, 0, 0, 0, 0, 0, 0, 0, 0, 0, 0, 0, 0, 0, 0, 0, 0, 0, 0, 0, 0, 0, 0, 0, 0, 0, 0, 0, 0, 0, 0, 0, 0, 1, 0, 0, 0, 0, 0, 0, 0, 0, 0, 0, 0, 0, 0, 0, 0, 0, 0, 0, 0, 0, 0, 0, 0, 0, 0, 0, 0, 0, 0, 0, 0, 0, 0, 0, 0, 0, 0, 0, 0, 0, 0, 0, 0, 0, 0, 0, 0, 0, 0, 0, 0, 0, 0, 0, 0, 0, 0, 0, 0, 0, 0, 0, 0, 0, 0, 0, 0, 0, 0, 0, 0, 0, 0, 0, 0, 0, 0, 0, 0, 0, 0, 0, 0, 0, 0, 0, 0, 0, 0, 0, 0, 0, 0, 0, 0, 0, 0, 0, 0, 0, 0, 0, 0, 0, 0, 0, 0, 0, 0, 0, 0, 0, 0, 0, 0, 0, 0, 0, 0, 0, 0, 0, 0, 0, 0, 0, 0, 0, 0, 0, 0, 0, 0, 0, 0, 0, 0, 0, 0, 0, 0, 0, 0, 0, 0, 0, 0, 0, 0, 0, 0, 0, 0, 0, 0, 0, 0, 0, 0, 0, 0, 0, 0, 0, 0, 0, 0, 0, 0, 0, 0, 0, 0, 0, 0, 0, 0, 0, 0, 0, 0, 0, 0, 0, 0, 0, 0, 0, 0, 0, 0, 0, 0, 0, 0, 0, 0, 0, 0, 0, 0, 0, 0, 0, 0, 0, 0, 0, 0, 0, 0, 0, 0, 0, 0, 0, 0, 0, 0, 0, 0, 0, 0, 0, 0, 0, 0, 0, 0, 0, 0, 0, 0, 0, 0, 0, 0, 0, 0, 0, 0, 0, 0, 0, 0, 0, 0, 0, 0, 0, 0, 0, 0, 0, 0, 0, 0, 0, 0, 0, 0, 0, 0, 0, 0, 0, 0, 0, 0, 0, 0, 0, 0, 0, 0, 0, 0, 0, 0, 0, 0, 0, 0, 0, 0, 0, 0, 0, 0, 0, 0, 0, 0, 0, 0, 0, 0, 0, 0, 0, 0, 0, 0, 0, 0, 0, 0, 0, 0, 0, 0, 0, 0, 0, 0, 0, 0, 0, 0, 0, 0, 0, 0, 0, 0, 0, 0, 0, 0, 0, 0, 0, 0, 0, 0, 0, 0, 0, 0, 0, 0, 0, 0, 0, 0, 0, 0, 0, 0, 0, 0, 0, 0, 0, 0, 0, 0, 0, 0, 0, 0, 0, 0, 0, 0, 0, 0, 0, 0, 0, 0, 0, 0, 0, 0, 0, 0, 0, 0, 0, 0, 0, 0, 0, 0, 0, 0, 0, 0, 0, 0, 0, 0, 0, 0, 0, 0, 0, 0, 0, 0, 0, 0, 0, 0, 0, 0, 0, 0, 0, 0, 0, 0, 0, 0, 0, 0, 0, 0, 0, 0, 0, 0, 0, 0, 0, 0, 0, 0, 0, 0, 0, 0, 0, 0, 0, 0, 0, 0, 0, 0, 0, 0, 0, 0, 0, 0, 0, 0, 0, 0, 0, 0, 0, 0, 0, 0, 0, 0, 0, 0, 0, 0, 0, 0, 0, 0, 0, 0, 0, 0, 0, 0, 0, 0, 0, 0, 0, 0, 0, 0, 0, 0, 0, 0, 0, 0, 0, 0, 0, 0, 0, 0, 0, 0, 0, 0, 1, 0, 0, 0, 0, 0, 0, 0, 0, 0, 0, 0, 0, 0, 0, 0, 0, 0, 0, 0, 0, 0, 0, 0, 0, 0, 0, 0, 0, 0, 0, 0, 0, 0, 0, 0, 0, 0, 0, 0, 0, 0, 0, 0, 0, 0, 0, 0, 0, 0, 0, 0, 0, 0, 0, 0, 0, 0, 0, 0, 0, 0, 0, 0, 0, 0, 0, 0, 0, 0, 0, 0, 0, 0, 0, 0, 0, 0, 0, 0, 0, 0, 0, 0, 0, 0, 0, 0, 0, 0, 0, 0, 0, 0, 0, 0, 0, 0, 0, 0, 0, 0, 0, 0, 0, 0, 0, 0, 0, 0, 0, 2, 0, 0, 0, 0, 0, 0, 0, 0, 0, 0, 0, 0, 0, 0, 0, 0, 0, 0, 0, 0, 0, 0, 0, 0, 0, 0, 0, 0, 0, 0, 0, 0, 0, 0, 0, 0, 0, 0, 0, 0, 0, 0, 0, 0, 0, 0, 0, 0, 0, 0, 0, 0, 0, 0, 0, 0, 0, 0, 0, 0, 0, 0, 0, 0, 0, 0, 0, 0, 0, 0, 0, 0, 0, 0, 0, 0, 0, 0, 0, 0, 0, 0, 0, 0, 0, 0, 0, 0, 0, 0, 0, 0, 0, 0, 0, 0, 0, 0, 0, 0, 0, 0, 0, 0, 0, 0, 0, 0, 0, 0, 0, 0, 0, 0, 0, 0, 0, 0, 0, 0, 0, 0, 0, 0, 0, 0, 0, 0, 0, 0, 0, 0, 0, 0, 0, 0, 0, 0, 0, 0, 0, 0, 0, 0, 0, 0, 0, 0, 0, 0, 0, 0, 0, 0, 0, 0, 0, 0, 0, 0, 0, 0, 0, 0, 0, 0, 0, 0, 0, 0, 0, 0, 0, 0, 0, 0, 0, 0, 0, 0, 0, 0, 0, 0, 0, 0, 0, 0, 0, 0, 0, 0, 0, 0, 0, 0, 0, 0, 0, 0, 0, 0, 0, 0, 0, 0, 0, 0, 0, 0, 0, 0, 0, 0, 0, 0, 0, 0, 0, 0, 0, 0, 0, 0, 0, 0, 0, 0, 0, 0, 0, 0, 0, 0, 0, 0, 0, 0, 0, 0, 0, 0, 0, 0, 0, 0, 0, 0, 0, 0, 0, 0, 0, 0, 0, 0, 0, 0, 0, 0, 0, 0, 0, 0, 0, 0, 0, 0, 0, 0, 0, 0, 0, 0, 0, 0, 0, 0, 0, 0, 0, 0, 0, 0, 0, 0, 0, 0, 0, 0, 0, 0, 0, 0, 0, 0, 0, 0, 0, 0, 0, 0, 0, 0, 0, 0, 0, 0, 0, 0, 0, 0, 0, 0, 0, 0, 0, 0, 0, 0, 0, 0, 0, 0, 0, 0, 0, 0, 0, 0, 0, 0, 0, 0, 0, 0, 0, 0, 0, 0, 0, 0, 0, 0, 0, 0, 0, 0, 0, 0, 0, 0, 0, 0, 0, 0, 0, 0, 0, 0, 0, 0, 0, 0, 0, 0, 0, 0, 0, 0, 0, 0, 0, 0, 0, 0, 0, 0, 0, 0, 0, 0, 0, 0, 0, 0, 0, 0, 0, 0, 0, 0, 0, 0, 0, 0, 0, 0, 0, 0, 0, 0, 0, 0, 0, 0, 0, 0, 0, 0, 0, 0, 0, 0, 0, 0, 0, 0, 0, 0, 0, 0, 0, 0, 0, 0, 0, 0, 0, 0, 0, 0, 0, 0, 0, 0, 0, 0, 0, 0, 0, 0, 0, 0, 0, 0, 0, 0, 0, 0, 0, 0, 0, 0, 0, 0, 0, 0, 0, 0, 0, 0, 0, 0, 0, 0, 0, 0, 0, 0, 0, 0, 0, 0, 0, 0, 0, 0, 0, 0, 0, 0, 0, 0, 0, 0, 0, 0, 0, 0, 0, 0, 0, 0, 0, 0, 0, 0, 0, 0, 0, 0, 0, 0, 0, 0, 0, 0, 0, 0, 0, 0, 0, 0, 0, 0, 0, 0, 0, 0, 0, 0, 0, 0, 0, 0, 0, 0, 0, 0, 0, 0, 0, 0, 0, 0, 0, 0, 0, 0, 0, 0, 0, 0, 0, 0, 0, 0, 0, 0, 0, 0, 0, 0, 0, 0, 0, 0, 0, 0, 0, 0, 0, 0, 0, 0, 0, 0, 0, 0, 0, 0, 0, 0, 0, 0, 0, 0, 0, 0, 0, 0, 0, 0, 0, 0, 0, 0, 0, 0, 0, 0, 0, 0, 0, 0, 0, 0, 0, 0, 0, 0, 0, 0, 0, 0, 0, 0, 0, 0, 0, 0, 0, 0, 0, 0, 0, 0, 0, 0, 0, 0, 0, 0, 0, 0, 0, 0, 0, 0, 0, 0, 0, 0, 0, 0, 0, 0, 0, 0, 0, 0, 0, 0, 0, 0, 0, 0, 0, 0, 0, 0, 0, 0, 0, 0, 0, 0, 0, 0, 0, 0, 0, 0, 0, 0, 0, 0, 0, 0, 0, 0, 0, 0, 0, 0, 0, 0, 0, 0, 0, 0, 0, 0, 0, 0, 0, 0, 0, 0, 1, 0, 0, 0, 0, 0, 0, 0, 0, 0, 0, 0, 0, 0, 0, 0, 0, 0, 0, 0, 0, 0, 0, 0, 0, 0, 0, 0, 0, 0, 0, 0, 0, 0, 0, 0, 0, 0, 0, 0, 0, 0, 0, 0, 0, 0, 0, 0, 0, 0, 0, 0, 0, 0, 0, 0, 0, 0, 0, 0, 0, 0, 0, 0, 0, 0, 0, 0, 0, 0, 0, 0, 0, 0, 0, 0, 0, 0, 0, 0, 0, 0, 0, 0, 0, 0, 0, 0, 0, 0, 0, 0, 0, 0, 0, 0, 0, 0, 0, 0, 0, 0, 0, 0, 0, 0, 0, 0, 1, 0, 0, 0, 0, 0, 0, 0, 0, 0, 0, 0, 0, 0, 0, 0, 0, 0, 0, 0, 0, 0, 0, 0, 0, 0, 0, 0, 0, 0, 0, 0, 0, 0, 0, 0, 0, 0, 0, 0, 0, 0, 0, 0, 0, 0, 0, 0, 0, 0, 0, 0, 0, 0, 0, 0, 0, 0, 0, 0, 0, 0, 0, 0, 0, 0, 0, 0, 0, 0, 0, 0, 0, 0, 0, 0, 0, 0, 0, 0, 0, 0, 0, 0, 0, 0, 0, 0, 0, 0, 0, 0, 0, 0, 0, 0, 0, 0, 0, 0, 0, 0, 0, 0, 0, 0, 0, 0, 0, 0, 0, 0, 0, 0, 0, 0, 0, 0, 0, 0, 0, 0, 0, 0, 0, 0, 0, 0, 0, 0, 0, 0, 0, 0, 0, 0, 0, 0, 0, 0, 0, 0, 0, 0, 0, 0, 0, 0, 0, 0, 0, 0, 0, 0, 0, 0, 0, 0, 0, 0, 0, 0, 0, 0, 0, 0, 0, 0, 0, 0, 0, 0, 0, 0, 0, 0, 0, 0, 0, 0, 0, 0, 0, 0, 0, 0, 0, 0, 0, 0, 0, 0, 0, 0, 0, 0, 0, 0, 0, 0, 0, 0, 0, 0, 0, 0, 0, 0, 0, 0, 0, 0, 0, 0, 0, 0, 0, 0, 0, 0, 0, 0, 0, 0, 0, 0, 0, 0, 0, 0, 0, 0, 0, 0, 0, 0, 0, 0, 0, 0, 0, 0, 0, 0, 0, 0, 0, 0, 0, 0, 0, 0, 0, 0, 0, 0, 0, 0, 0, 0, 0, 0, 0, 0, 0, 0, 0, 0, 0, 0, 0, 0, 0, 0, 0, 0, 0, 0, 0, 0, 0, 0, 0, 0, 0, 0, 0, 0, 0, 0, 0, 0, 0, 0, 0, 0, 0, 0, 0, 0, 0, 0, 0, 0, 0, 0, 0, 0, 0, 0, 0, 0, 0, 0, 0, 0, 0, 0, 0, 0, 0, 0, 0, 0, 0, 0, 0, 0, 0, 0, 0, 0, 0, 0, 0, 0, 0, 0, 0, 0, 0, 0, 0, 0, 0, 0, 0, 0, 0, 0, 0, 0, 0, 0, 0, 0, 0, 0, 0, 0, 0, 0, 0, 0, 0, 0, 0, 0, 0, 0, 0, 0, 0, 0, 0, 0, 0, 0, 0, 0, 0, 0, 0, 0, 0, 0, 0, 0, 0, 0, 0, 0, 0, 0, 0, 0, 0, 0, 0, 0, 0, 0, 0, 0, 0, 0, 0, 0, 0, 0, 0, 0, 0, 0, 0, 0, 0, 0, 0, 0, 0, 0, 0, 0, 0, 0, 0, 0, 0, 0, 0, 0, 0, 0, 0, 0, 0, 0, 0, 0, 0, 0, 0, 0, 0, 0, 0, 0, 0, 0, 0, 0, 0, 0, 0, 0, 0, 0, 0, 0, 0, 0, 0, 0, 2, 0, 1, 0]\n"
     ]
    }
   ],
   "source": [
    "test_bow = bow_encoding(test_words, vocabulary)\n",
    "print(test_bow)"
   ]
  },
  {
   "cell_type": "code",
   "execution_count": 40,
   "metadata": {},
   "outputs": [
    {
     "data": {
      "text/plain": [
       "5000"
      ]
     },
     "execution_count": 40,
     "metadata": {},
     "output_type": "execute_result"
    }
   ],
   "source": [
    "len(test_bow)"
   ]
  },
  {
   "cell_type": "markdown",
   "metadata": {},
   "source": [
    "So now we know how to construct a bag of words encoding of a user provided review, how to we send it to our endpoint? First, we need to start the endpoint back up."
   ]
  },
  {
   "cell_type": "code",
   "execution_count": 41,
   "metadata": {},
   "outputs": [
    {
     "name": "stderr",
     "output_type": "stream",
     "text": [
      "Using already existing model: xgboost-2019-08-08-01-38-29-538\n"
     ]
    },
    {
     "name": "stdout",
     "output_type": "stream",
     "text": [
      "-----------------------------------------------------------------------------------------------------!"
     ]
    }
   ],
   "source": [
    "xgb_predictor = xgb.deploy(initial_instance_count = 1, instance_type = 'ml.m4.xlarge')"
   ]
  },
  {
   "cell_type": "markdown",
   "metadata": {},
   "source": [
    "At this point we could just do the same thing that we did earlier when we tested our deployed model and send `test_bow` to our endpoint using the `xgb_predictor` object. However, when we eventually construct our Lambda function we won't have access to this object, so how do we call a SageMaker endpoint?\n",
    "\n",
    "It turns out that Python functions that are used in Lambda have access to another Amazon library called `boto3`. This library provides an API for working with Amazon services, including SageMaker. To start with, we need to get a handle to the SageMaker runtime."
   ]
  },
  {
   "cell_type": "code",
   "execution_count": 42,
   "metadata": {},
   "outputs": [],
   "source": [
    "import boto3\n",
    "\n",
    "runtime = boto3.Session().client('sagemaker-runtime')"
   ]
  },
  {
   "cell_type": "markdown",
   "metadata": {},
   "source": [
    "And now that we have access to the SageMaker runtime, we can ask it to make use of (invoke) an endpoint that has already been created. However, we need to provide SageMaker with the name of the deployed endpoint. To find this out we can print it out using the `xgb_predictor` object."
   ]
  },
  {
   "cell_type": "code",
   "execution_count": 43,
   "metadata": {},
   "outputs": [
    {
     "data": {
      "text/plain": [
       "'xgboost-2019-08-08-01-38-29-538'"
      ]
     },
     "execution_count": 43,
     "metadata": {},
     "output_type": "execute_result"
    }
   ],
   "source": [
    "xgb_predictor.endpoint"
   ]
  },
  {
   "cell_type": "markdown",
   "metadata": {},
   "source": [
    "Using the SageMaker runtime and the name of our endpoint, we can invoke the endpoint and send it the `test_bow` data."
   ]
  },
  {
   "cell_type": "code",
   "execution_count": 44,
   "metadata": {},
   "outputs": [
    {
     "ename": "ParamValidationError",
     "evalue": "Parameter validation failed:\nInvalid type for parameter Body, value: [0, 0, 0, 0, 0, 0, 0, 0, 0, 0, 0, 0, 0, 0, 0, 0, 0, 0, 0, 0, 0, 0, 0, 0, 0, 0, 0, 0, 0, 0, 0, 0, 0, 0, 0, 0, 0, 0, 0, 0, 0, 0, 0, 0, 0, 0, 0, 0, 0, 0, 0, 0, 0, 0, 0, 0, 0, 0, 0, 0, 0, 0, 0, 0, 0, 0, 0, 0, 0, 0, 0, 0, 0, 0, 0, 0, 0, 0, 0, 0, 0, 0, 0, 0, 0, 0, 0, 0, 0, 0, 0, 0, 0, 0, 0, 0, 0, 0, 0, 0, 0, 0, 0, 0, 0, 0, 0, 0, 0, 0, 0, 0, 0, 0, 0, 0, 0, 0, 0, 0, 0, 0, 0, 0, 0, 0, 0, 0, 0, 0, 0, 0, 0, 0, 0, 0, 0, 0, 0, 0, 0, 0, 0, 0, 0, 0, 0, 0, 0, 0, 0, 0, 0, 0, 0, 0, 0, 0, 0, 0, 0, 0, 0, 0, 0, 0, 0, 0, 0, 0, 0, 0, 0, 0, 0, 0, 0, 0, 0, 0, 0, 0, 0, 0, 0, 0, 0, 0, 0, 0, 0, 0, 0, 0, 0, 0, 0, 0, 0, 0, 0, 0, 0, 0, 0, 0, 0, 0, 0, 0, 0, 0, 0, 0, 0, 0, 0, 0, 0, 0, 0, 0, 0, 0, 0, 0, 1, 0, 0, 0, 0, 0, 0, 0, 0, 0, 0, 0, 0, 0, 0, 0, 0, 0, 0, 0, 0, 0, 0, 0, 0, 0, 0, 0, 0, 0, 1, 0, 0, 0, 0, 0, 0, 0, 0, 0, 0, 0, 0, 0, 0, 0, 0, 0, 0, 0, 0, 0, 0, 0, 0, 0, 0, 0, 0, 0, 0, 0, 0, 0, 0, 0, 0, 0, 0, 0, 0, 0, 0, 0, 0, 0, 0, 0, 0, 0, 0, 0, 0, 0, 0, 0, 0, 0, 0, 0, 0, 0, 0, 0, 0, 0, 0, 0, 0, 0, 0, 0, 0, 0, 0, 0, 0, 0, 0, 0, 0, 0, 0, 0, 0, 0, 0, 0, 0, 0, 0, 0, 0, 0, 0, 0, 0, 0, 0, 0, 0, 0, 0, 0, 0, 0, 0, 0, 0, 0, 0, 0, 0, 0, 0, 0, 0, 0, 0, 0, 0, 0, 0, 0, 0, 0, 0, 0, 0, 0, 0, 0, 0, 0, 0, 0, 0, 0, 0, 0, 0, 0, 0, 0, 0, 0, 0, 0, 0, 0, 0, 0, 0, 0, 0, 0, 0, 0, 0, 0, 0, 0, 0, 0, 0, 0, 0, 0, 0, 0, 0, 0, 0, 0, 0, 0, 0, 0, 0, 0, 0, 0, 0, 0, 0, 0, 0, 0, 0, 0, 0, 0, 0, 0, 0, 0, 0, 0, 0, 0, 0, 0, 0, 0, 0, 0, 0, 0, 0, 0, 0, 0, 0, 0, 0, 0, 0, 0, 0, 0, 0, 0, 0, 0, 0, 0, 0, 0, 0, 0, 0, 0, 0, 0, 0, 0, 0, 0, 0, 0, 0, 0, 0, 0, 0, 0, 0, 0, 0, 0, 0, 0, 0, 0, 0, 0, 0, 0, 0, 0, 0, 0, 0, 0, 0, 0, 0, 0, 0, 0, 0, 0, 0, 0, 0, 0, 0, 0, 0, 0, 0, 0, 0, 0, 0, 0, 0, 0, 0, 0, 0, 0, 0, 0, 0, 0, 0, 0, 0, 0, 0, 0, 0, 0, 0, 0, 0, 0, 0, 0, 0, 0, 0, 0, 0, 0, 0, 0, 0, 0, 0, 0, 0, 0, 0, 0, 0, 0, 0, 0, 0, 0, 0, 0, 0, 0, 0, 0, 0, 0, 0, 0, 0, 0, 0, 0, 0, 0, 0, 0, 0, 0, 0, 0, 0, 0, 0, 0, 0, 0, 0, 0, 0, 0, 0, 0, 0, 0, 0, 0, 0, 0, 0, 0, 0, 0, 0, 0, 0, 0, 1, 0, 0, 0, 0, 0, 0, 0, 0, 0, 0, 0, 0, 0, 0, 0, 0, 0, 0, 0, 0, 0, 0, 0, 0, 0, 0, 0, 0, 0, 0, 0, 0, 0, 0, 0, 0, 0, 0, 0, 0, 0, 0, 0, 0, 0, 0, 0, 0, 0, 0, 0, 0, 0, 0, 0, 0, 0, 0, 0, 0, 0, 0, 0, 0, 0, 0, 0, 0, 0, 0, 0, 0, 0, 0, 0, 0, 0, 0, 0, 0, 0, 0, 0, 0, 0, 0, 0, 0, 0, 0, 0, 0, 0, 0, 0, 0, 0, 0, 0, 0, 0, 0, 0, 0, 0, 0, 0, 0, 0, 0, 0, 0, 0, 0, 0, 0, 0, 0, 0, 0, 0, 0, 0, 0, 0, 0, 0, 0, 0, 0, 0, 0, 0, 0, 0, 0, 0, 0, 0, 0, 0, 0, 0, 0, 0, 0, 0, 0, 0, 0, 0, 0, 0, 0, 0, 0, 0, 0, 0, 0, 0, 0, 0, 0, 0, 0, 0, 0, 0, 0, 0, 0, 0, 0, 0, 0, 0, 0, 0, 0, 0, 0, 0, 0, 0, 0, 0, 0, 0, 0, 0, 0, 0, 0, 0, 0, 0, 0, 0, 0, 0, 0, 0, 0, 0, 0, 0, 0, 0, 0, 0, 0, 0, 0, 0, 0, 0, 0, 0, 0, 0, 0, 0, 0, 0, 0, 0, 0, 0, 0, 0, 0, 0, 0, 0, 0, 0, 0, 0, 0, 0, 0, 0, 0, 0, 0, 0, 0, 0, 0, 0, 0, 0, 1, 0, 0, 0, 0, 0, 0, 0, 0, 0, 0, 0, 0, 0, 0, 0, 0, 0, 0, 0, 0, 0, 0, 0, 0, 0, 0, 0, 0, 0, 0, 0, 0, 0, 0, 0, 0, 0, 0, 0, 0, 0, 0, 0, 0, 0, 0, 0, 0, 0, 0, 0, 0, 0, 0, 0, 0, 0, 0, 0, 0, 0, 0, 0, 0, 0, 0, 0, 0, 0, 0, 0, 0, 0, 0, 0, 0, 0, 0, 0, 0, 0, 0, 0, 0, 0, 0, 1, 0, 0, 0, 0, 0, 0, 0, 0, 0, 0, 0, 0, 0, 0, 0, 0, 0, 0, 0, 0, 0, 0, 0, 0, 0, 0, 0, 0, 0, 0, 0, 0, 0, 0, 0, 0, 0, 0, 0, 0, 0, 0, 0, 0, 0, 0, 0, 0, 0, 0, 0, 0, 0, 0, 0, 0, 0, 0, 0, 0, 0, 0, 0, 0, 0, 0, 0, 0, 0, 0, 0, 0, 0, 0, 0, 0, 0, 0, 0, 0, 0, 0, 0, 0, 0, 0, 0, 0, 0, 0, 0, 0, 0, 0, 0, 0, 0, 0, 0, 0, 0, 0, 0, 0, 0, 0, 0, 0, 0, 0, 0, 0, 0, 0, 0, 0, 0, 0, 0, 0, 0, 0, 0, 0, 0, 0, 0, 0, 0, 0, 0, 0, 0, 0, 0, 0, 0, 0, 0, 0, 0, 0, 0, 0, 0, 0, 0, 0, 0, 0, 0, 0, 0, 0, 0, 0, 0, 0, 0, 0, 0, 0, 0, 0, 0, 0, 0, 0, 0, 0, 0, 0, 0, 0, 0, 0, 0, 0, 0, 0, 0, 0, 0, 0, 0, 0, 0, 0, 0, 0, 0, 0, 0, 0, 0, 0, 0, 0, 0, 0, 0, 0, 0, 0, 0, 0, 0, 0, 0, 0, 0, 0, 0, 0, 0, 0, 0, 0, 0, 0, 0, 0, 0, 0, 0, 0, 0, 0, 0, 0, 0, 0, 0, 0, 0, 0, 0, 0, 0, 0, 0, 0, 0, 0, 0, 0, 0, 0, 0, 0, 0, 0, 1, 0, 0, 0, 0, 0, 0, 0, 0, 0, 0, 0, 0, 0, 0, 0, 0, 0, 0, 0, 0, 0, 0, 0, 0, 0, 0, 0, 0, 0, 0, 0, 0, 0, 0, 0, 0, 0, 0, 0, 0, 0, 0, 0, 0, 0, 0, 0, 0, 0, 0, 0, 0, 0, 0, 0, 1, 0, 0, 0, 0, 0, 0, 0, 0, 0, 0, 0, 0, 0, 0, 0, 0, 0, 0, 0, 0, 0, 0, 0, 0, 0, 0, 0, 0, 0, 0, 0, 0, 0, 0, 0, 0, 0, 0, 0, 0, 0, 0, 0, 0, 0, 0, 0, 0, 0, 0, 0, 0, 0, 0, 0, 0, 0, 0, 0, 0, 0, 0, 0, 0, 0, 0, 0, 0, 0, 0, 0, 0, 0, 0, 0, 0, 0, 0, 0, 0, 0, 0, 0, 0, 0, 0, 0, 0, 0, 0, 0, 0, 0, 0, 0, 0, 0, 0, 0, 0, 0, 0, 0, 0, 0, 0, 0, 0, 0, 0, 0, 0, 0, 0, 0, 0, 0, 0, 0, 0, 0, 0, 0, 0, 0, 0, 0, 0, 0, 0, 0, 0, 0, 0, 0, 0, 0, 0, 0, 0, 0, 0, 0, 0, 0, 0, 0, 0, 0, 0, 0, 0, 0, 0, 0, 0, 0, 0, 0, 0, 0, 0, 0, 0, 0, 0, 0, 0, 0, 0, 0, 0, 0, 0, 0, 0, 0, 0, 0, 0, 0, 0, 0, 0, 0, 0, 0, 0, 0, 0, 0, 0, 0, 0, 0, 0, 0, 0, 0, 0, 0, 0, 0, 0, 0, 0, 0, 0, 0, 0, 0, 0, 0, 0, 0, 0, 0, 0, 0, 0, 0, 0, 0, 0, 0, 0, 0, 0, 0, 0, 0, 0, 0, 0, 0, 0, 0, 0, 0, 0, 0, 0, 0, 0, 0, 0, 0, 0, 0, 0, 0, 0, 0, 0, 0, 0, 0, 0, 0, 0, 0, 0, 0, 0, 0, 0, 0, 0, 0, 0, 0, 0, 0, 0, 0, 0, 0, 0, 0, 0, 0, 0, 0, 0, 0, 0, 0, 0, 0, 0, 0, 0, 0, 0, 0, 0, 0, 0, 0, 0, 0, 0, 0, 0, 0, 0, 0, 0, 0, 0, 0, 0, 0, 0, 0, 0, 0, 0, 0, 0, 0, 0, 0, 0, 0, 0, 0, 0, 0, 0, 0, 0, 0, 0, 0, 0, 0, 0, 0, 0, 0, 0, 0, 0, 0, 0, 0, 0, 0, 0, 0, 0, 0, 0, 0, 0, 0, 0, 0, 0, 0, 0, 0, 0, 0, 0, 0, 0, 0, 0, 0, 0, 0, 0, 0, 0, 0, 0, 0, 0, 0, 0, 0, 0, 0, 0, 0, 0, 0, 0, 0, 0, 0, 0, 0, 0, 0, 0, 0, 0, 0, 0, 0, 0, 0, 0, 0, 0, 0, 0, 0, 0, 0, 0, 0, 0, 0, 0, 0, 0, 0, 0, 0, 0, 0, 0, 0, 0, 0, 0, 0, 0, 0, 0, 0, 0, 0, 0, 0, 0, 0, 0, 0, 0, 0, 0, 0, 0, 0, 0, 0, 0, 0, 0, 0, 0, 0, 0, 0, 0, 0, 0, 0, 0, 0, 0, 0, 0, 0, 0, 0, 0, 0, 0, 0, 0, 0, 0, 0, 0, 0, 0, 0, 0, 0, 0, 0, 0, 0, 0, 0, 0, 0, 0, 0, 0, 0, 0, 0, 0, 0, 0, 0, 0, 0, 0, 0, 0, 0, 0, 0, 0, 0, 0, 0, 0, 0, 0, 0, 0, 0, 0, 0, 0, 0, 0, 0, 0, 0, 0, 0, 0, 0, 0, 0, 0, 0, 0, 0, 0, 0, 0, 0, 0, 0, 0, 0, 0, 0, 0, 0, 0, 0, 0, 0, 0, 0, 0, 0, 0, 0, 0, 0, 0, 0, 0, 0, 0, 0, 0, 0, 0, 0, 0, 0, 0, 0, 0, 0, 0, 0, 0, 0, 0, 0, 0, 0, 0, 0, 0, 0, 0, 0, 0, 0, 0, 0, 0, 0, 0, 0, 0, 0, 0, 0, 0, 0, 0, 0, 0, 0, 0, 0, 0, 0, 0, 0, 0, 0, 0, 0, 0, 0, 0, 0, 0, 0, 0, 0, 0, 0, 0, 0, 0, 0, 0, 0, 0, 0, 0, 0, 0, 0, 0, 0, 0, 0, 0, 0, 0, 0, 0, 0, 0, 0, 0, 0, 0, 0, 0, 0, 0, 0, 0, 0, 0, 0, 0, 0, 0, 0, 0, 0, 0, 0, 0, 0, 0, 0, 0, 0, 1, 0, 0, 0, 0, 0, 0, 0, 0, 0, 0, 0, 0, 0, 0, 0, 0, 0, 0, 0, 0, 0, 0, 0, 0, 0, 0, 0, 0, 0, 0, 0, 0, 0, 0, 0, 0, 0, 0, 0, 0, 0, 0, 0, 0, 0, 0, 0, 0, 0, 0, 0, 0, 0, 0, 0, 0, 0, 0, 0, 0, 0, 0, 0, 0, 0, 0, 0, 0, 0, 0, 0, 0, 0, 0, 1, 0, 0, 0, 0, 0, 0, 0, 0, 0, 0, 0, 0, 0, 0, 0, 0, 0, 0, 0, 0, 1, 0, 0, 1, 0, 0, 0, 0, 0, 0, 0, 0, 0, 0, 0, 0, 0, 0, 0, 0, 0, 0, 0, 0, 0, 0, 0, 0, 0, 0, 0, 0, 0, 0, 0, 0, 0, 0, 0, 0, 0, 0, 0, 0, 0, 0, 0, 0, 0, 0, 0, 0, 0, 0, 0, 0, 0, 0, 0, 0, 0, 0, 0, 0, 0, 0, 0, 0, 0, 0, 0, 0, 0, 0, 0, 0, 0, 0, 0, 0, 0, 0, 0, 0, 0, 0, 0, 0, 0, 0, 0, 0, 0, 0, 0, 0, 0, 0, 0, 0, 0, 0, 0, 0, 0, 0, 0, 0, 0, 0, 0, 0, 0, 0, 0, 0, 0, 0, 0, 0, 0, 0, 0, 0, 0, 0, 0, 0, 0, 0, 0, 0, 0, 0, 0, 0, 0, 0, 0, 0, 0, 0, 0, 0, 0, 0, 0, 0, 0, 0, 0, 0, 0, 0, 0, 0, 0, 0, 0, 0, 0, 0, 0, 0, 0, 0, 0, 0, 0, 0, 0, 0, 0, 0, 0, 0, 0, 0, 0, 0, 0, 0, 0, 0, 0, 0, 0, 0, 0, 0, 0, 0, 0, 0, 0, 0, 0, 0, 0, 0, 0, 0, 0, 0, 0, 0, 0, 0, 0, 0, 0, 0, 0, 0, 0, 0, 0, 0, 0, 0, 0, 0, 0, 0, 0, 0, 0, 0, 0, 0, 0, 0, 0, 0, 0, 0, 0, 0, 0, 0, 0, 0, 0, 0, 0, 0, 0, 0, 0, 0, 0, 0, 0, 0, 0, 0, 0, 0, 0, 0, 0, 0, 0, 0, 0, 0, 0, 0, 0, 0, 0, 0, 0, 0, 0, 0, 0, 0, 0, 0, 0, 0, 0, 0, 0, 0, 0, 0, 0, 0, 0, 0, 0, 0, 0, 0, 0, 0, 0, 0, 0, 0, 0, 0, 0, 0, 0, 0, 0, 0, 0, 0, 0, 0, 0, 0, 0, 0, 0, 0, 0, 0, 0, 0, 0, 0, 0, 0, 0, 0, 0, 0, 0, 0, 0, 0, 0, 0, 0, 0, 0, 0, 0, 0, 0, 0, 0, 0, 0, 0, 0, 0, 0, 0, 0, 0, 0, 0, 0, 0, 0, 0, 0, 0, 0, 0, 0, 0, 0, 0, 0, 0, 0, 0, 0, 0, 0, 0, 0, 0, 0, 0, 0, 0, 0, 0, 0, 0, 0, 0, 0, 0, 0, 0, 0, 0, 0, 0, 0, 0, 0, 0, 0, 0, 0, 0, 0, 0, 0, 0, 0, 0, 0, 0, 0, 0, 0, 0, 0, 0, 0, 0, 0, 0, 0, 0, 0, 0, 0, 0, 0, 0, 0, 0, 0, 0, 0, 0, 0, 0, 0, 0, 0, 0, 0, 0, 0, 0, 0, 0, 0, 0, 0, 0, 0, 0, 0, 0, 0, 0, 0, 0, 0, 0, 0, 0, 0, 0, 0, 0, 1, 0, 0, 0, 0, 0, 0, 0, 0, 0, 0, 0, 0, 0, 0, 0, 0, 0, 0, 0, 0, 0, 0, 0, 0, 0, 0, 0, 0, 0, 0, 0, 0, 0, 0, 0, 0, 0, 0, 0, 0, 0, 0, 0, 0, 0, 0, 0, 0, 0, 0, 0, 0, 0, 0, 0, 0, 0, 0, 0, 0, 0, 0, 0, 0, 0, 0, 0, 0, 0, 0, 0, 0, 0, 0, 0, 0, 0, 0, 0, 0, 0, 0, 0, 0, 0, 0, 0, 0, 0, 0, 0, 0, 0, 0, 0, 0, 0, 0, 0, 0, 0, 0, 0, 0, 0, 0, 0, 0, 0, 0, 0, 0, 0, 0, 0, 0, 0, 0, 0, 0, 0, 0, 0, 0, 0, 0, 0, 0, 0, 0, 0, 0, 0, 0, 0, 0, 0, 0, 0, 0, 0, 0, 0, 0, 0, 0, 0, 0, 0, 0, 0, 0, 0, 0, 0, 0, 0, 0, 0, 0, 0, 0, 0, 0, 0, 0, 0, 0, 0, 0, 0, 0, 0, 0, 0, 0, 0, 0, 0, 0, 0, 0, 0, 0, 0, 0, 0, 0, 0, 0, 0, 0, 0, 0, 0, 0, 0, 0, 0, 0, 0, 0, 0, 0, 0, 0, 0, 0, 0, 0, 0, 0, 0, 0, 0, 0, 0, 0, 0, 0, 0, 0, 0, 0, 0, 0, 0, 0, 0, 0, 0, 0, 0, 0, 0, 0, 0, 0, 0, 0, 0, 0, 0, 0, 0, 0, 0, 0, 0, 0, 0, 0, 0, 0, 0, 0, 0, 0, 0, 0, 0, 0, 0, 0, 0, 0, 0, 0, 0, 0, 0, 0, 0, 0, 0, 0, 0, 0, 0, 0, 0, 0, 0, 0, 0, 0, 0, 0, 0, 0, 0, 0, 0, 0, 0, 0, 0, 0, 0, 0, 0, 0, 0, 0, 0, 0, 0, 0, 0, 0, 0, 0, 0, 0, 0, 0, 0, 0, 0, 0, 0, 0, 0, 0, 0, 0, 0, 0, 0, 0, 0, 0, 0, 0, 0, 0, 0, 0, 0, 0, 0, 0, 0, 0, 0, 0, 0, 0, 0, 0, 0, 0, 0, 0, 0, 0, 0, 0, 0, 0, 0, 0, 0, 0, 0, 0, 0, 0, 0, 0, 0, 0, 0, 0, 0, 0, 0, 0, 0, 0, 0, 0, 0, 0, 0, 0, 0, 0, 0, 0, 0, 0, 0, 0, 0, 0, 0, 0, 0, 0, 0, 0, 0, 0, 0, 0, 0, 0, 0, 0, 0, 0, 0, 0, 0, 0, 0, 0, 0, 0, 0, 0, 0, 0, 0, 0, 0, 0, 0, 0, 0, 0, 0, 0, 0, 0, 0, 0, 0, 0, 0, 0, 0, 0, 0, 0, 0, 0, 0, 0, 0, 0, 0, 0, 0, 0, 0, 0, 0, 0, 0, 0, 0, 0, 0, 0, 0, 0, 0, 0, 0, 0, 0, 0, 0, 0, 0, 0, 0, 0, 0, 0, 0, 0, 0, 0, 0, 0, 0, 0, 0, 0, 0, 0, 0, 0, 0, 0, 0, 0, 0, 0, 0, 0, 0, 0, 0, 0, 0, 0, 0, 0, 1, 0, 0, 0, 0, 0, 0, 0, 0, 0, 0, 0, 0, 0, 0, 0, 0, 0, 0, 0, 0, 0, 0, 0, 0, 0, 0, 0, 0, 0, 0, 0, 0, 0, 0, 0, 2, 0, 0, 0, 0, 0, 0, 0, 0, 0, 0, 0, 0, 0, 0, 0, 0, 0, 0, 0, 0, 0, 0, 0, 0, 0, 0, 0, 0, 0, 0, 0, 0, 0, 0, 0, 0, 0, 0, 0, 0, 1, 0, 0, 0, 0, 0, 0, 0, 0, 0, 0, 0, 0, 0, 0, 0, 0, 0, 0, 0, 0, 0, 0, 0, 0, 0, 0, 0, 0, 0, 0, 0, 0, 0, 0, 0, 0, 0, 0, 0, 0, 0, 0, 0, 0, 0, 0, 0, 0, 0, 0, 0, 0, 0, 0, 0, 0, 0, 0, 0, 0, 0, 0, 0, 0, 0, 0, 0, 0, 0, 0, 0, 0, 0, 0, 0, 0, 0, 0, 0, 0, 0, 0, 0, 0, 0, 0, 0, 0, 0, 0, 0, 0, 0, 0, 0, 0, 0, 0, 0, 0, 0, 0, 0, 0, 0, 0, 0, 0, 0, 0, 0, 0, 0, 0, 0, 0, 0, 0, 0, 0, 0, 0, 0, 0, 0, 0, 0, 0, 0, 0, 0, 0, 0, 0, 0, 0, 0, 0, 0, 0, 0, 0, 0, 0, 0, 0, 0, 0, 0, 0, 0, 0, 0, 0, 0, 0, 0, 0, 0, 0, 0, 0, 0, 0, 0, 0, 0, 0, 0, 0, 0, 0, 0, 0, 0, 0, 0, 0, 0, 0, 0, 0, 0, 0, 0, 0, 0, 0, 0, 0, 0, 0, 0, 0, 0, 0, 0, 0, 0, 0, 0, 0, 0, 0, 0, 0, 0, 0, 0, 0, 0, 0, 0, 0, 0, 0, 0, 0, 0, 0, 0, 0, 0, 0, 0, 0, 0, 0, 0, 0, 0, 0, 0, 0, 0, 0, 0, 0, 0, 0, 0, 0, 0, 0, 0, 0, 0, 0, 0, 0, 0, 0, 0, 0, 0, 0, 0, 0, 0, 0, 0, 0, 0, 0, 0, 0, 0, 0, 0, 0, 0, 0, 0, 0, 0, 0, 0, 0, 0, 0, 0, 0, 0, 0, 0, 0, 0, 0, 0, 0, 0, 0, 0, 0, 0, 0, 0, 0, 0, 0, 0, 0, 0, 0, 0, 0, 0, 0, 0, 0, 0, 0, 0, 0, 0, 0, 0, 0, 0, 0, 0, 0, 0, 0, 0, 0, 0, 0, 0, 0, 0, 0, 0, 0, 0, 0, 0, 0, 0, 0, 0, 0, 0, 0, 0, 0, 0, 0, 0, 0, 0, 0, 0, 0, 0, 0, 0, 0, 0, 0, 0, 0, 0, 0, 0, 0, 0, 0, 0, 0, 0, 0, 0, 0, 0, 0, 0, 0, 0, 0, 0, 0, 0, 0, 0, 0, 0, 0, 0, 0, 0, 0, 0, 0, 0, 0, 0, 0, 0, 0, 0, 0, 0, 0, 0, 0, 0, 0, 0, 0, 0, 0, 0, 0, 0, 0, 0, 0, 0, 0, 0, 0, 0, 0, 0, 0, 0, 0, 0, 0, 0, 0, 0, 0, 0, 0, 0, 0, 0, 0, 0, 0, 0, 0, 0, 0, 0, 0, 0, 0, 0, 0, 0, 0, 0, 0, 0, 0, 0, 0, 0, 0, 0, 0, 0, 0, 0, 0, 0, 0, 0, 0, 0, 0, 0, 0, 0, 0, 0, 0, 0, 0, 0, 0, 0, 0, 0, 0, 0, 0, 0, 0, 0, 0, 0, 0, 0, 1, 0, 0, 0, 0, 0, 0, 0, 0, 0, 0, 0, 0, 0, 0, 0, 0, 0, 0, 0, 0, 0, 0, 0, 0, 0, 0, 0, 0, 0, 0, 0, 0, 0, 0, 0, 0, 0, 0, 0, 0, 0, 0, 0, 0, 0, 0, 0, 0, 0, 0, 0, 0, 0, 0, 0, 0, 0, 0, 0, 0, 0, 0, 0, 0, 0, 0, 0, 0, 0, 0, 0, 0, 0, 0, 0, 0, 0, 0, 0, 0, 0, 0, 0, 0, 0, 0, 0, 0, 0, 0, 0, 0, 0, 0, 0, 0, 0, 0, 0, 0, 0, 0, 0, 0, 0, 0, 0, 0, 0, 0, 2, 0, 0, 0, 0, 0, 0, 0, 0, 0, 0, 0, 0, 0, 0, 0, 0, 0, 0, 0, 0, 0, 0, 0, 0, 0, 0, 0, 0, 0, 0, 0, 0, 0, 0, 0, 0, 0, 0, 0, 0, 0, 0, 0, 0, 0, 0, 0, 0, 0, 0, 0, 0, 0, 0, 0, 0, 0, 0, 0, 0, 0, 0, 0, 0, 0, 0, 0, 0, 0, 0, 0, 0, 0, 0, 0, 0, 0, 0, 0, 0, 0, 0, 0, 0, 0, 0, 0, 0, 0, 0, 0, 0, 0, 0, 0, 0, 0, 0, 0, 0, 0, 0, 0, 0, 0, 0, 0, 0, 0, 0, 0, 0, 0, 0, 0, 0, 0, 0, 0, 0, 0, 0, 0, 0, 0, 0, 0, 0, 0, 0, 0, 0, 0, 0, 0, 0, 0, 0, 0, 0, 0, 0, 0, 0, 0, 0, 0, 0, 0, 0, 0, 0, 0, 0, 0, 0, 0, 0, 0, 0, 0, 0, 0, 0, 0, 0, 0, 0, 0, 0, 0, 0, 0, 0, 0, 0, 0, 0, 0, 0, 0, 0, 0, 0, 0, 0, 0, 0, 0, 0, 0, 0, 0, 0, 0, 0, 0, 0, 0, 0, 0, 0, 0, 0, 0, 0, 0, 0, 0, 0, 0, 0, 0, 0, 0, 0, 0, 0, 0, 0, 0, 0, 0, 0, 0, 0, 0, 0, 0, 0, 0, 0, 0, 0, 0, 0, 0, 0, 0, 0, 0, 0, 0, 0, 0, 0, 0, 0, 0, 0, 0, 0, 0, 0, 0, 0, 0, 0, 0, 0, 0, 0, 0, 0, 0, 0, 0, 0, 0, 0, 0, 0, 0, 0, 0, 0, 0, 0, 0, 0, 0, 0, 0, 0, 0, 0, 0, 0, 0, 0, 0, 0, 0, 0, 0, 0, 0, 0, 0, 0, 0, 0, 0, 0, 0, 0, 0, 0, 0, 0, 0, 0, 0, 0, 0, 0, 0, 0, 0, 0, 0, 0, 0, 0, 0, 0, 0, 0, 0, 0, 0, 0, 0, 0, 0, 0, 0, 0, 0, 0, 0, 0, 0, 0, 0, 0, 0, 0, 0, 0, 0, 0, 0, 0, 0, 0, 0, 0, 0, 0, 0, 0, 0, 0, 0, 0, 0, 0, 0, 0, 0, 0, 0, 0, 0, 0, 0, 0, 0, 0, 0, 0, 0, 0, 0, 0, 0, 0, 0, 0, 0, 0, 0, 0, 0, 0, 0, 0, 0, 0, 0, 0, 0, 0, 0, 0, 0, 0, 0, 0, 0, 0, 0, 0, 0, 0, 0, 0, 0, 0, 0, 0, 0, 0, 0, 0, 0, 0, 0, 0, 0, 0, 0, 0, 0, 0, 0, 0, 0, 0, 0, 0, 0, 0, 0, 0, 0, 0, 0, 0, 0, 0, 0, 0, 0, 0, 0, 0, 0, 0, 0, 0, 0, 0, 0, 0, 0, 0, 0, 0, 0, 0, 0, 0, 0, 0, 0, 0, 0, 0, 0, 0, 0, 0, 0, 0, 0, 0, 0, 0, 0, 0, 0, 0, 0, 0, 0, 0, 0, 0, 0, 0, 0, 0, 0, 0, 0, 0, 0, 0, 0, 0, 0, 0, 0, 0, 0, 0, 0, 0, 0, 0, 0, 0, 0, 0, 0, 0, 0, 0, 0, 0, 0, 0, 0, 0, 0, 0, 0, 0, 0, 0, 0, 0, 0, 0, 0, 0, 0, 0, 0, 0, 0, 0, 0, 0, 0, 0, 0, 0, 0, 0, 0, 0, 0, 0, 0, 0, 0, 0, 0, 0, 0, 0, 0, 0, 0, 0, 0, 0, 0, 0, 0, 0, 0, 0, 0, 0, 0, 0, 0, 0, 0, 0, 0, 0, 0, 0, 0, 0, 0, 0, 0, 0, 0, 0, 0, 0, 0, 0, 0, 0, 0, 0, 0, 0, 0, 0, 0, 0, 0, 0, 0, 0, 0, 0, 0, 0, 0, 0, 0, 0, 0, 0, 0, 0, 0, 0, 0, 0, 0, 0, 0, 0, 0, 0, 0, 0, 0, 0, 0, 0, 0, 0, 0, 0, 0, 0, 0, 0, 0, 0, 0, 0, 0, 0, 0, 0, 0, 0, 0, 0, 0, 0, 0, 0, 0, 0, 0, 0, 0, 0, 0, 0, 0, 0, 0, 0, 0, 0, 1, 0, 0, 0, 0, 0, 0, 0, 0, 0, 0, 0, 0, 0, 0, 0, 0, 0, 0, 0, 0, 0, 0, 0, 0, 0, 0, 0, 0, 0, 0, 0, 0, 0, 0, 0, 0, 0, 0, 0, 0, 0, 0, 0, 0, 0, 0, 0, 0, 0, 0, 0, 0, 0, 0, 0, 0, 0, 0, 0, 0, 0, 0, 0, 0, 0, 0, 0, 0, 0, 0, 0, 0, 0, 0, 0, 0, 0, 0, 0, 0, 0, 0, 0, 0, 0, 0, 0, 0, 0, 0, 0, 0, 0, 0, 0, 0, 0, 0, 0, 0, 0, 0, 0, 0, 0, 0, 0, 1, 0, 0, 0, 0, 0, 0, 0, 0, 0, 0, 0, 0, 0, 0, 0, 0, 0, 0, 0, 0, 0, 0, 0, 0, 0, 0, 0, 0, 0, 0, 0, 0, 0, 0, 0, 0, 0, 0, 0, 0, 0, 0, 0, 0, 0, 0, 0, 0, 0, 0, 0, 0, 0, 0, 0, 0, 0, 0, 0, 0, 0, 0, 0, 0, 0, 0, 0, 0, 0, 0, 0, 0, 0, 0, 0, 0, 0, 0, 0, 0, 0, 0, 0, 0, 0, 0, 0, 0, 0, 0, 0, 0, 0, 0, 0, 0, 0, 0, 0, 0, 0, 0, 0, 0, 0, 0, 0, 0, 0, 0, 0, 0, 0, 0, 0, 0, 0, 0, 0, 0, 0, 0, 0, 0, 0, 0, 0, 0, 0, 0, 0, 0, 0, 0, 0, 0, 0, 0, 0, 0, 0, 0, 0, 0, 0, 0, 0, 0, 0, 0, 0, 0, 0, 0, 0, 0, 0, 0, 0, 0, 0, 0, 0, 0, 0, 0, 0, 0, 0, 0, 0, 0, 0, 0, 0, 0, 0, 0, 0, 0, 0, 0, 0, 0, 0, 0, 0, 0, 0, 0, 0, 0, 0, 0, 0, 0, 0, 0, 0, 0, 0, 0, 0, 0, 0, 0, 0, 0, 0, 0, 0, 0, 0, 0, 0, 0, 0, 0, 0, 0, 0, 0, 0, 0, 0, 0, 0, 0, 0, 0, 0, 0, 0, 0, 0, 0, 0, 0, 0, 0, 0, 0, 0, 0, 0, 0, 0, 0, 0, 0, 0, 0, 0, 0, 0, 0, 0, 0, 0, 0, 0, 0, 0, 0, 0, 0, 0, 0, 0, 0, 0, 0, 0, 0, 0, 0, 0, 0, 0, 0, 0, 0, 0, 0, 0, 0, 0, 0, 0, 0, 0, 0, 0, 0, 0, 0, 0, 0, 0, 0, 0, 0, 0, 0, 0, 0, 0, 0, 0, 0, 0, 0, 0, 0, 0, 0, 0, 0, 0, 0, 0, 0, 0, 0, 0, 0, 0, 0, 0, 0, 0, 0, 0, 0, 0, 0, 0, 0, 0, 0, 0, 0, 0, 0, 0, 0, 0, 0, 0, 0, 0, 0, 0, 0, 0, 0, 0, 0, 0, 0, 0, 0, 0, 0, 0, 0, 0, 0, 0, 0, 0, 0, 0, 0, 0, 0, 0, 0, 0, 0, 0, 0, 0, 0, 0, 0, 0, 0, 0, 0, 0, 0, 0, 0, 0, 0, 0, 0, 0, 0, 0, 0, 0, 0, 0, 0, 0, 0, 0, 0, 0, 0, 0, 0, 0, 0, 0, 0, 0, 0, 0, 0, 0, 0, 0, 0, 0, 0, 0, 0, 0, 0, 0, 0, 0, 0, 0, 0, 0, 0, 0, 0, 0, 0, 0, 0, 0, 0, 0, 0, 0, 0, 0, 0, 0, 0, 0, 0, 0, 0, 0, 0, 0, 2, 0, 1, 0], type: <class 'list'>, valid types: <class 'bytes'>, <class 'bytearray'>, file-like object",
     "output_type": "error",
     "traceback": [
      "\u001b[0;31m---------------------------------------------------------------------------\u001b[0m",
      "\u001b[0;31mParamValidationError\u001b[0m                      Traceback (most recent call last)",
      "\u001b[0;32m<ipython-input-44-c9ab54ae3a48>\u001b[0m in \u001b[0;36m<module>\u001b[0;34m()\u001b[0m\n\u001b[1;32m      1\u001b[0m response = runtime.invoke_endpoint(EndpointName = xgb_predictor.endpoint, # The name of the endpoint we created\n\u001b[1;32m      2\u001b[0m                                        \u001b[0mContentType\u001b[0m \u001b[0;34m=\u001b[0m \u001b[0;34m'text/csv'\u001b[0m\u001b[0;34m,\u001b[0m                     \u001b[0;31m# The data format that is expected\u001b[0m\u001b[0;34m\u001b[0m\u001b[0m\n\u001b[0;32m----> 3\u001b[0;31m                                        Body = test_bow)\n\u001b[0m",
      "\u001b[0;32m~/anaconda3/envs/python3/lib/python3.6/site-packages/botocore/client.py\u001b[0m in \u001b[0;36m_api_call\u001b[0;34m(self, *args, **kwargs)\u001b[0m\n\u001b[1;32m    355\u001b[0m                     \"%s() only accepts keyword arguments.\" % py_operation_name)\n\u001b[1;32m    356\u001b[0m             \u001b[0;31m# The \"self\" in this scope is referring to the BaseClient.\u001b[0m\u001b[0;34m\u001b[0m\u001b[0;34m\u001b[0m\u001b[0m\n\u001b[0;32m--> 357\u001b[0;31m             \u001b[0;32mreturn\u001b[0m \u001b[0mself\u001b[0m\u001b[0;34m.\u001b[0m\u001b[0m_make_api_call\u001b[0m\u001b[0;34m(\u001b[0m\u001b[0moperation_name\u001b[0m\u001b[0;34m,\u001b[0m \u001b[0mkwargs\u001b[0m\u001b[0;34m)\u001b[0m\u001b[0;34m\u001b[0m\u001b[0m\n\u001b[0m\u001b[1;32m    358\u001b[0m \u001b[0;34m\u001b[0m\u001b[0m\n\u001b[1;32m    359\u001b[0m         \u001b[0m_api_call\u001b[0m\u001b[0;34m.\u001b[0m\u001b[0m__name__\u001b[0m \u001b[0;34m=\u001b[0m \u001b[0mstr\u001b[0m\u001b[0;34m(\u001b[0m\u001b[0mpy_operation_name\u001b[0m\u001b[0;34m)\u001b[0m\u001b[0;34m\u001b[0m\u001b[0m\n",
      "\u001b[0;32m~/anaconda3/envs/python3/lib/python3.6/site-packages/botocore/client.py\u001b[0m in \u001b[0;36m_make_api_call\u001b[0;34m(self, operation_name, api_params)\u001b[0m\n\u001b[1;32m    632\u001b[0m         }\n\u001b[1;32m    633\u001b[0m         request_dict = self._convert_to_request_dict(\n\u001b[0;32m--> 634\u001b[0;31m             api_params, operation_model, context=request_context)\n\u001b[0m\u001b[1;32m    635\u001b[0m \u001b[0;34m\u001b[0m\u001b[0m\n\u001b[1;32m    636\u001b[0m         \u001b[0mservice_id\u001b[0m \u001b[0;34m=\u001b[0m \u001b[0mself\u001b[0m\u001b[0;34m.\u001b[0m\u001b[0m_service_model\u001b[0m\u001b[0;34m.\u001b[0m\u001b[0mservice_id\u001b[0m\u001b[0;34m.\u001b[0m\u001b[0mhyphenize\u001b[0m\u001b[0;34m(\u001b[0m\u001b[0;34m)\u001b[0m\u001b[0;34m\u001b[0m\u001b[0m\n",
      "\u001b[0;32m~/anaconda3/envs/python3/lib/python3.6/site-packages/botocore/client.py\u001b[0m in \u001b[0;36m_convert_to_request_dict\u001b[0;34m(self, api_params, operation_model, context)\u001b[0m\n\u001b[1;32m    680\u001b[0m             api_params, operation_model, context)\n\u001b[1;32m    681\u001b[0m         request_dict = self._serializer.serialize_to_request(\n\u001b[0;32m--> 682\u001b[0;31m             api_params, operation_model)\n\u001b[0m\u001b[1;32m    683\u001b[0m         \u001b[0;32mif\u001b[0m \u001b[0;32mnot\u001b[0m \u001b[0mself\u001b[0m\u001b[0;34m.\u001b[0m\u001b[0m_client_config\u001b[0m\u001b[0;34m.\u001b[0m\u001b[0minject_host_prefix\u001b[0m\u001b[0;34m:\u001b[0m\u001b[0;34m\u001b[0m\u001b[0m\n\u001b[1;32m    684\u001b[0m             \u001b[0mrequest_dict\u001b[0m\u001b[0;34m.\u001b[0m\u001b[0mpop\u001b[0m\u001b[0;34m(\u001b[0m\u001b[0;34m'host_prefix'\u001b[0m\u001b[0;34m,\u001b[0m \u001b[0;32mNone\u001b[0m\u001b[0;34m)\u001b[0m\u001b[0;34m\u001b[0m\u001b[0m\n",
      "\u001b[0;32m~/anaconda3/envs/python3/lib/python3.6/site-packages/botocore/validate.py\u001b[0m in \u001b[0;36mserialize_to_request\u001b[0;34m(self, parameters, operation_model)\u001b[0m\n\u001b[1;32m    295\u001b[0m                                                     operation_model.input_shape)\n\u001b[1;32m    296\u001b[0m             \u001b[0;32mif\u001b[0m \u001b[0mreport\u001b[0m\u001b[0;34m.\u001b[0m\u001b[0mhas_errors\u001b[0m\u001b[0;34m(\u001b[0m\u001b[0;34m)\u001b[0m\u001b[0;34m:\u001b[0m\u001b[0;34m\u001b[0m\u001b[0m\n\u001b[0;32m--> 297\u001b[0;31m                 \u001b[0;32mraise\u001b[0m \u001b[0mParamValidationError\u001b[0m\u001b[0;34m(\u001b[0m\u001b[0mreport\u001b[0m\u001b[0;34m=\u001b[0m\u001b[0mreport\u001b[0m\u001b[0;34m.\u001b[0m\u001b[0mgenerate_report\u001b[0m\u001b[0;34m(\u001b[0m\u001b[0;34m)\u001b[0m\u001b[0;34m)\u001b[0m\u001b[0;34m\u001b[0m\u001b[0m\n\u001b[0m\u001b[1;32m    298\u001b[0m         return self._serializer.serialize_to_request(parameters,\n\u001b[1;32m    299\u001b[0m                                                      operation_model)\n",
      "\u001b[0;31mParamValidationError\u001b[0m: Parameter validation failed:\nInvalid type for parameter Body, value: [0, 0, 0, 0, 0, 0, 0, 0, 0, 0, 0, 0, 0, 0, 0, 0, 0, 0, 0, 0, 0, 0, 0, 0, 0, 0, 0, 0, 0, 0, 0, 0, 0, 0, 0, 0, 0, 0, 0, 0, 0, 0, 0, 0, 0, 0, 0, 0, 0, 0, 0, 0, 0, 0, 0, 0, 0, 0, 0, 0, 0, 0, 0, 0, 0, 0, 0, 0, 0, 0, 0, 0, 0, 0, 0, 0, 0, 0, 0, 0, 0, 0, 0, 0, 0, 0, 0, 0, 0, 0, 0, 0, 0, 0, 0, 0, 0, 0, 0, 0, 0, 0, 0, 0, 0, 0, 0, 0, 0, 0, 0, 0, 0, 0, 0, 0, 0, 0, 0, 0, 0, 0, 0, 0, 0, 0, 0, 0, 0, 0, 0, 0, 0, 0, 0, 0, 0, 0, 0, 0, 0, 0, 0, 0, 0, 0, 0, 0, 0, 0, 0, 0, 0, 0, 0, 0, 0, 0, 0, 0, 0, 0, 0, 0, 0, 0, 0, 0, 0, 0, 0, 0, 0, 0, 0, 0, 0, 0, 0, 0, 0, 0, 0, 0, 0, 0, 0, 0, 0, 0, 0, 0, 0, 0, 0, 0, 0, 0, 0, 0, 0, 0, 0, 0, 0, 0, 0, 0, 0, 0, 0, 0, 0, 0, 0, 0, 0, 0, 0, 0, 0, 0, 0, 0, 0, 0, 1, 0, 0, 0, 0, 0, 0, 0, 0, 0, 0, 0, 0, 0, 0, 0, 0, 0, 0, 0, 0, 0, 0, 0, 0, 0, 0, 0, 0, 0, 1, 0, 0, 0, 0, 0, 0, 0, 0, 0, 0, 0, 0, 0, 0, 0, 0, 0, 0, 0, 0, 0, 0, 0, 0, 0, 0, 0, 0, 0, 0, 0, 0, 0, 0, 0, 0, 0, 0, 0, 0, 0, 0, 0, 0, 0, 0, 0, 0, 0, 0, 0, 0, 0, 0, 0, 0, 0, 0, 0, 0, 0, 0, 0, 0, 0, 0, 0, 0, 0, 0, 0, 0, 0, 0, 0, 0, 0, 0, 0, 0, 0, 0, 0, 0, 0, 0, 0, 0, 0, 0, 0, 0, 0, 0, 0, 0, 0, 0, 0, 0, 0, 0, 0, 0, 0, 0, 0, 0, 0, 0, 0, 0, 0, 0, 0, 0, 0, 0, 0, 0, 0, 0, 0, 0, 0, 0, 0, 0, 0, 0, 0, 0, 0, 0, 0, 0, 0, 0, 0, 0, 0, 0, 0, 0, 0, 0, 0, 0, 0, 0, 0, 0, 0, 0, 0, 0, 0, 0, 0, 0, 0, 0, 0, 0, 0, 0, 0, 0, 0, 0, 0, 0, 0, 0, 0, 0, 0, 0, 0, 0, 0, 0, 0, 0, 0, 0, 0, 0, 0, 0, 0, 0, 0, 0, 0, 0, 0, 0, 0, 0, 0, 0, 0, 0, 0, 0, 0, 0, 0, 0, 0, 0, 0, 0, 0, 0, 0, 0, 0, 0, 0, 0, 0, 0, 0, 0, 0, 0, 0, 0, 0, 0, 0, 0, 0, 0, 0, 0, 0, 0, 0, 0, 0, 0, 0, 0, 0, 0, 0, 0, 0, 0, 0, 0, 0, 0, 0, 0, 0, 0, 0, 0, 0, 0, 0, 0, 0, 0, 0, 0, 0, 0, 0, 0, 0, 0, 0, 0, 0, 0, 0, 0, 0, 0, 0, 0, 0, 0, 0, 0, 0, 0, 0, 0, 0, 0, 0, 0, 0, 0, 0, 0, 0, 0, 0, 0, 0, 0, 0, 0, 0, 0, 0, 0, 0, 0, 0, 0, 0, 0, 0, 0, 0, 0, 0, 0, 0, 0, 0, 0, 0, 0, 0, 0, 0, 0, 0, 0, 0, 0, 0, 0, 0, 0, 0, 0, 0, 0, 0, 0, 0, 0, 0, 0, 0, 0, 0, 0, 0, 0, 0, 0, 0, 0, 0, 0, 0, 0, 0, 0, 0, 0, 0, 0, 0, 0, 0, 0, 0, 1, 0, 0, 0, 0, 0, 0, 0, 0, 0, 0, 0, 0, 0, 0, 0, 0, 0, 0, 0, 0, 0, 0, 0, 0, 0, 0, 0, 0, 0, 0, 0, 0, 0, 0, 0, 0, 0, 0, 0, 0, 0, 0, 0, 0, 0, 0, 0, 0, 0, 0, 0, 0, 0, 0, 0, 0, 0, 0, 0, 0, 0, 0, 0, 0, 0, 0, 0, 0, 0, 0, 0, 0, 0, 0, 0, 0, 0, 0, 0, 0, 0, 0, 0, 0, 0, 0, 0, 0, 0, 0, 0, 0, 0, 0, 0, 0, 0, 0, 0, 0, 0, 0, 0, 0, 0, 0, 0, 0, 0, 0, 0, 0, 0, 0, 0, 0, 0, 0, 0, 0, 0, 0, 0, 0, 0, 0, 0, 0, 0, 0, 0, 0, 0, 0, 0, 0, 0, 0, 0, 0, 0, 0, 0, 0, 0, 0, 0, 0, 0, 0, 0, 0, 0, 0, 0, 0, 0, 0, 0, 0, 0, 0, 0, 0, 0, 0, 0, 0, 0, 0, 0, 0, 0, 0, 0, 0, 0, 0, 0, 0, 0, 0, 0, 0, 0, 0, 0, 0, 0, 0, 0, 0, 0, 0, 0, 0, 0, 0, 0, 0, 0, 0, 0, 0, 0, 0, 0, 0, 0, 0, 0, 0, 0, 0, 0, 0, 0, 0, 0, 0, 0, 0, 0, 0, 0, 0, 0, 0, 0, 0, 0, 0, 0, 0, 0, 0, 0, 0, 0, 0, 0, 0, 0, 0, 0, 0, 0, 0, 0, 0, 0, 0, 0, 1, 0, 0, 0, 0, 0, 0, 0, 0, 0, 0, 0, 0, 0, 0, 0, 0, 0, 0, 0, 0, 0, 0, 0, 0, 0, 0, 0, 0, 0, 0, 0, 0, 0, 0, 0, 0, 0, 0, 0, 0, 0, 0, 0, 0, 0, 0, 0, 0, 0, 0, 0, 0, 0, 0, 0, 0, 0, 0, 0, 0, 0, 0, 0, 0, 0, 0, 0, 0, 0, 0, 0, 0, 0, 0, 0, 0, 0, 0, 0, 0, 0, 0, 0, 0, 0, 0, 1, 0, 0, 0, 0, 0, 0, 0, 0, 0, 0, 0, 0, 0, 0, 0, 0, 0, 0, 0, 0, 0, 0, 0, 0, 0, 0, 0, 0, 0, 0, 0, 0, 0, 0, 0, 0, 0, 0, 0, 0, 0, 0, 0, 0, 0, 0, 0, 0, 0, 0, 0, 0, 0, 0, 0, 0, 0, 0, 0, 0, 0, 0, 0, 0, 0, 0, 0, 0, 0, 0, 0, 0, 0, 0, 0, 0, 0, 0, 0, 0, 0, 0, 0, 0, 0, 0, 0, 0, 0, 0, 0, 0, 0, 0, 0, 0, 0, 0, 0, 0, 0, 0, 0, 0, 0, 0, 0, 0, 0, 0, 0, 0, 0, 0, 0, 0, 0, 0, 0, 0, 0, 0, 0, 0, 0, 0, 0, 0, 0, 0, 0, 0, 0, 0, 0, 0, 0, 0, 0, 0, 0, 0, 0, 0, 0, 0, 0, 0, 0, 0, 0, 0, 0, 0, 0, 0, 0, 0, 0, 0, 0, 0, 0, 0, 0, 0, 0, 0, 0, 0, 0, 0, 0, 0, 0, 0, 0, 0, 0, 0, 0, 0, 0, 0, 0, 0, 0, 0, 0, 0, 0, 0, 0, 0, 0, 0, 0, 0, 0, 0, 0, 0, 0, 0, 0, 0, 0, 0, 0, 0, 0, 0, 0, 0, 0, 0, 0, 0, 0, 0, 0, 0, 0, 0, 0, 0, 0, 0, 0, 0, 0, 0, 0, 0, 0, 0, 0, 0, 0, 0, 0, 0, 0, 0, 0, 0, 0, 0, 0, 0, 0, 0, 1, 0, 0, 0, 0, 0, 0, 0, 0, 0, 0, 0, 0, 0, 0, 0, 0, 0, 0, 0, 0, 0, 0, 0, 0, 0, 0, 0, 0, 0, 0, 0, 0, 0, 0, 0, 0, 0, 0, 0, 0, 0, 0, 0, 0, 0, 0, 0, 0, 0, 0, 0, 0, 0, 0, 0, 1, 0, 0, 0, 0, 0, 0, 0, 0, 0, 0, 0, 0, 0, 0, 0, 0, 0, 0, 0, 0, 0, 0, 0, 0, 0, 0, 0, 0, 0, 0, 0, 0, 0, 0, 0, 0, 0, 0, 0, 0, 0, 0, 0, 0, 0, 0, 0, 0, 0, 0, 0, 0, 0, 0, 0, 0, 0, 0, 0, 0, 0, 0, 0, 0, 0, 0, 0, 0, 0, 0, 0, 0, 0, 0, 0, 0, 0, 0, 0, 0, 0, 0, 0, 0, 0, 0, 0, 0, 0, 0, 0, 0, 0, 0, 0, 0, 0, 0, 0, 0, 0, 0, 0, 0, 0, 0, 0, 0, 0, 0, 0, 0, 0, 0, 0, 0, 0, 0, 0, 0, 0, 0, 0, 0, 0, 0, 0, 0, 0, 0, 0, 0, 0, 0, 0, 0, 0, 0, 0, 0, 0, 0, 0, 0, 0, 0, 0, 0, 0, 0, 0, 0, 0, 0, 0, 0, 0, 0, 0, 0, 0, 0, 0, 0, 0, 0, 0, 0, 0, 0, 0, 0, 0, 0, 0, 0, 0, 0, 0, 0, 0, 0, 0, 0, 0, 0, 0, 0, 0, 0, 0, 0, 0, 0, 0, 0, 0, 0, 0, 0, 0, 0, 0, 0, 0, 0, 0, 0, 0, 0, 0, 0, 0, 0, 0, 0, 0, 0, 0, 0, 0, 0, 0, 0, 0, 0, 0, 0, 0, 0, 0, 0, 0, 0, 0, 0, 0, 0, 0, 0, 0, 0, 0, 0, 0, 0, 0, 0, 0, 0, 0, 0, 0, 0, 0, 0, 0, 0, 0, 0, 0, 0, 0, 0, 0, 0, 0, 0, 0, 0, 0, 0, 0, 0, 0, 0, 0, 0, 0, 0, 0, 0, 0, 0, 0, 0, 0, 0, 0, 0, 0, 0, 0, 0, 0, 0, 0, 0, 0, 0, 0, 0, 0, 0, 0, 0, 0, 0, 0, 0, 0, 0, 0, 0, 0, 0, 0, 0, 0, 0, 0, 0, 0, 0, 0, 0, 0, 0, 0, 0, 0, 0, 0, 0, 0, 0, 0, 0, 0, 0, 0, 0, 0, 0, 0, 0, 0, 0, 0, 0, 0, 0, 0, 0, 0, 0, 0, 0, 0, 0, 0, 0, 0, 0, 0, 0, 0, 0, 0, 0, 0, 0, 0, 0, 0, 0, 0, 0, 0, 0, 0, 0, 0, 0, 0, 0, 0, 0, 0, 0, 0, 0, 0, 0, 0, 0, 0, 0, 0, 0, 0, 0, 0, 0, 0, 0, 0, 0, 0, 0, 0, 0, 0, 0, 0, 0, 0, 0, 0, 0, 0, 0, 0, 0, 0, 0, 0, 0, 0, 0, 0, 0, 0, 0, 0, 0, 0, 0, 0, 0, 0, 0, 0, 0, 0, 0, 0, 0, 0, 0, 0, 0, 0, 0, 0, 0, 0, 0, 0, 0, 0, 0, 0, 0, 0, 0, 0, 0, 0, 0, 0, 0, 0, 0, 0, 0, 0, 0, 0, 0, 0, 0, 0, 0, 0, 0, 0, 0, 0, 0, 0, 0, 0, 0, 0, 0, 0, 0, 0, 0, 0, 0, 0, 0, 0, 0, 0, 0, 0, 0, 0, 0, 0, 0, 0, 0, 0, 0, 0, 0, 0, 0, 0, 0, 0, 0, 0, 0, 0, 0, 0, 0, 0, 0, 0, 0, 0, 0, 0, 0, 0, 0, 0, 0, 0, 0, 0, 0, 0, 0, 0, 0, 0, 0, 0, 0, 0, 0, 0, 0, 0, 0, 0, 0, 0, 0, 0, 0, 0, 0, 0, 0, 0, 0, 0, 0, 0, 0, 0, 0, 0, 0, 0, 0, 0, 0, 0, 0, 0, 0, 0, 0, 0, 0, 0, 0, 0, 0, 0, 0, 0, 0, 0, 0, 0, 0, 0, 0, 0, 0, 0, 0, 0, 0, 0, 0, 0, 0, 0, 0, 0, 0, 0, 0, 0, 0, 0, 0, 0, 0, 0, 0, 0, 0, 0, 0, 0, 0, 0, 0, 0, 0, 0, 0, 0, 0, 0, 0, 0, 0, 0, 0, 0, 0, 0, 0, 0, 0, 0, 0, 0, 0, 0, 0, 0, 0, 0, 0, 0, 0, 0, 0, 0, 0, 0, 0, 0, 0, 0, 0, 0, 1, 0, 0, 0, 0, 0, 0, 0, 0, 0, 0, 0, 0, 0, 0, 0, 0, 0, 0, 0, 0, 0, 0, 0, 0, 0, 0, 0, 0, 0, 0, 0, 0, 0, 0, 0, 0, 0, 0, 0, 0, 0, 0, 0, 0, 0, 0, 0, 0, 0, 0, 0, 0, 0, 0, 0, 0, 0, 0, 0, 0, 0, 0, 0, 0, 0, 0, 0, 0, 0, 0, 0, 0, 0, 0, 1, 0, 0, 0, 0, 0, 0, 0, 0, 0, 0, 0, 0, 0, 0, 0, 0, 0, 0, 0, 0, 1, 0, 0, 1, 0, 0, 0, 0, 0, 0, 0, 0, 0, 0, 0, 0, 0, 0, 0, 0, 0, 0, 0, 0, 0, 0, 0, 0, 0, 0, 0, 0, 0, 0, 0, 0, 0, 0, 0, 0, 0, 0, 0, 0, 0, 0, 0, 0, 0, 0, 0, 0, 0, 0, 0, 0, 0, 0, 0, 0, 0, 0, 0, 0, 0, 0, 0, 0, 0, 0, 0, 0, 0, 0, 0, 0, 0, 0, 0, 0, 0, 0, 0, 0, 0, 0, 0, 0, 0, 0, 0, 0, 0, 0, 0, 0, 0, 0, 0, 0, 0, 0, 0, 0, 0, 0, 0, 0, 0, 0, 0, 0, 0, 0, 0, 0, 0, 0, 0, 0, 0, 0, 0, 0, 0, 0, 0, 0, 0, 0, 0, 0, 0, 0, 0, 0, 0, 0, 0, 0, 0, 0, 0, 0, 0, 0, 0, 0, 0, 0, 0, 0, 0, 0, 0, 0, 0, 0, 0, 0, 0, 0, 0, 0, 0, 0, 0, 0, 0, 0, 0, 0, 0, 0, 0, 0, 0, 0, 0, 0, 0, 0, 0, 0, 0, 0, 0, 0, 0, 0, 0, 0, 0, 0, 0, 0, 0, 0, 0, 0, 0, 0, 0, 0, 0, 0, 0, 0, 0, 0, 0, 0, 0, 0, 0, 0, 0, 0, 0, 0, 0, 0, 0, 0, 0, 0, 0, 0, 0, 0, 0, 0, 0, 0, 0, 0, 0, 0, 0, 0, 0, 0, 0, 0, 0, 0, 0, 0, 0, 0, 0, 0, 0, 0, 0, 0, 0, 0, 0, 0, 0, 0, 0, 0, 0, 0, 0, 0, 0, 0, 0, 0, 0, 0, 0, 0, 0, 0, 0, 0, 0, 0, 0, 0, 0, 0, 0, 0, 0, 0, 0, 0, 0, 0, 0, 0, 0, 0, 0, 0, 0, 0, 0, 0, 0, 0, 0, 0, 0, 0, 0, 0, 0, 0, 0, 0, 0, 0, 0, 0, 0, 0, 0, 0, 0, 0, 0, 0, 0, 0, 0, 0, 0, 0, 0, 0, 0, 0, 0, 0, 0, 0, 0, 0, 0, 0, 0, 0, 0, 0, 0, 0, 0, 0, 0, 0, 0, 0, 0, 0, 0, 0, 0, 0, 0, 0, 0, 0, 0, 0, 0, 0, 0, 0, 0, 0, 0, 0, 0, 0, 0, 0, 0, 0, 0, 0, 0, 0, 0, 0, 0, 0, 0, 0, 0, 0, 0, 0, 0, 0, 0, 0, 0, 0, 0, 0, 0, 0, 0, 0, 0, 0, 0, 0, 0, 0, 0, 0, 0, 0, 0, 0, 0, 0, 0, 0, 0, 0, 0, 0, 0, 0, 0, 0, 0, 0, 0, 0, 0, 0, 0, 0, 0, 0, 0, 0, 0, 0, 0, 0, 0, 0, 0, 0, 0, 0, 0, 0, 0, 0, 0, 0, 0, 0, 0, 0, 0, 0, 0, 0, 1, 0, 0, 0, 0, 0, 0, 0, 0, 0, 0, 0, 0, 0, 0, 0, 0, 0, 0, 0, 0, 0, 0, 0, 0, 0, 0, 0, 0, 0, 0, 0, 0, 0, 0, 0, 0, 0, 0, 0, 0, 0, 0, 0, 0, 0, 0, 0, 0, 0, 0, 0, 0, 0, 0, 0, 0, 0, 0, 0, 0, 0, 0, 0, 0, 0, 0, 0, 0, 0, 0, 0, 0, 0, 0, 0, 0, 0, 0, 0, 0, 0, 0, 0, 0, 0, 0, 0, 0, 0, 0, 0, 0, 0, 0, 0, 0, 0, 0, 0, 0, 0, 0, 0, 0, 0, 0, 0, 0, 0, 0, 0, 0, 0, 0, 0, 0, 0, 0, 0, 0, 0, 0, 0, 0, 0, 0, 0, 0, 0, 0, 0, 0, 0, 0, 0, 0, 0, 0, 0, 0, 0, 0, 0, 0, 0, 0, 0, 0, 0, 0, 0, 0, 0, 0, 0, 0, 0, 0, 0, 0, 0, 0, 0, 0, 0, 0, 0, 0, 0, 0, 0, 0, 0, 0, 0, 0, 0, 0, 0, 0, 0, 0, 0, 0, 0, 0, 0, 0, 0, 0, 0, 0, 0, 0, 0, 0, 0, 0, 0, 0, 0, 0, 0, 0, 0, 0, 0, 0, 0, 0, 0, 0, 0, 0, 0, 0, 0, 0, 0, 0, 0, 0, 0, 0, 0, 0, 0, 0, 0, 0, 0, 0, 0, 0, 0, 0, 0, 0, 0, 0, 0, 0, 0, 0, 0, 0, 0, 0, 0, 0, 0, 0, 0, 0, 0, 0, 0, 0, 0, 0, 0, 0, 0, 0, 0, 0, 0, 0, 0, 0, 0, 0, 0, 0, 0, 0, 0, 0, 0, 0, 0, 0, 0, 0, 0, 0, 0, 0, 0, 0, 0, 0, 0, 0, 0, 0, 0, 0, 0, 0, 0, 0, 0, 0, 0, 0, 0, 0, 0, 0, 0, 0, 0, 0, 0, 0, 0, 0, 0, 0, 0, 0, 0, 0, 0, 0, 0, 0, 0, 0, 0, 0, 0, 0, 0, 0, 0, 0, 0, 0, 0, 0, 0, 0, 0, 0, 0, 0, 0, 0, 0, 0, 0, 0, 0, 0, 0, 0, 0, 0, 0, 0, 0, 0, 0, 0, 0, 0, 0, 0, 0, 0, 0, 0, 0, 0, 0, 0, 0, 0, 0, 0, 0, 0, 0, 0, 0, 0, 0, 0, 0, 0, 0, 0, 0, 0, 0, 0, 0, 0, 0, 0, 0, 0, 0, 0, 0, 0, 0, 0, 0, 0, 0, 0, 0, 0, 0, 0, 0, 0, 0, 0, 0, 0, 0, 0, 0, 0, 0, 0, 0, 0, 0, 0, 0, 0, 0, 0, 0, 0, 0, 0, 0, 0, 0, 0, 0, 0, 0, 0, 0, 0, 0, 0, 0, 0, 0, 0, 0, 0, 0, 0, 0, 0, 0, 0, 0, 0, 0, 0, 0, 0, 0, 0, 0, 0, 0, 0, 0, 0, 0, 0, 0, 0, 0, 0, 0, 0, 0, 0, 0, 0, 0, 0, 0, 0, 0, 0, 0, 0, 0, 0, 0, 0, 0, 0, 0, 0, 0, 0, 0, 0, 1, 0, 0, 0, 0, 0, 0, 0, 0, 0, 0, 0, 0, 0, 0, 0, 0, 0, 0, 0, 0, 0, 0, 0, 0, 0, 0, 0, 0, 0, 0, 0, 0, 0, 0, 0, 2, 0, 0, 0, 0, 0, 0, 0, 0, 0, 0, 0, 0, 0, 0, 0, 0, 0, 0, 0, 0, 0, 0, 0, 0, 0, 0, 0, 0, 0, 0, 0, 0, 0, 0, 0, 0, 0, 0, 0, 0, 1, 0, 0, 0, 0, 0, 0, 0, 0, 0, 0, 0, 0, 0, 0, 0, 0, 0, 0, 0, 0, 0, 0, 0, 0, 0, 0, 0, 0, 0, 0, 0, 0, 0, 0, 0, 0, 0, 0, 0, 0, 0, 0, 0, 0, 0, 0, 0, 0, 0, 0, 0, 0, 0, 0, 0, 0, 0, 0, 0, 0, 0, 0, 0, 0, 0, 0, 0, 0, 0, 0, 0, 0, 0, 0, 0, 0, 0, 0, 0, 0, 0, 0, 0, 0, 0, 0, 0, 0, 0, 0, 0, 0, 0, 0, 0, 0, 0, 0, 0, 0, 0, 0, 0, 0, 0, 0, 0, 0, 0, 0, 0, 0, 0, 0, 0, 0, 0, 0, 0, 0, 0, 0, 0, 0, 0, 0, 0, 0, 0, 0, 0, 0, 0, 0, 0, 0, 0, 0, 0, 0, 0, 0, 0, 0, 0, 0, 0, 0, 0, 0, 0, 0, 0, 0, 0, 0, 0, 0, 0, 0, 0, 0, 0, 0, 0, 0, 0, 0, 0, 0, 0, 0, 0, 0, 0, 0, 0, 0, 0, 0, 0, 0, 0, 0, 0, 0, 0, 0, 0, 0, 0, 0, 0, 0, 0, 0, 0, 0, 0, 0, 0, 0, 0, 0, 0, 0, 0, 0, 0, 0, 0, 0, 0, 0, 0, 0, 0, 0, 0, 0, 0, 0, 0, 0, 0, 0, 0, 0, 0, 0, 0, 0, 0, 0, 0, 0, 0, 0, 0, 0, 0, 0, 0, 0, 0, 0, 0, 0, 0, 0, 0, 0, 0, 0, 0, 0, 0, 0, 0, 0, 0, 0, 0, 0, 0, 0, 0, 0, 0, 0, 0, 0, 0, 0, 0, 0, 0, 0, 0, 0, 0, 0, 0, 0, 0, 0, 0, 0, 0, 0, 0, 0, 0, 0, 0, 0, 0, 0, 0, 0, 0, 0, 0, 0, 0, 0, 0, 0, 0, 0, 0, 0, 0, 0, 0, 0, 0, 0, 0, 0, 0, 0, 0, 0, 0, 0, 0, 0, 0, 0, 0, 0, 0, 0, 0, 0, 0, 0, 0, 0, 0, 0, 0, 0, 0, 0, 0, 0, 0, 0, 0, 0, 0, 0, 0, 0, 0, 0, 0, 0, 0, 0, 0, 0, 0, 0, 0, 0, 0, 0, 0, 0, 0, 0, 0, 0, 0, 0, 0, 0, 0, 0, 0, 0, 0, 0, 0, 0, 0, 0, 0, 0, 0, 0, 0, 0, 0, 0, 0, 0, 0, 0, 0, 0, 0, 0, 0, 0, 0, 0, 0, 0, 0, 0, 0, 0, 0, 0, 0, 0, 0, 0, 0, 0, 0, 0, 0, 0, 0, 0, 0, 0, 0, 0, 0, 0, 0, 0, 0, 0, 0, 0, 0, 0, 0, 0, 0, 0, 0, 0, 0, 0, 0, 0, 0, 0, 0, 0, 0, 0, 0, 0, 0, 0, 0, 0, 0, 0, 0, 0, 0, 0, 0, 0, 0, 0, 0, 0, 0, 0, 0, 0, 0, 0, 0, 0, 0, 0, 0, 0, 0, 0, 0, 0, 0, 0, 0, 1, 0, 0, 0, 0, 0, 0, 0, 0, 0, 0, 0, 0, 0, 0, 0, 0, 0, 0, 0, 0, 0, 0, 0, 0, 0, 0, 0, 0, 0, 0, 0, 0, 0, 0, 0, 0, 0, 0, 0, 0, 0, 0, 0, 0, 0, 0, 0, 0, 0, 0, 0, 0, 0, 0, 0, 0, 0, 0, 0, 0, 0, 0, 0, 0, 0, 0, 0, 0, 0, 0, 0, 0, 0, 0, 0, 0, 0, 0, 0, 0, 0, 0, 0, 0, 0, 0, 0, 0, 0, 0, 0, 0, 0, 0, 0, 0, 0, 0, 0, 0, 0, 0, 0, 0, 0, 0, 0, 0, 0, 0, 2, 0, 0, 0, 0, 0, 0, 0, 0, 0, 0, 0, 0, 0, 0, 0, 0, 0, 0, 0, 0, 0, 0, 0, 0, 0, 0, 0, 0, 0, 0, 0, 0, 0, 0, 0, 0, 0, 0, 0, 0, 0, 0, 0, 0, 0, 0, 0, 0, 0, 0, 0, 0, 0, 0, 0, 0, 0, 0, 0, 0, 0, 0, 0, 0, 0, 0, 0, 0, 0, 0, 0, 0, 0, 0, 0, 0, 0, 0, 0, 0, 0, 0, 0, 0, 0, 0, 0, 0, 0, 0, 0, 0, 0, 0, 0, 0, 0, 0, 0, 0, 0, 0, 0, 0, 0, 0, 0, 0, 0, 0, 0, 0, 0, 0, 0, 0, 0, 0, 0, 0, 0, 0, 0, 0, 0, 0, 0, 0, 0, 0, 0, 0, 0, 0, 0, 0, 0, 0, 0, 0, 0, 0, 0, 0, 0, 0, 0, 0, 0, 0, 0, 0, 0, 0, 0, 0, 0, 0, 0, 0, 0, 0, 0, 0, 0, 0, 0, 0, 0, 0, 0, 0, 0, 0, 0, 0, 0, 0, 0, 0, 0, 0, 0, 0, 0, 0, 0, 0, 0, 0, 0, 0, 0, 0, 0, 0, 0, 0, 0, 0, 0, 0, 0, 0, 0, 0, 0, 0, 0, 0, 0, 0, 0, 0, 0, 0, 0, 0, 0, 0, 0, 0, 0, 0, 0, 0, 0, 0, 0, 0, 0, 0, 0, 0, 0, 0, 0, 0, 0, 0, 0, 0, 0, 0, 0, 0, 0, 0, 0, 0, 0, 0, 0, 0, 0, 0, 0, 0, 0, 0, 0, 0, 0, 0, 0, 0, 0, 0, 0, 0, 0, 0, 0, 0, 0, 0, 0, 0, 0, 0, 0, 0, 0, 0, 0, 0, 0, 0, 0, 0, 0, 0, 0, 0, 0, 0, 0, 0, 0, 0, 0, 0, 0, 0, 0, 0, 0, 0, 0, 0, 0, 0, 0, 0, 0, 0, 0, 0, 0, 0, 0, 0, 0, 0, 0, 0, 0, 0, 0, 0, 0, 0, 0, 0, 0, 0, 0, 0, 0, 0, 0, 0, 0, 0, 0, 0, 0, 0, 0, 0, 0, 0, 0, 0, 0, 0, 0, 0, 0, 0, 0, 0, 0, 0, 0, 0, 0, 0, 0, 0, 0, 0, 0, 0, 0, 0, 0, 0, 0, 0, 0, 0, 0, 0, 0, 0, 0, 0, 0, 0, 0, 0, 0, 0, 0, 0, 0, 0, 0, 0, 0, 0, 0, 0, 0, 0, 0, 0, 0, 0, 0, 0, 0, 0, 0, 0, 0, 0, 0, 0, 0, 0, 0, 0, 0, 0, 0, 0, 0, 0, 0, 0, 0, 0, 0, 0, 0, 0, 0, 0, 0, 0, 0, 0, 0, 0, 0, 0, 0, 0, 0, 0, 0, 0, 0, 0, 0, 0, 0, 0, 0, 0, 0, 0, 0, 0, 0, 0, 0, 0, 0, 0, 0, 0, 0, 0, 0, 0, 0, 0, 0, 0, 0, 0, 0, 0, 0, 0, 0, 0, 0, 0, 0, 0, 0, 0, 0, 0, 0, 0, 0, 0, 0, 0, 0, 0, 0, 0, 0, 0, 0, 0, 0, 0, 0, 0, 0, 0, 0, 0, 0, 0, 0, 0, 0, 0, 0, 0, 0, 0, 0, 0, 0, 0, 0, 0, 0, 0, 0, 0, 0, 0, 0, 0, 0, 0, 0, 0, 0, 0, 0, 0, 0, 0, 0, 0, 0, 0, 0, 0, 0, 0, 0, 0, 0, 0, 0, 0, 0, 0, 0, 0, 0, 0, 0, 0, 0, 0, 0, 0, 0, 0, 0, 0, 0, 0, 0, 0, 0, 0, 0, 0, 0, 0, 0, 0, 0, 0, 0, 0, 0, 0, 0, 0, 0, 0, 0, 0, 0, 0, 0, 0, 0, 0, 0, 0, 0, 0, 0, 0, 0, 0, 0, 0, 0, 0, 0, 0, 0, 0, 0, 0, 0, 0, 0, 0, 0, 0, 0, 0, 0, 0, 0, 0, 0, 0, 0, 0, 0, 0, 0, 0, 0, 0, 0, 0, 0, 0, 0, 0, 0, 0, 0, 0, 0, 0, 0, 0, 0, 0, 0, 0, 0, 0, 0, 0, 0, 0, 0, 0, 0, 0, 0, 0, 0, 0, 0, 0, 0, 0, 1, 0, 0, 0, 0, 0, 0, 0, 0, 0, 0, 0, 0, 0, 0, 0, 0, 0, 0, 0, 0, 0, 0, 0, 0, 0, 0, 0, 0, 0, 0, 0, 0, 0, 0, 0, 0, 0, 0, 0, 0, 0, 0, 0, 0, 0, 0, 0, 0, 0, 0, 0, 0, 0, 0, 0, 0, 0, 0, 0, 0, 0, 0, 0, 0, 0, 0, 0, 0, 0, 0, 0, 0, 0, 0, 0, 0, 0, 0, 0, 0, 0, 0, 0, 0, 0, 0, 0, 0, 0, 0, 0, 0, 0, 0, 0, 0, 0, 0, 0, 0, 0, 0, 0, 0, 0, 0, 0, 1, 0, 0, 0, 0, 0, 0, 0, 0, 0, 0, 0, 0, 0, 0, 0, 0, 0, 0, 0, 0, 0, 0, 0, 0, 0, 0, 0, 0, 0, 0, 0, 0, 0, 0, 0, 0, 0, 0, 0, 0, 0, 0, 0, 0, 0, 0, 0, 0, 0, 0, 0, 0, 0, 0, 0, 0, 0, 0, 0, 0, 0, 0, 0, 0, 0, 0, 0, 0, 0, 0, 0, 0, 0, 0, 0, 0, 0, 0, 0, 0, 0, 0, 0, 0, 0, 0, 0, 0, 0, 0, 0, 0, 0, 0, 0, 0, 0, 0, 0, 0, 0, 0, 0, 0, 0, 0, 0, 0, 0, 0, 0, 0, 0, 0, 0, 0, 0, 0, 0, 0, 0, 0, 0, 0, 0, 0, 0, 0, 0, 0, 0, 0, 0, 0, 0, 0, 0, 0, 0, 0, 0, 0, 0, 0, 0, 0, 0, 0, 0, 0, 0, 0, 0, 0, 0, 0, 0, 0, 0, 0, 0, 0, 0, 0, 0, 0, 0, 0, 0, 0, 0, 0, 0, 0, 0, 0, 0, 0, 0, 0, 0, 0, 0, 0, 0, 0, 0, 0, 0, 0, 0, 0, 0, 0, 0, 0, 0, 0, 0, 0, 0, 0, 0, 0, 0, 0, 0, 0, 0, 0, 0, 0, 0, 0, 0, 0, 0, 0, 0, 0, 0, 0, 0, 0, 0, 0, 0, 0, 0, 0, 0, 0, 0, 0, 0, 0, 0, 0, 0, 0, 0, 0, 0, 0, 0, 0, 0, 0, 0, 0, 0, 0, 0, 0, 0, 0, 0, 0, 0, 0, 0, 0, 0, 0, 0, 0, 0, 0, 0, 0, 0, 0, 0, 0, 0, 0, 0, 0, 0, 0, 0, 0, 0, 0, 0, 0, 0, 0, 0, 0, 0, 0, 0, 0, 0, 0, 0, 0, 0, 0, 0, 0, 0, 0, 0, 0, 0, 0, 0, 0, 0, 0, 0, 0, 0, 0, 0, 0, 0, 0, 0, 0, 0, 0, 0, 0, 0, 0, 0, 0, 0, 0, 0, 0, 0, 0, 0, 0, 0, 0, 0, 0, 0, 0, 0, 0, 0, 0, 0, 0, 0, 0, 0, 0, 0, 0, 0, 0, 0, 0, 0, 0, 0, 0, 0, 0, 0, 0, 0, 0, 0, 0, 0, 0, 0, 0, 0, 0, 0, 0, 0, 0, 0, 0, 0, 0, 0, 0, 0, 0, 0, 0, 0, 0, 0, 0, 0, 0, 0, 0, 0, 0, 0, 0, 0, 0, 0, 0, 0, 0, 0, 0, 0, 0, 0, 0, 0, 0, 0, 0, 0, 0, 0, 0, 0, 0, 0, 0, 0, 0, 0, 0, 0, 0, 0, 0, 0, 0, 0, 0, 0, 0, 0, 0, 0, 0, 0, 0, 0, 0, 0, 0, 0, 0, 0, 0, 0, 0, 0, 0, 0, 0, 0, 2, 0, 1, 0], type: <class 'list'>, valid types: <class 'bytes'>, <class 'bytearray'>, file-like object"
     ]
    }
   ],
   "source": [
    "response = runtime.invoke_endpoint(EndpointName = xgb_predictor.endpoint, # The name of the endpoint we created\n",
    "                                       ContentType = 'text/csv',                     # The data format that is expected\n",
    "                                       Body = test_bow)"
   ]
  },
  {
   "cell_type": "markdown",
   "metadata": {},
   "source": [
    "So why did we get an error?\n",
    "\n",
    "Because we tried to send the endpoint a list of integers but it expected us to send data of type `text/csv`. So, we need to convert it."
   ]
  },
  {
   "cell_type": "code",
   "execution_count": 45,
   "metadata": {},
   "outputs": [],
   "source": [
    "response = runtime.invoke_endpoint(EndpointName = xgb_predictor.endpoint, # The name of the endpoint we created\n",
    "                                       ContentType = 'text/csv',                     # The data format that is expected\n",
    "                                       Body = ','.join([str(val) for val in test_bow]).encode('utf-8'))"
   ]
  },
  {
   "cell_type": "code",
   "execution_count": 46,
   "metadata": {},
   "outputs": [
    {
     "name": "stdout",
     "output_type": "stream",
     "text": [
      "{'ResponseMetadata': {'RequestId': 'c654ccb3-e29d-4c23-8f6b-bdc0777b83fc', 'HTTPStatusCode': 200, 'HTTPHeaders': {'x-amzn-requestid': 'c654ccb3-e29d-4c23-8f6b-bdc0777b83fc', 'x-amzn-invoked-production-variant': 'AllTraffic', 'date': 'Thu, 8 Aug 2019 02:22:17 GMT', 'content-type': 'text/csv; charset=utf-8', 'content-length': '14'}, 'RetryAttempts': 0}, 'ContentType': 'text/csv; charset=utf-8', 'InvokedProductionVariant': 'AllTraffic', 'Body': <botocore.response.StreamingBody object at 0x7fce9878cef0>}\n"
     ]
    }
   ],
   "source": [
    "print(response)"
   ]
  },
  {
   "cell_type": "markdown",
   "metadata": {},
   "source": [
    "As we can see, the response from our model is a somewhat complicated looking dict that contains a bunch of information. The bit that we are most interested in is `'Body'` object which is a streaming object that we need to `read` in order to make use of."
   ]
  },
  {
   "cell_type": "code",
   "execution_count": 47,
   "metadata": {},
   "outputs": [
    {
     "name": "stdout",
     "output_type": "stream",
     "text": [
      "0.310029506683\n"
     ]
    }
   ],
   "source": [
    "response = response['Body'].read().decode('utf-8')\n",
    "print(response)"
   ]
  },
  {
   "cell_type": "markdown",
   "metadata": {},
   "source": [
    "Now that we know how to process the incoming user data we can start setting up the infrastructure to make our simple web app work. To do this we will make use of two different services. Amazon's Lambda and API Gateway services.\n",
    "\n",
    "Lambda is a service which allows someone to write some relatively simple code and have it executed whenever a chosen trigger occurs. For example, you may want to update a database whenever new data is uploaded to a folder stored on S3.\n",
    "\n",
    "API Gateway is a service that allows you to create HTTP endpoints (url addresses) which are connected to other AWS services. One of the benefits to this is that you get to decide what credentials, if any, are required to access these endpoints.\n",
    "\n",
    "In our case we are going to set up an HTTP endpoint through API Gateway which is open to the public. Then, whenever anyone sends data to our public endpoint we will trigger a Lambda function which will send the input (in our case a review) to our model's endpoint and then return the result."
   ]
  },
  {
   "cell_type": "markdown",
   "metadata": {},
   "source": [
    "### Setting up a Lambda function\n",
    "\n",
    "The first thing we are going to do is set up a Lambda function. This Lambda function will be executed whenever our public API has data sent to it. When it is executed it will receive the data, perform any sort of processing that is required, send the data (the review) to the SageMaker endpoint we've created and then return the result.\n",
    "\n",
    "#### Part A: Create an IAM Role for the Lambda function\n",
    "\n",
    "Since we want the Lambda function to call a SageMaker endpoint, we need to make sure that it has permission to do so. To do this, we will construct a role that we can later give the Lambda function.\n",
    "\n",
    "Using the AWS Console, navigate to the **IAM** page and click on **Roles**. Then, click on **Create role**. Make sure that the **AWS service** is the type of trusted entity selected and choose **Lambda** as the service that will use this role, then click **Next: Permissions**.\n",
    "\n",
    "In the search box type `sagemaker` and select the check box next to the **AmazonSageMakerFullAccess** policy. Then, click on **Next: Review**.\n",
    "\n",
    "Lastly, give this role a name. Make sure you use a name that you will remember later on, for example `LambdaSageMakerRole`. Then, click on **Create role**."
   ]
  },
  {
   "cell_type": "markdown",
   "metadata": {},
   "source": [
    "#### Part B: Create a Lambda function\n",
    "\n",
    "Now it is time to actually create the Lambda function. Remember from earlier that in order to process the user provided input and send it to our endpoint we need to gather two pieces of information:\n",
    "\n",
    " - The name of the endpoint, and\n",
    " - the vocabulary object.\n",
    "\n",
    "We will copy these pieces of information to our Lambda function after we create it.\n",
    "\n",
    "To start, using the AWS Console, navigate to the AWS Lambda page and click on **Create a function**. When you get to the next page, make sure that **Author from scratch** is selected. Now, name your Lambda function, using a name that you will remember later on, for example `sentiment_analysis_xgboost_func`. Make sure that the **Python 3.6** runtime is selected and then choose the role that you created in the previous part. Then, click on **Create Function**.\n",
    "\n",
    "On the next page you will see some information about the Lambda function you've just created. If you scroll down you should see an editor in which you can write the code that will be executed when your Lambda function is triggered. Collecting the code we wrote above to process a single review and adding it to the provided example `lambda_handler` we arrive at the following.\n",
    "\n",
    "```python\n",
    "# We need to use the low-level library to interact with SageMaker since the SageMaker API\n",
    "# is not available natively through Lambda.\n",
    "import boto3\n",
    "\n",
    "# And we need the regular expression library to do some of the data processing\n",
    "import re\n",
    "\n",
    "REPLACE_NO_SPACE = re.compile(\"(\\.)|(\\;)|(\\:)|(\\!)|(\\')|(\\?)|(\\,)|(\\\")|(\\()|(\\))|(\\[)|(\\])\")\n",
    "REPLACE_WITH_SPACE = re.compile(\"(<br\\s*/><br\\s*/>)|(\\-)|(\\/)\")\n",
    "\n",
    "def review_to_words(review):\n",
    "    words = REPLACE_NO_SPACE.sub(\"\", review.lower())\n",
    "    words = REPLACE_WITH_SPACE.sub(\" \", words)\n",
    "    return words\n",
    "    \n",
    "def bow_encoding(words, vocabulary):\n",
    "    bow = [0] * len(vocabulary) # Start by setting the count for each word in the vocabulary to zero.\n",
    "    for word in words.split():  # For each word in the string\n",
    "        if word in vocabulary:  # If the word is one that occurs in the vocabulary, increase its count.\n",
    "            bow[vocabulary[word]] += 1\n",
    "    return bow\n",
    "\n",
    "\n",
    "def lambda_handler(event, context):\n",
    "    \n",
    "    vocab = \"*** ACTUAL VOCABULARY GOES HERE ***\"\n",
    "    \n",
    "    words = review_to_words(event['body'])\n",
    "    bow = bow_encoding(words, vocab)\n",
    "\n",
    "    # The SageMaker runtime is what allows us to invoke the endpoint that we've created.\n",
    "    runtime = boto3.Session().client('sagemaker-runtime')\n",
    "\n",
    "    # Now we use the SageMaker runtime to invoke our endpoint, sending the review we were given\n",
    "    response = runtime.invoke_endpoint(EndpointName = '***ENDPOINT NAME HERE***',# The name of the endpoint we created\n",
    "                                       ContentType = 'text/csv',                 # The data format that is expected\n",
    "                                       Body = ','.join([str(val) for val in bow]).encode('utf-8')) # The actual review\n",
    "\n",
    "    # The response is an HTTP response whose body contains the result of our inference\n",
    "    result = response['Body'].read().decode('utf-8')\n",
    "    \n",
    "    # Round the result so that our web app only gets '1' or '0' as a response.\n",
    "    result = round(float(result))\n",
    "\n",
    "    return {\n",
    "        'statusCode' : 200,\n",
    "        'headers' : { 'Content-Type' : 'text/plain', 'Access-Control-Allow-Origin' : '*' },\n",
    "        'body' : str(result)\n",
    "    }\n",
    "```"
   ]
  },
  {
   "cell_type": "markdown",
   "metadata": {},
   "source": [
    "Once you have copy and pasted the code above into the Lambda code editor, replace the `**ENDPOINT NAME HERE**` portion with the name of the endpoint that we deployed earlier. You can determine the name of the endpoint using the code cell below."
   ]
  },
  {
   "cell_type": "code",
   "execution_count": 48,
   "metadata": {},
   "outputs": [
    {
     "data": {
      "text/plain": [
       "'xgboost-2019-08-08-01-38-29-538'"
      ]
     },
     "execution_count": 48,
     "metadata": {},
     "output_type": "execute_result"
    }
   ],
   "source": [
    "xgb_predictor.endpoint"
   ]
  },
  {
   "cell_type": "markdown",
   "metadata": {},
   "source": [
    "In addition, you will need to copy the vocabulary dict to the appropriate place in the code at the beginning of the `lambda_handler` method. The cell below prints out the vocabulary dict in a way that is easy to copy and paste."
   ]
  },
  {
   "cell_type": "code",
   "execution_count": 49,
   "metadata": {},
   "outputs": [
    {
     "name": "stdout",
     "output_type": "stream",
     "text": [
      "{'caught': 722, 'this': 4457, 'movie': 2926, 'on': 3105, 'and': 226, 'enjoyed': 1486, 'it': 2366, 'although': 201, 'felt': 1692, 'like': 2599, 'the': 4426, 'editing': 1421, 'job': 2405, 'was': 4805, 'little': 2624, 'rough': 3741, 'though': 4461, 'may': 2775, 'have': 2052, 'been': 438, 'had': 2003, 'bit': 488, 'of': 3083, 'hard': 2033, 'time': 4495, 'out': 3141, 'what': 4858, 'going': 1931, 'at': 331, 'first': 1736, 'because': 432, 'they': 4442, 'seemed': 3862, 'to': 4507, 'be': 418, 'for': 1784, 'pulp': 3465, 'fiction': 1702, 'style': 4249, 'non': 3027, 'plot': 3309, 'presentation': 3375, 'forced': 1787, 'certainly': 738, 'think': 4452, 'that': 4424, 'is': 2360, 'worth': 4953, 'watching': 4815, 'but': 636, 'could': 1007, 'used': 4693, 'up': 4683, 'some': 4061, 'scenes': 3811, 'just': 2437, 'dont': 1324, 'seem': 3861, 'make': 2713, 'sense': 3877, 'after': 143, 'others': 3136, 'im': 2232, 'surprised': 4313, 'see': 3855, 'rating': 3529, 'here': 2086, 'as': 311, 'low': 2676, 'its': 2370, 'not': 3040, 'outstanding': 3147, 'doesnt': 1309, 'any': 256, 'really': 3556, 'serious': 3891, 'problems': 3409, 'gave': 1875, '10': 0, 'did': 1241, 'show': 3953, 'least': 2554, 'can': 665, 'act': 97, 'when': 4862, 'he': 2056, 'wants': 4791, 'must': 2950, 'told': 4513, 'him': 2110, 'in': 2257, 'matrix': 2767, 'movies': 2927, 'if': 2222, 'you': 4986, 'enjoy': 1484, 'original': 3129, 'snl': 4044, 'cast': 710, 'shows': 3960, 'then': 4436, 'avoid': 363, 'all': 187, 'costs': 1004, 'came': 656, 'my': 2951, 'friends': 1837, 'waited': 4771, 'line': 2610, 'over': 3148, 'an': 223, 'hour': 2176, 'get': 1899, 'sold': 4052, 'house': 2178, 'half': 2007, 'way': 4820, 'through': 4477, 'theatre': 4429, 'empty': 1465, 'we': 4823, 'leave': 2555, 'thinking': 4453, 'would': 4957, 'better': 472, 'ended': 1470, 'were': 4848, 'only': 3110, 'ones': 3108, 'left': 2561, 'lasted': 2522, 'one': 3107, 'day': 1129, 'theaters': 4428, 'from': 1840, 'sight': 3969, 'interviews': 2330, 'with': 4911, 'mr': 2929, 'mike': 2838, 'comment': 898, 'film': 1716, 'inside': 2297, 'joke': 2414, 'episodes': 1508, 'right': 3696, 'films': 1721, 'release': 3602, 'closing': 859, 'tried': 4584, 'contact': 961, 'by': 642, 'phone': 3255, 'mail': 2706, 'totally': 4532, 'ignored': 2225, 'quite': 3495, 'timeless': 4496, 'masterpiece': 2759, 'hope': 2155, 'based': 404, 'midnight': 2834, 'cowboy': 1025, 'still': 4188, 'showcase': 3954, 'two': 4620, 'young': 4989, 'actors': 104, 'into': 2332, 'view': 4736, 'directed': 1259, 'john': 2409, 'written': 4972, 'seems': 3864, 'product': 3418, 'late': 2523, '1960s': 15, 'american': 213, 'especially': 1520, 'spell': 4104, 'story': 4207, 'comes': 891, 'down': 1335, 'themes': 4434, 'no': 3020, 'matter': 2769, 'period': 3236, 'cinematic': 818, 'influence': 2286, 'found': 1811, 'lees': 2560, 'mountain': 2917, 'follows': 1775, 'joe': 2407, 'buck': 605, 'naive': 2958, 'who': 4871, 'decides': 1150, 'move': 2921, 'manhattan': 2726, 'become': 433, 'hire': 2116, 'rich': 3685, 'women': 4923, 'full': 1846, 'energy': 1478, 'lacking': 2504, 'fails': 1628, 'miserably': 2864, 'defeat': 1157, 'despite': 1211, 'his': 2118, 'meets': 2795, 'cynical': 1093, 'petty': 3249, 'thief': 4448, 'named': 2961, 'sees': 3866, 'easy': 1410, 'another': 250, 'begins': 444, 'manage': 2722, 'things': 4451, 'come': 886, 'head': 2057, 'drug': 1373, 'party': 3200, 'where': 4864, 'finally': 1724, 'paying': 3217, 'meanwhile': 2785, 'becomes': 434, 'set': 3898, 'off': 3084, 'florida': 1761, 'seek': 3858, 'life': 2592, 'will': 4886, 'appeal': 271, 'everyone': 1542, 'fact': 1621, 'find': 1726, 'are': 285, 'turned': 4606, 'sympathetic': 4342, 'figures': 1713, 'yet': 4984, 'their': 4431, 'feel': 1684, 'authentic': 358, 'major': 2711, 'role': 3726, 'jon': 2416, 'voight': 4764, 'brings': 587, 'paper': 3183, 'thin': 4449, 'sexual': 3908, 'hoffman': 2128, 'successfully': 4267, 'clean': 838, 'post': 3352, 'college': 875, 'image': 2233, 'himself': 2111, 'personal': 3240, 'oddly': 3081, 'honesty': 2148, 'treatment': 4574, 'which': 4867, 'captures': 678, 'times': 4497, 'square': 4136, 'director': 1264, 'also': 199, 'effectively': 1430, 'flashbacks': 1747, 'fantasy': 1652, 'sequences': 3888, 'fill': 1714, 'characters': 760, 'credit': 1049, 'needs': 2990, 'go': 1924, 'letting': 2583, 'other': 3135, 'performances': 3229, 'merely': 2815, 'main': 2707, 'including': 2264, 'brenda': 575, 'woman': 4921, 'miles': 2843, 'religious': 3608, 'lonely': 2643, 'disc': 1278, '2006': 36, 'dvd': 1391, 'contains': 964, 'print': 3399, 'transfer': 4559, 'commentary': 899, 'producer': 3415, 'since': 3990, 'unfortunately': 4654, 'neither': 2996, 'nor': 3032, 'living': 2629, 'there': 4438, 'three': 4469, 'terrific': 4409, 'second': 3846, 'look': 2646, 'back': 378, 'documentary': 1307, 'classic': 835, '35': 45, 'years': 4979, 'later': 2525, 'features': 1680, 'comments': 901, 'well': 4843, 'clips': 852, 'related': 3594, 'footage': 1782, 'such': 4268, 'screen': 3829, 'test': 4416, 'initial': 2290, 'public': 3460, 'response': 3654, 'tribute': 4581, 'review': 3676, 'say': 3799, 'suppose': 4305, 'curious': 1083, 'about': 67, 'however': 2183, 'probably': 3407, 'seen': 3865, 'arm': 292, 'slightly': 4029, 'twisted': 4618, 'opinion': 3118, 'how': 2181, 'man': 2721, 'eyes': 1613, 'worst': 4952, 'thing': 4450, 'whole': 4873, 'type': 4621, 'people': 3221, 'jerry': 2396, 'do': 1302, 'itself': 2371, 'many': 2732, 'so': 4046, 'excited': 1561, 'watch': 4811, 'them': 4432, 'hear': 2061, 'lives': 2628, 'yes': 4982, 'includes': 2263, 'me': 2778, 'whatever': 4859, 'extent': 1605, 'true': 4596, 'kind': 2476, 'behavior': 446, 'might': 2835, 'very': 4723, 'our': 3139, 'minds': 2852, 'or': 3124, 'ourselves': 3140, 'enough': 1491, 'sort': 4077, 'heres': 2087, 'has': 2043, 'while': 4868, 'deserve': 1199, 'away': 369, 'completely': 922, 'sure': 4308, '17': 9, 'hat': 2045, 'reviewer': 3677, 'more': 2904, 'appropriate': 283, 'content': 966, 'big': 478, 'excuse': 1564, 'sex': 3907, 'bizarre': 492, 'together': 4511, 'stories': 4205, 'absolutely': 72, 'family': 1645, 'group': 1980, 'stereotypical': 4180, 'blacks': 494, 'upset': 4687, 'appear': 273, 'different': 1248, 'end': 1468, 'leaves': 2556, 'need': 2987, 'us': 4690, 'real': 3547, 'world': 4946, 'agree': 155, 'important': 2247, 'know': 2489, 'effect': 1428, 'positive': 3346, 'change': 749, 'having': 2054, 'said': 3774, 'let': 2579, 'tell': 4395, 'worlds': 4947, 'pretty': 3384, 'bad': 382, 'news': 3005, 'lets': 2580, 'shell': 3927, 'good': 1937, 'money': 2888, 'support': 4303, 'perhaps': 3235, 'formulaic': 1803, 'seeks': 3860, 'give': 1912, 'saw': 3798, 'festival': 1697, 'gets': 1900, 'wide': 4880, 'want': 4788, 'again': 146, 'character': 758, 'driven': 1365, 'andrew': 228, 'david': 1124, 'than': 4420, 'task': 4368, 'discussion': 1284, 'considered': 951, 'spoilers': 4124, 'ill': 2228, 'storyline': 4208, 'clever': 841, 'acting': 99, 'superb': 4296, 'effects': 1431, 'amazing': 209, 'filmed': 1717, 'paced': 3162, 'too': 4522, 'best': 469, 'ages': 152, 'refreshing': 3586, 'summer': 4291, 'dreary': 1356, 'audience': 352, 'laughing': 2533, 'particularly': 3195, 'liked': 2600, 'candy': 668, 'bar': 396, 'scene': 3809, 'ive': 2372, 'actually': 109, 'became': 431, 'angry': 238, 'theater': 4427, 'wanted': 4789, 'wrote': 4974, 'asking': 318, 'ticket': 4487, 'course': 1019, 'didnt': 1242, 'receive': 3563, 'even': 1533, 'point': 3316, 'matters': 2770, 'scale': 3802, 'why': 4878, 'stop': 4201, 'running': 3756, 'being': 448, 'hit': 2122, 'bat': 410, 'place': 3282, 'instead': 2307, 'filled': 1715, 'obvious': 3071, 'clichés': 846, 'certain': 737, 'parts': 3199, 'grew': 1972, 'old': 3100, 'inspector': 2299, 'gadget': 1860, 'cartoon': 704, 'kid': 2464, 'smart': 4035, 'kids': 2467, 'bumbling': 622, 'cant': 671, 'solve': 4060, 'case': 707, 'work': 4940, 'done': 1322, 'walking': 4779, 'talking': 4360, 'dog': 1310, 'brain': 562, 'heard': 2062, 'live': 2625, 'action': 100, 'decent': 1147, 'library': 2589, 'rented': 3628, 'free': 1827, 'should': 3951, 'paid': 3169, 'nowhere': 3056, 'near': 2979, 'caliber': 649, 'don': 1320, 'adams': 112, 'voice': 4761, 'wrong': 4973, 'girl': 1909, 'played': 3297, 'looked': 2647, 'nothing': 3047, 'she': 3923, 'version': 4720, 'blonde': 511, 'does': 1308, 'given': 1913, 'gives': 1914, 'performance': 3228, 'never': 3001, 'odd': 3080, 'messages': 2820, 'talked': 4359, 'series': 3890, 'fine': 1729, 'intelligent': 2314, 'complete': 921, 'idiot': 2218, 'halfway': 2008, 'worked': 4941, 'says': 3801, 'always': 203, 'sounds': 4084, 'lame': 2510, 'got': 1944, 'showed': 3956, 'correct': 1000, 'gags': 1862, 'during': 1387, 'credits': 1050, 'front': 1841, 'richard': 3686, 'aka': 168, 'jaws': 2385, 'bond': 532, 'fame': 1642, 'alike': 185, 'part': 3193, 'laughed': 2532, 'checking': 778, 'tells': 4397, 'voices': 4763, 'saying': 3800, 'isnt': 2362, 'now': 3054, 'please': 3304, 'your': 4991, 'name': 2960, 'sound': 4081, 'laugh': 2529, 'loud': 2664, 'funny': 1852, 'nice': 3008, 'piece': 3272, 'nostalgia': 3038, 'voiced': 4762, 'stupid': 4247, 'car': 680, 'anyone': 259, '13': 4, 'wont': 4932, 'account': 89, 'myself': 2953, 'something': 4066, '70s': 56, 'exploitation': 1592, 'most': 2909, 'joseph': 2419, 'before': 440, 'guy': 2000, 'made': 2697, 'cult': 1077, 'havent': 2053, 'single': 3996, 'happened': 2027, 'secondly': 3847, 'worse': 4951, 'new': 3003, 'source': 4086, 'obscure': 3068, 'directors': 1266, 'famous': 1647, 'supposed': 4306, 'turns': 4609, 'dull': 1384, 'irritating': 2359, 'admittedly': 123, 'lesbian': 2573, 'vampire': 4711, 'form': 1798, 'sub': 4252, 'genre': 1888, 'bath': 411, 'atmosphere': 333, 'harry': 2039, 'daughters': 1122, 'darkness': 1117, 'offer': 3087, 'except': 1556, 'amounts': 220, 'gratuitous': 1961, 'nudity': 3059, 'boring': 543, 'rather': 3528, 'quickly': 3491, 'events': 1536, 'take': 4349, 'castle': 712, 'hidden': 2096, 'deep': 1154, 'german': 1896, 'mountains': 2918, 'five': 1743, 'ago': 154, 'lived': 2626, 'literally': 2622, 'her': 2085, 'loyal': 2679, 'throw': 4479, 'naked': 2959, 'dance': 1103, 'parties': 3196, 'lit': 2621, 'soon': 4074, 'suddenly': 4273, 'ask': 316, 'sexy': 3911, 'female': 1693, 'erotic': 1515, 'entertaining': 1499, 'devils': 1229, 'massive': 2756, 'number': 3060, 'happens': 2029, 'members': 2801, 'ignorant': 2223, 'facial': 1619, 'expressions': 1603, 'simply': 3986, 'capable': 672, 'creating': 1039, 'suspense': 4330, 'building': 615, 'gothic': 1945, 'maybe': 2776, 'bother': 548, 'actresses': 106, 'themselves': 4435, 'standing': 4146, 'camera': 659, 'topless': 4527, 'pull': 3461, 'pathetic': 3210, 'face': 1616, 'yourself': 4993, 'favor': 1670, 'desperately': 1209, 'franco': 1820, 'jean': 2389, 'pure': 3471, 'art': 304, 'compared': 912, 'sorry': 4076, 'every': 1539, 'credibility': 1047, 'immediately': 2242, 'ground': 1979, 'intended': 2315, 'much': 2934, 'plausible': 3295, 'sensitive': 3879, 'hero': 2088, 'age': 148, 'whose': 4877, 'overacting': 3149, 'compelling': 916, 'exciting': 1563, 'breaking': 570, 'politically': 3325, 'speak': 4094, 'todays': 4509, 'copy': 994, 'essence': 1521, 'tired': 4501, 'biggest': 480, 'cliché': 844, 'screens': 3832, 'today': 4508, 'shot': 3949, 'human': 2188, 'alone': 194, 'keep': 2449, 'james': 2378, 'once': 3106, 'absolute': 71, 'garbage': 1870, 'fight': 1707, '20': 29, 'year': 4978, 'van': 4713, 'ninja': 3018, 'etc': 1527, 'truly': 4597, 'dire': 1257, 'skill': 4013, 'entire': 1502, 'wooden': 4934, 'acceptable': 81, '80s': 59, 'love': 2669, 'wasnt': 4807, 'born': 544, 'check': 777, 'tony': 4521, 'those': 4460, 'proper': 3436, 'martial': 2747, 'arts': 310, 'humour': 2194, 'grim': 1974, 'unless': 4669, 'sadly': 3769, 'mistaken': 2872, 'nightmare': 3014, 'elm': 1447, 'street': 4216, 'several': 3905, 'music': 2946, 'video': 4733, 'called': 652, 'dream': 1354, 'warriors': 4803, 'hoping': 2160, 'funniest': 1851, 'ever': 1538, 'stuff': 4243, 'funnier': 1850, 'rap': 3520, 'videos': 4734, 'singing': 3995, 'song': 4071, 'vhs': 4725, 'theyre': 4445, 'wearing': 4831, 'shirt': 3937, 'fitting': 1742, 'shorts': 3948, 'imagine': 2238, 'rate': 3526, 'disappointed': 1273, 'looking': 2648, 'mediocre': 2791, 'installment': 2303, 'freddy': 1826, 'starts': 4159, 'same': 3778, 'idea': 2213, 'kinds': 2478, 'gruesome': 1986, 'murders': 2943, 'coming': 896, 'finding': 1727, 'bloody': 513, 'hands': 2020, 'parker': 3191, 'infamous': 2284, 'nancy': 2964, 'runs': 3757, 'bathroom': 412, 'turn': 4605, 'attack': 337, 'own': 3158, 'usual': 4699, 'mental': 2808, 'hospital': 2172, 'larry': 2520, 'playing': 3300, 'roles': 3727, 'happy': 2032, 'patients': 3212, 'rules': 3754, 'surprisingly': 4316, 'goes': 1930, 'accomplished': 87, 'actor': 103, 'skills': 4014, 'starred': 4153, 'mostly': 2910, 'placed': 3283, 'cutting': 1092, 'almost': 193, 'none': 3028, 'believing': 457, 'belong': 459, 'eventually': 1537, 'realize': 3552, 'able': 66, 'convince': 983, 'staff': 4138, 'dreams': 1355, 'returned': 3666, 'grown': 1984, 'result': 3660, 'childhood': 790, 'experiences': 1582, 'involving': 2349, 'relate': 3593, 'hysterical': 2208, 'rest': 3657, 'experienced': 1581, 'exactly': 1551, 'interesting': 2325, 'technology': 4385, 'special': 4097, 'taken': 4350, 'huge': 2185, 'jump': 2429, 'tries': 4585, 'television': 4394, 'mechanical': 2788, 'arms': 294, 'picks': 3268, 'night': 3013, 'entertainment': 1500, 'sitting': 4007, 'close': 853, 'tv': 4610, 'unconvincing': 4638, 'motion': 2913, 'couple': 1016, 'guys': 2001, 'inducing': 2279, 'attacks': 339, 'legs': 2566, 'leading': 2547, 'around': 297, 'past': 3207, 'meet': 2793, 'mother': 2911, 'circumstances': 822, 'led': 2558, '100': 1, 'fighting': 1709, 'band': 391, 'use': 4692, 'powers': 3361, 'reflect': 3584, 'student': 4238, 'bound': 553, 'walk': 4775, 'hilarious': 2106, 'calls': 654, 'wizard': 4919, 'master': 2757, 'beautiful': 428, 'lots': 2662, 'makeup': 2717, 'hair': 2005, 'stands': 4147, 'foot': 1781, 'high': 2100, 'until': 4680, 'climax': 849, 'realizes': 3554, 'talk': 4358, 'moment': 2886, 'save': 3794, 'power': 3359, 'long': 2644, 'altogether': 202, 'entirely': 1503, 'weak': 4824, 'entry': 1504, 'horror': 2168, 'wonderful': 4928, 'early': 1400, 'career': 686, 'either': 1438, 'problem': 3408, 'friday': 1834, '13th': 5, 'developed': 1223, 'allow': 189, 'creation': 1040, 'tension': 4404, 'deaths': 1142, 'across': 96, 'creative': 1041, 'ways': 4822, 'kill': 2468, 'someone': 4064, 'tragic': 4552, 'loss': 2659, 'weve': 4856, 'root': 3737, 'triumph': 4590, 'evil': 1548, 'lot': 2661, 'develop': 1222, 'killed': 2469, 'edge': 1418, 'seat': 3845, 'run': 3755, 'note': 3044, 'few': 1700, 'recently': 3567, 'purchased': 3470, 'collection': 874, 'awesome': 371, 'am': 204, 'animation': 242, 'slow': 4031, 'thoughtful': 4463, 'actions': 101, 'telling': 4396, 'minor': 2857, 'gundam': 1997, 'saga': 3773, 'cool': 989, 'previous': 3387, 'stylish': 4251, 'war': 4792, 'control': 977, 'familiar': 1643, 'dramatic': 1348, 'explain': 1586, 'oz': 3160, 'mean': 2779, 'soap': 4047, 'opera': 3116, 'ya': 4976, 'besides': 468, 'exaggerated': 1552, 'dubbing': 1380, 'english': 1483, 'recent': 3566, 'ghost': 1902, 'train': 4556, 'treat': 4572, 'appreciate': 279, 'typical': 4623, '1940s': 13, 'initially': 2291, 'believed': 455, 'unique': 4662, 'blend': 504, 'play': 3296, 'fairly': 1631, 'tommy': 4516, 'portrayed': 3342, 'haunted': 2050, 'station': 4164, 'spooky': 4128, 'present': 3374, 'standards': 4145, 'each': 1395, 'fantastic': 1651, 'mystery': 2956, 'basically': 407, 'along': 195, 'attention': 345, 'dubbed': 1379, 'annoying': 249, 'innocent': 2294, 'childish': 791, 'makes': 2716, 'sweet': 4336, 'enjoyment': 1488, 'effective': 1429, 'lost': 2660, 'father': 1666, 'learned': 2551, 'loved': 2670, 'sunday': 4293, 'evening': 1534, 'remember': 3616, 'production': 3419, 'somehow': 4063, 'closer': 856, 'elements': 1443, 'vivid': 4760, 'memory': 2804, 'shortly': 3947, 'death': 1141, 'beloved': 461, 'particular': 3194, 'picture': 3269, 'recall': 3562, 'sister': 4001, 'tear': 4379, 'eye': 1611, 'id': 2212, 'raped': 3522, 'magical': 2704, 'beauty': 430, 'beast': 422, 'hates': 2048, 'extreme': 1609, 'degree': 1164, 'writing': 4971, 'these': 4441, 'bunch': 623, 'mind': 2849, 'seriously': 3892, 'perfect': 3224, 'word': 4937, 'study': 4242, 'works': 4945, 'accept': 80, 'shes': 3930, 'closet': 858, 'concerning': 933, 'broken': 594, 'wing': 4896, 'wind': 4893, 'call': 651, 'birds': 485, 'crap': 1031, 'deserves': 1201, 'intelligence': 2313, 'soul': 4079, 'studio': 4240, 'short': 3946, 'match': 2762, 'images': 2235, 'hip': 2114, 'visual': 4757, 'musical': 2947, 'lie': 2590, 'claim': 828, 'record': 3573, 'pop': 3330, 'knowing': 2490, 'among': 217, 'cats': 721, 'solid': 4057, 'gone': 1935, 'daddy': 1096, 'released': 3603, 'poorly': 3329, 'figured': 1712, 'cops': 993, 'dedicated': 1153, 'newspaper': 3006, 'send': 3875, 'cable': 644, 'usually': 4700, 'morgan': 2905, 'freeman': 1829, 'justin': 2440, 'kevin': 2457, 'cary': 706, 'side': 3965, 'above': 68, 'violent': 4748, 'watchable': 4812, 'reporter': 3636, 'edited': 1420, 'somewhat': 4068, 'ladies': 2506, 'whats': 4860, 'required': 3641, 'killings': 2473, 'children': 792, 'means': 2783, 'great': 1964, 'definitely': 1162, 'ratings': 3530, 'points': 3319, 'imdb': 2240, 'hes': 2093, 'jesus': 2399, 'king': 2479, '1980': 20, 'flick': 1754, 'devil': 1228, 'hunter': 2199, 'rushed': 3760, 'lazy': 2543, 'title': 4504, 'awful': 372, 'generous': 1886, 'outrageous': 3145, 'violence': 4747, 'cheap': 774, 'mix': 2876, 'causes': 725, 'ride': 3692, 'youre': 4992, 'waiting': 4772, 'tedious': 4387, 'incomprehensible': 2267, 'strangers': 4214, 'white': 4870, 'model': 2880, 'star': 4150, 'native': 2972, 'south': 4087, 'america': 212, 'theres': 4440, 'dancing': 1107, 'endless': 1473, 'repeated': 3631, 'ugly': 4625, 'repetitive': 3633, 'technique': 4383, 'row': 3744, 'methods': 2825, 'feature': 1678, 'length': 2569, 'monster': 2892, 'looks': 2649, 'scary': 3807, 'raw': 3532, 'presence': 3373, 'soundtrack': 4085, 'apparently': 270, 'recorded': 3574, 'lady': 2507, 'tree': 4576, 'stomach': 4196, 'anyway': 261, 'adventure': 130, 'properly': 3437, 'vietnam': 4735, 'pal': 3177, 'sent': 3880, 'island': 2361, 'accent': 78, 'brooklyn': 595, 'retarded': 3663, 'dialogue': 1234, 'ridiculous': 3693, 'laughable': 2530, 'making': 2718, 'hold': 2129, 'interest': 2323, 'rape': 3521, 'leads': 2548, 'walks': 4780, 'exposed': 1598, 'wrestling': 4966, 'tough': 4537, 'gotta': 1946, 'location': 2635, 'filming': 1718, 'extremely': 1610, 'aspects': 322, 'sets': 3899, 'experience': 1580, 'days': 1130, 'crappy': 1032, 'cgi': 740, 'ad': 110, 'ultimately': 4628, 'issues': 2365, 'concerned': 932, 'trying': 4601, 'youll': 4988, 'fall': 1637, 'odds': 3082, 'copies': 992, 'arent': 288, 'lying': 2690, 'hardly': 2036, 'recommend': 3571, 'seeking': 3859, 'crazy': 1035, 'floating': 1758, 'damn': 1100, 'pieces': 3273, 'memorable': 2802, 'current': 1084, 'example': 1553, 'cg': 739, 'chance': 747, 'thats': 4425, 'wouldnt': 4958, 'write': 4967, 'extra': 1606, 'order': 3126, 'lines': 2612, 'text': 4419, 'website': 4834, 'requires': 3642, 'luckily': 2682, 'took': 4523, 'incredible': 2269, 'touching': 4536, 'seeing': 3857, 'buying': 641, 'added': 116, 'favorite': 1671, '15': 7, 'try': 4600, 'emotions': 1461, 'meaning': 2780, 'value': 4709, 'itll': 2369, 'message': 2819, 'horrible': 2163, 'mistakes': 2873, 'impossible': 2249, 'understand': 4643, 'nomination': 3026, 'sam': 3777, 'lee': 2559, 'portrays': 3344, 'detective': 1220, 'caused': 724, 'disappointment': 1275, 'dad': 1095, 'alright': 198, 'explanation': 1590, 'cannot': 670, 'convey': 982, 'sadness': 3770, 'crying': 1074, 'fake': 1635, 'tears': 4380, 'corner': 996, 'connect': 944, 'irrelevant': 2358, 'confusing': 942, 'viewer': 4738, 'dumb': 1385, 'heck': 2071, 'shoot': 3942, 'killer': 2470, 'started': 4157, 'officer': 3092, 'already': 197, 'dead': 1132, 'opportunity': 3121, 'hurt': 2202, 'clear': 839, 'girls': 1911, 'next': 3007, 'weight': 4840, 'actress': 105, 'nominated': 3025, 'performer': 3231, 'guessing': 1991, 'bring': 585, 'east': 1407, 'wins': 4899, 'cop': 991, 'without': 4913, 'purpose': 3474, 'beating': 425, 'overall': 3150, 'person': 3238, 'sick': 3963, 'disgusting': 1286, 'pass': 3201, 'preview': 3386, 'last': 2521, 'expect': 1575, 'premise': 3370, 'silly': 3976, 'assumed': 329, 'shallow': 3917, 'fun': 1848, 'virgin': 4749, 'humor': 2192, 'surprise': 4312, 'cried': 1054, 'jokes': 2415, 'open': 3112, 'grandmother': 1955, 'jack': 2373, 'small': 4033, 'language': 2516, 'crude': 1069, 'graphic': 1958, 'anywhere': 263, 'girlfriend': 1910, 'both': 547, 'steve': 4181, 'office': 3091, 'supporting': 4304, 'flaws': 1752, 'depth': 1190, 'pulls': 3464, 'chemistry': 782, 'wait': 4770, 'space': 4090, 'realizing': 3555, 'remembered': 3617, 'obsessed': 3069, 'week': 4837, 'town': 4541, 'luck': 2681, 'till': 4493, 'shocked': 3939, 'read': 3543, 'believe': 454, 'stopped': 4202, 'ahead': 159, 'understanding': 4645, 'deliver': 1169, 'terrifying': 4410, 'dollar': 1314, '60': 53, 'seconds': 3848, '2000': 30, 'four': 1812, 'slick': 4026, 'interested': 2324, 'cars': 702, 'con': 928, 'air': 164, 'rock': 3720, 'areas': 287, 'excitement': 1562, 'successful': 4266, 'thrill': 4471, 'stars': 4155, 'opens': 3115, 'list': 2617, 'expensive': 1579, 'powerful': 3360, 'criminal': 1057, 'raymond': 3534, 'christopher': 811, 'older': 3101, 'brother': 598, 'cage': 645, 'retired': 3664, 'upon': 4684, 'brothers': 599, 'survival': 4320, 'steel': 4173, 'color': 877, 'team': 4378, 'help': 2079, 'crew': 1053, 'business': 633, 'fellow': 1691, 'mirror': 2861, 'cross': 1066, 'aging': 153, 'wise': 4903, 'robert': 3713, 'scott': 3824, 'jackson': 2375, 'william': 4887, 'drive': 1363, 'subplot': 4255, 'police': 3322, 'timothy': 4499, 'suspect': 4327, 'development': 1225, 'assume': 328, 'personalities': 3241, 'core': 995, 'gritty': 1977, 'cultural': 1078, 'tone': 4517, 'necessary': 2984, 'thrillers': 4473, 'honor': 2150, 'decision': 1151, 'foul': 1810, 'earned': 1401, 'strongly': 4231, 'believable': 453, 'spite': 4117, 'due': 1382, 'top': 4525, 'notch': 3043, 'perfectly': 3226, 'performers': 3232, 'responsible': 3656, 'melodramatic': 2798, 'intense': 2316, 'convincing': 985, 'sleazy': 4023, 'appearance': 274, 'provide': 3448, 'standard': 4144, 'structure': 4233, 'motives': 2916, 'fast': 1661, 'theme': 4433, 'lacks': 2505, 'strong': 4229, 'introduction': 2339, 'segment': 3867, 'third': 4455, 'middle': 2833, 'provides': 3450, 'mid': 2832, 'sheer': 3925, 'rush': 3759, 'wall': 4781, 'chase': 769, 'deal': 1135, 'chases': 771, 'faults': 1669, 'directing': 1260, 'commercials': 903, 'appealing': 272, 'attitude': 346, 'grant': 1956, 'audiences': 353, 'hours': 2177, 'thrills': 4475, 'lake': 2509, 'yellow': 4981, 'returning': 3667, 'germany': 1898, 'ran': 3513, 'california': 650, 'pilot': 3276, 'bill': 481, 'searching': 3842, 'wondering': 4930, 'somewhere': 4069, 'available': 361, 'segments': 3868, 'baker': 385, 'victims': 4730, 'changing': 752, 'moon': 2900, 'breathtaking': 574, 'fabulous': 1615, 'start': 4156, 'couldnt': 1008, 'highly': 2105, 'amusing': 221, 'cry': 1073, 'heart': 2064, 'moments': 2887, 'depressed': 1187, 'win': 4892, 'award': 366, 'british': 589, 'takes': 4351, 'script': 3834, 'total': 4531, 'charm': 767, 'writers': 4969, 'hiding': 2099, 'whether': 4866, 'sadistic': 3768, 'border': 539, 'choices': 798, 'subtle': 4260, 'la': 2500, 'slapstick': 4019, 'speaking': 4095, 'cinematography': 820, 'cube': 1076, 'black': 493, 'former': 1800, 'disneys': 1290, 'latest': 2526, 'pleasant': 3302, 'animated': 241, 'disney': 1289, 'pushed': 3478, 'limits': 2607, 'tarzan': 4367, 'thankfully': 4422, 'comedy': 890, 'adults': 126, 'plain': 3286, 'happening': 2028, 'outside': 3146, 'studios': 4241, 'catch': 714, 'tradition': 4549, 'possibilities': 3348, 'atlantis': 332, 'trip': 4588, 'ok': 3098, 'soldier': 4053, 'meaningful': 2781, 'blade': 495, 'budget': 610, 'enjoyable': 1485, 'kurt': 2499, 'russell': 3761, 'stayed': 4167, 'virtually': 4751, 'humanity': 2189, 'broke': 593, 'poignant': 3315, 'portrayal': 3341, 'emotional': 1459, 'put': 3480, 'forward': 1808, 'reasonable': 3558, 'flesh': 1753, 'gary': 1873, 'unable': 4631, 'decide': 1148, 'realistic': 3550, 'peace': 3219, 'loving': 2675, 'terrorists': 4414, 'unlike': 4670, 'negative': 2991, 'impact': 2244, 'escape': 1517, 'sequels': 3886, 'creatures': 1046, 'sean': 3840, 'proud': 3444, 'families': 1644, 'noble': 3021, 'sci': 3815, 'fi': 1701, 'helped': 2080, 'situation': 4008, 'doing': 1312, 'badly': 383, 'giving': 1915, 'hbo': 2055, 'pay': 3216, 'channel': 753, 'existence': 1571, 'shown': 3959, 'adult': 125, 'closest': 857, 'parents': 3188, 'houses': 2180, 'bus': 631, 'subjects': 4254, 'pulling': 3463, 'following': 1774, 'discovered': 1280, 'hanging': 2023, 'lower': 2677, 'shelf': 3926, 'blockbuster': 509, 'makers': 2715, 'essentially': 1523, 'kubrick': 2496, 'gotten': 1947, 'author': 359, 'screenplay': 3831, 'happen': 2026, 'direction': 1261, 'adaptation': 113, 'format': 1799, 'approach': 282, 'woody': 4936, 'everything': 1544, 'arguably': 289, 'potential': 3355, 'destroyed': 1214, 'homage': 2141, 'carl': 692, 'far': 1653, 'heavy': 2070, 'handed': 2016, 'self': 3869, 'less': 2575, 'intellectual': 2312, 'wild': 4885, 'incredibly': 2270, 'drawn': 1351, 'pointless': 3318, 'nature': 2975, 'material': 2766, 'styles': 4250, 'engage': 1479, 'level': 2584, 'possibly': 3351, 'fear': 1676, 'accused': 91, 'exercise': 1568, 'americans': 214, 'marvelous': 2750, 'target': 4366, 'expected': 1577, 'visually': 4758, 'stunning': 4244, 'focused': 1767, 'goal': 1925, 'saving': 3797, 'trouble': 4592, 'alan': 171, 'vs': 4767, 'care': 684, 'stole': 4194, 'okay': 3099, 'admit': 122, 'humorous': 2193, 'between': 475, 'male': 2719, 'leaving': 2557, 'room': 3735, 'key': 2458, 'steals': 4172, 'hot': 2174, 're': 3535, 'child': 789, 'decade': 1144, 'savage': 3793, 'boy': 557, 'junior': 2435, 'scare': 3803, 'bear': 420, 'fire': 1734, 'earth': 1403, 'sequel': 3885, 'fate': 1665, 'rent': 3626, 'monsters': 2893, '2005': 35, 'traditional': 4550, 'japanese': 2382, 'known': 2492, 'ghosts': 1903, 'include': 2261, 'freak': 1824, 'water': 4816, 'grow': 1982, 'priest': 3392, 'enormous': 1490, 'sorts': 4078, 'fairy': 1632, 'era': 1513, 'halloween': 2010, 'phony': 3256, 'headed': 2058, 'create': 1036, 'tricks': 4583, 'depicted': 1183, 'design': 1202, 'simple': 3983, 'historically': 2120, 'endearing': 1469, 'destroy': 1213, 'ancient': 225, 'demon': 1177, 'japan': 2381, 'samurai': 3779, 'lord': 2652, 'goofy': 1939, 'costumes': 1006, 'moving': 2928, 'lips': 2615, 'faced': 1617, 'charming': 768, 'provided': 3449, 'viewed': 4737, 'mood': 2898, 'lone': 2642, 'wolf': 4920, 'heaven': 2068, 'hell': 2077, 'fx': 1858, 'excellent': 1555, 'trilogy': 4586, 'equal': 1509, 'nevertheless': 3002, 'miike': 2837, 'severe': 3906, 'viewers': 4739, 'somebody': 4062, 'discovers': 1281, 'commit': 904, 'suicide': 4283, 'boyfriend': 558, 'hank': 2024, 'lawrence': 2539, 'spend': 4105, 'spring': 4134, 'break': 569, 'mindless': 2851, 'naturally': 2974, 'pops': 3332, 'reason': 3557, 'killing': 2472, 'lousy': 2667, 'slasher': 4020, 'thriller': 4472, 'large': 2517, 'six': 4010, 'idiots': 2220, 'getting': 1901, 'drunk': 1375, 'anything': 260, 'gore': 1941, 'sucks': 4271, 'dreadful': 1353, 'tom': 4514, 'jay': 2386, 'jones': 2418, 'allen': 188, 'brad': 560, 'terrible': 4407, 'handsome': 2021, 'jeff': 2390, 'logic': 2638, 'friend': 1835, 'reaction': 3541, 'skip': 4016, 'rated': 3527, 'sit': 4003, 'smile': 4036, 'slap': 4018, 'fool': 1779, 'similar': 3978, 'choose': 799, 'knew': 2486, 'taste': 4369, 'unusual': 4681, 'managed': 2723, 'rights': 3697, 'politics': 3326, 'quirky': 3493, 'popular': 3333, 'culture': 1079, 'fancy': 1649, 'finds': 1728, 'thought': 4462, 'losers': 2656, 'surely': 4309, 'position': 3345, 'youd': 4987, 'hed': 2072, 'cinema': 816, 'ideas': 2215, 'baby': 376, 'company': 910, 'normal': 3033, 'strange': 4211, 'blow': 514, 'against': 147, 'addition': 118, 'scripts': 3836, 'tracy': 4546, 'appeared': 276, 'buy': 640, 'students': 4239, 'cut': 1089, 'conversations': 981, 'held': 2074, 'steven': 4182, 'prime': 3395, 'community': 908, 'limited': 2606, 'individuals': 2278, 'groups': 1981, 'population': 3335, 'scream': 3826, 'media': 2789, 'feelings': 1686, 'expressed': 1601, 'aware': 368, 'differences': 1247, 'exist': 1569, 'political': 3324, 'distant': 1295, 'future': 1856, 'state': 4160, 'truth': 4599, 'asks': 319, 'appears': 278, 'sons': 4073, 'national': 2970, 'private': 3404, 'warming': 4795, 'connection': 946, 'weird': 4841, 'history': 2121, 'pages': 3168, 'conclusion': 936, 'depression': 1189, 'ambitious': 211, 'store': 4204, 'falling': 1639, 'whom': 4875, 'romantic': 3733, 'letters': 2582, 'discover': 1279, 'shop': 3945, 'constantly': 958, 'add': 115, 'twist': 4617, 'owner': 3159, 'convinced': 984, 'stewart': 4184, 'affair': 135, 'wife': 4884, 'briefly': 580, 'fired': 1735, 'ending': 1471, 'inevitable': 2282, 'dated': 1119, 'references': 3583, 'poverty': 3357, 'consider': 949, 'pleasure': 3306, 'box': 555, 'reach': 3536, 'common': 906, 'peoples': 3222, 'credible': 1048, '1990s': 25, 'youve': 4995, 'starring': 4154, 'hanks': 2025, 'ryan': 3765, 'actual': 108, 'chain': 741, 'unbelievable': 4634, 'offended': 3085, 'lane': 2515, 'complicated': 925, 'lovers': 2673, 'comedies': 889, 'brilliantly': 584, 'obviously': 3072, 'danes': 1108, 'personality': 3242, 'hand': 2015, 'wonder': 4926, 'likes': 2602, 'stage': 4139, 'specific': 4099, 'purely': 3472, 'artistic': 308, 'terms': 4406, 'produce': 3413, 'western': 4853, 'fresh': 1833, 'inane': 2258, 'shine': 3931, 'school': 3813, 'gonna': 1936, 'attempt': 340, 'often': 3095, 'bite': 489, 'steps': 4177, 'possible': 3350, 'within': 4912, 'working': 4944, 'class': 833, 'england': 1482, 'force': 1786, 'home': 2142, 'cleverly': 842, 'faces': 1618, 'quote': 3496, 'rip': 3700, 'balls': 390, 'sir': 4000, 'ron': 3734, 'underrated': 4642, 'mad': 2696, 'gem': 1877, 'treasure': 4571, 'mine': 2853, 'wish': 4904, 'tape': 4365, 'worn': 4948, 'military': 2844, 'vegas': 4717, 'whenever': 4863, 'hey': 2095, 'beginning': 443, 'words': 4938, 'flash': 1745, 'randomly': 3515, 'writer': 4968, 'book': 535, 'lack': 2502, 'throughout': 4478, 'johnny': 2410, 'went': 4847, 'difference': 1246, 'painful': 3171, 'honestly': 2147, 'buff': 611, 'feeling': 1685, 'blah': 496, 'hurts': 2203, 'remotely': 3623, 'sat': 3786, 'waste': 4808, '30': 42, 'minutes': 2859, 'choice': 797, 'relies': 3606, 'storytelling': 4209, 'techniques': 4384, 'tend': 4400, 'welcome': 4842, 'straight': 4210, 'forget': 1793, 'watched': 4813, 'peter': 3247, 'patrick': 3213, 'wasted': 4809, 'blows': 517, 'hits': 2125, 'sequence': 3887, 'machine': 2693, 'gun': 1996, 'hood': 2151, 'co': 867, 'charlotte': 766, 'lewis': 2586, 'heat': 2067, 'discovery': 1282, 'recommended': 3572, 'henry': 2084, 'colonel': 876, 'birth': 486, 'nation': 2969, 'campy': 664, 'husband': 2204, 'johnson': 2411, 'silent': 3975, 'player': 3298, 'adds': 119, 'melodrama': 2797, 'comical': 894, 'passes': 3203, 'shock': 3938, 'doomed': 1327, 'fans': 1650, 'unexpected': 4650, 'expression': 1602, 'paul': 3214, 'kate': 2446, 'eva': 1531, 'minute': 2858, 'morning': 2906, 'wedding': 4836, 'demands': 1175, 'food': 1778, 'horrors': 2169, 'angel': 231, 'ice': 2210, 'arrives': 302, 'falls': 1640, 'sends': 3876, 'psychic': 3456, 'starting': 4158, 'dating': 1120, 'lovely': 2671, 'medium': 2792, 'ashley': 313, 'bell': 458, 'herself': 2092, 'partner': 3198, 'jason': 2383, 'importantly': 2248, 'returns': 3668, 'intentions': 2321, 'return': 3665, 'abysmal': 76, 'fan': 1648, 'likewise': 2603, 'gifted': 1907, 'wit': 4908, 'winner': 4897, 'warned': 4798, 'victoria': 4732, 'settings': 3901, 'beautifully': 429, 'emily': 1456, 'wears': 4832, 'bringing': 586, 'picking': 3267, 'oscar': 3133, 'bland': 500, 'prince': 3396, 'albert': 174, 'blunt': 520, 'jim': 2402, 'richardson': 3688, 'forgettable': 1794, 'feels': 1687, 'changed': 750, 'bette': 471, 'davis': 1126, 'delightful': 1168, 'average': 362, '30s': 44, 'constructed': 959, 'helps': 2082, 'carried': 698, 'george': 1893, 'mainly': 2708, 'involves': 2348, 'involved': 2346, 'needless': 2989, 'warning': 4800, 'basic': 406, 'texas': 4418, 'magic': 2703, 'practice': 3363, 'longer': 2645, 'drag': 1342, 'boys': 559, 'setting': 3900, 'project': 3427, 'thoroughly': 4459, 'physically': 3263, 'abusive': 75, 'buddy': 609, 'regardless': 3590, 'local': 2634, 'elderly': 1440, 'described': 1195, 'santa': 3783, 'drops': 1372, 'load': 2631, 'props': 3439, 'remaining': 3610, 'folk': 1770, 'survive': 4321, 'score': 3822, 'songs': 4072, '90': 60, 'repeatedly': 3632, 'date': 1118, 'dan': 1102, 'jerk': 2395, 'relationship': 3597, 'lily': 2605, 'easily': 1406, 'dealt': 1138, 'drags': 1345, 'tame': 4363, 'button': 639, 'scares': 3806, 'dislike': 1288, 'blame': 499, 'mess': 2818, 'else': 1448, 'pick': 3265, 'mistake': 2871, 'acted': 98, 'generally': 1881, 'uncle': 4636, 'delivered': 1170, 'dennis': 1179, 'hopper': 2161, 'appearances': 275, 'disjointed': 1287, 'clearly': 840, 'stretch': 4221, 'supposedly': 4307, 'hollywood': 2137, 'pseudo': 3454, 'irish': 2353, 'accents': 79, 'lengthy': 2570, 'vacation': 4704, 'fourth': 1813, 'weeks': 4839, 'holiday': 2134, 'apartment': 265, 'finished': 1733, 'program': 3424, 'hooked': 2153, 'instantly': 2306, 'fascinated': 1657, 'relatives': 3601, 'wondered': 4927, 'folks': 1771, 'episode': 1507, 'host': 2173, 'claire': 831, 'carter': 703, 'york': 4985, 'fifteen': 1706, 'animals': 240, 'associated': 327, 'north': 3036, 'progresses': 3426, 'shots': 3950, 'under': 4639, 'sky': 4017, 'planet': 3289, 'narration': 2965, 'easier': 1405, 'scientific': 3817, 'detail': 1217, 'covers': 1024, 'instance': 2304, 'sea': 3838, 'ideal': 2214, 'whale': 4857, 'contain': 962, 'superior': 4300, 'jonathan': 2417, 'alice': 182, 'taking': 4352, 'plans': 3292, 'decided': 1149, 'met': 2822, 'nick': 3012, 'daniel': 1111, 'trade': 4547, 'hong': 2149, 'kong': 2494, 'weekend': 4838, 'accepted': 82, 'airport': 167, 'arrested': 298, 'drugs': 1374, 'thirty': 4456, 'prison': 3401, 'decisions': 1152, 'forever': 1792, 'friendly': 1836, 'showing': 3958, 'sometimes': 4067, 'fair': 1630, 'silence': 3974, 'sarah': 3785, 'bought': 552, 'failed': 1626, 'therefore': 4439, 'subject': 4253, 'question': 3487, 'thumbs': 4485, 'son': 4070, 'crisis': 1060, 'dialog': 1232, 'rings': 3699, 'false': 1641, 'talents': 4356, 'falk': 1636, 'figure': 1711, 'presents': 3377, 'daughter': 1121, 'law': 2538, 'property': 3438, 'road': 3709, 'fish': 1738, 'pool': 3327, 'baseball': 403, 'game': 1864, 'affect': 136, 'touches': 4535, 'torture': 4529, 'captured': 677, 'battles': 415, 'commercial': 902, 'background': 380, 'information': 2288, 'battle': 414, 'executed': 1565, 'terribly': 4408, 'exact': 1550, 'predictable': 3367, 'spoiler': 4123, 'army': 295, 'soldiers': 4054, 'curse': 1086, 'thousand': 4465, 'lead': 2545, 'men': 2805, 'dies': 1245, 'oh': 3096, 'dressed': 1358, 'moved': 2922, 'heads': 2059, 'anyways': 262, 'country': 1014, 'landscape': 2513, 'city': 825, 'hall': 2009, 'imagination': 2236, 'synopsis': 4344, 'mayor': 2777, 'al': 170, 'pacino': 3164, 'effort': 1432, 'cusack': 1088, 'equally': 1510, 'bright': 581, 'individual': 2277, 'whos': 4876, 'tied': 4489, 'higher': 2101, 'shooting': 3943, 'investigation': 2343, 'fonda': 1777, 'believes': 456, 'guilt': 1994, 'towards': 4540, 'officers': 3093, 'questionable': 3488, 'freedom': 1828, 'apparent': 269, 'cover': 1022, 'corruption': 1002, 'union': 4661, 'danny': 1112, 'frank': 1821, 'corrupt': 1001, 'judge': 2424, 'walter': 4784, 'martin': 2748, 'mafia': 2700, 'anthony': 253, 'deeply': 1156, 'vehicle': 4718, 'bet': 470, 'cartoons': 705, 'witch': 4909, 'doctor': 1304, 'jane': 2380, 'adventures': 131, 'pg': 3250, 'seasons': 3844, 'satire': 3788, '90s': 61, 'hop': 2154, 'hammer': 2014, 'began': 441, 'follow': 1772, 'journey': 2421, 'finish': 1732, 'hate': 2046, 'regard': 3588, 'secret': 3849, 'dark': 1115, 'australian': 357, 'realized': 3553, 'streep': 4215, 'michael': 2829, 'god': 1926, 'australia': 356, 'accident': 84, 'resulting': 3661, 'mass': 2753, 'views': 4742, 'blown': 516, 'fred': 1825, 'died': 1244, 'cake': 648, 'eat': 1411, 'ultimate': 4627, 'sacrifice': 3766, 'camp': 662, 'fortunately': 1805, 'pulled': 3462, 'bored': 541, 'fell': 1690, 'asleep': 320, 'continues': 971, 'ends': 1474, 'speaks': 4096, 'acts': 107, 'spot': 4131, 'annoyed': 248, 'reading': 3544, 'method': 2824, 'hamlet': 2013, 'faithful': 1634, 'shines': 3932, 'light': 2595, 'worthy': 4956, 'disappoint': 1272, 'kept': 2456, 'rarely': 3524, 'cliff': 847, 'wow': 4962, 'roll': 3728, 'cat': 713, 'modern': 2882, 'crime': 1055, 'corny': 997, 'neat': 2982, 'twists': 4619, 'russian': 3762, 'bride': 577, 'winds': 4895, 'aid': 160, 'providing': 3451, 'surprises': 4314, 'ben': 463, 'vincent': 4746, 'proves': 3447, 'ha': 2002, 'redeeming': 3577, 'nonsensical': 3031, 'questions': 3489, 'zombies': 4998, 'answer': 251, 'demand': 1174, 'advance': 127, 'lol': 2640, 'satisfying': 3791, 'element': 1442, 'marie': 2737, 'casting': 711, 'exceptionally': 1559, 'talented': 4355, 'attractive': 351, 'thank': 4421, 'goodness': 1938, 'aged': 149, 'jessica': 2398, 'disaster': 1276, 'aspect': 321, 'mature': 2773, 'pack': 3165, 'formula': 1802, 'chicks': 787, 'witty': 4917, 'laughs': 2534, 'whereas': 4865, 'natural': 2973, 'involve': 2345, 'difficult': 1249, 'unrealistic': 4677, 'flaw': 1749, 'offensive': 3086, 'quality': 3484, 'hearted': 2065, 'ape': 266, 'whoever': 4872, 'barely': 399, 'whatsoever': 4861, 'dean': 1139, 'knows': 2493, 'staring': 4152, 'bottom': 551, 'double': 1331, 'stooges': 4200, 'sappy': 3784, 'throwing': 4480, 'unfunny': 4655, 'measure': 2786, 'werent': 4849, 'stuck': 4237, 'julie': 2428, 'thick': 4447, 'comparison': 914, 'ms': 2931, 'struggles': 4235, 'amazed': 208, 'similarities': 3979, 'abuse': 74, '1990': 24, 'awards': 367, 'issue': 2364, 'duke': 1383, 'illness': 2230, 'disease': 1285, 'personally': 3243, 'success': 4265, 'courage': 1018, 'frame': 1815, 'wandering': 4785, 'ups': 4686, 'bodies': 526, 'ready': 3546, 'bottle': 550, 'wishing': 4907, 'gay': 1876, 'porn': 3336, 'granted': 1957, 'crafted': 1029, 'subplots': 4256, 'plots': 3310, 'likely': 2601, 'india': 2273, 'slaughter': 4021, 'attend': 344, 'reunion': 3669, 'ten': 4399, 'marty': 2749, 'satisfy': 3790, 'victim': 4729, 'acid': 95, 'bed': 436, 'creepy': 1052, 'mask': 2752, 'finale': 1723, 'utterly': 4702, 'flicks': 1755, 'willing': 4889, 'settle': 3902, 'mission': 2870, 'charisma': 762, 'mention': 2810, 'married': 2744, 'shame': 3918, 'alas': 172, 'couldve': 1009, 'regular': 3592, 'poor': 3328, 'cared': 685, 'academy': 77, 'holes': 2133, 'unnecessary': 4672, 'drama': 1346, 'blood': 512, 'international': 2326, 'blew': 505, 'utter': 4701, 'tunes': 4603, 'twice': 4613, 'latter': 2528, 'merit': 2816, 'warner': 4799, 'noted': 3045, 'superhero': 4299, 'fail': 1625, 'ordinary': 3128, 'super': 4295, 'strikes': 4225, 'titles': 4506, 'section': 3853, 'count': 1010, 'century': 736, 'cute': 1090, 'mildly': 2840, 'various': 4715, 'villains': 4745, 'types': 4622, 'context': 968, 'laughter': 2535, 'occasionally': 3075, 'missed': 2867, 'abilities': 64, 'generated': 1882, 'weapons': 4829, 'describe': 1194, 'bugs': 613, 'teen': 4388, 'overly': 3155, 'creators': 1044, 'imaginative': 2237, 'amazingly': 210, 'stock': 4193, 'protagonists': 3442, 'adding': 117, 'hunting': 2201, 'villain': 4744, 'ah': 158, 'opportunities': 3120, '2nd': 41, 'season': 3843, '14': 6, 'crowd': 1067, '3rd': 47, 'growing': 1983, 'scooby': 3820, 'doo': 1325, 'tomatoes': 4515, 'focus': 1766, 'cause': 723, 'dr': 1340, 'listening': 2620, 'enjoying': 1487, 'kick': 2460, 'wars': 4804, 'names': 2963, 'indeed': 2271, 'reasons': 3560, 'serial': 3889, 'comic': 893, 'criminals': 1058, 'stress': 4220, 'feet': 1688, '24': 39, 'bay': 416, 'central': 735, 'security': 3854, 'notion': 3050, 'professional': 3421, 'patient': 3211, 'vulnerable': 4768, 'basis': 408, 'sleeping': 4025, 'seemingly': 3863, 'sexually': 3910, 'resist': 3648, 'relationships': 3598, 'cringe': 1059, 'afraid': 140, 'innocence': 2293, 'del': 1165, 'argument': 291, 'serves': 3895, 'quest': 3486, 'jeffrey': 2391, 'general': 1880, 'performed': 3230, 'narrative': 2966, 'thus': 4486, 'smooth': 4041, 'reminds': 3620, 'french': 1830, 'wave': 4818, 'da': 1094, 'topic': 4526, 'reviewers': 3678, 'lesser': 2576, 'channels': 754, 'romance': 3732, 'challenge': 743, 'brains': 563, 'faith': 1633, 'amateur': 206, 'stone': 4197, 'concept': 930, 'williams': 4888, 'football': 1783, 'plays': 3301, 'ex': 1549, 'clown': 862, 'tragedy': 4551, 'kings': 2481, 'producing': 3417, 'viewing': 4740, 'results': 3662, 'parody': 3192, 'splatter': 4118, 'university': 4667, 'separate': 3883, 'learning': 2552, 'dangerous': 1110, 'escaped': 1518, 'moves': 2925, 'catholic': 720, 'st': 4137, 'argue': 290, 'professor': 3422, 'incompetent': 2266, 'deals': 1137, 'mothers': 2912, 'blank': 501, 'breath': 573, 'red': 3576, 'pace': 3161, 'numerous': 3062, 'frustration': 1843, 'coffee': 870, 'killers': 2471, 'pregnant': 3369, 'aint': 163, 'justice': 2438, 'listen': 2619, 'critics': 1064, 'bitter': 491, 'spike': 4111, 'months': 2897, 'wonderfully': 4929, 'surreal': 4317, 'fit': 1740, 'nicely': 3009, 'swim': 4337, 'juvenile': 2441, 'darker': 1116, 'greatest': 1966, 'created': 1037, 'younger': 4990, 'jewish': 2401, 'princess': 3397, 'reviews': 3679, 'unfolds': 4651, 'spoof': 4127, 'expectations': 1576, 'delivering': 1171, 'excessive': 1560, 'movement': 2923, 'frequent': 1831, 'pacing': 3163, 'deliberately': 1166, 'continuity': 972, 'frequently': 1832, 'balance': 387, 'angles': 237, 'eyed': 1612, 'delivers': 1172, 'complex': 923, 'manner': 2729, 'stolen': 4195, '1930s': 11, 'code': 869, 'gag': 1861, 'fay': 1674, 'ned': 2986, 'choreographed': 801, 'intentionally': 2320, 'implausible': 2245, 'nearly': 2981, 'counter': 1011, 'using': 4698, 'closed': 854, 'independent': 2272, 'hal': 2006, 'expecting': 1578, 'picked': 3266, 'pleasantly': 3303, 'tight': 4492, 'ruin': 3750, 'advice': 133, 'miss': 2866, 'spent': 4108, 'sharp': 3922, 'dynamic': 1394, 'quiet': 3492, 'dressing': 1359, 'filmmaker': 1719, 'harris': 2038, 'extended': 1604, 'spectacular': 4101, 'doc': 1303, 'aired': 165, 'glover': 1923, 'turning': 4608, 'uses': 4697, 'remains': 3611, 'gender': 1878, 'complexity': 924, 'immensely': 2243, 'profound': 3423, 'caine': 647, 'brilliant': 583, 'proceedings': 3410, 'complain': 919, 'edition': 1422, 'endure': 1475, 'cash': 709, 'amount': 219, 'anti': 254, 'christian': 808, 'respect': 3652, 'taught': 4370, 'propaganda': 3435, 'represented': 3638, 'affected': 137, 'christians': 809, 'passion': 3205, 'christ': 807, 'interview': 2329, 'solely': 4056, 'fully': 1847, 'doubt': 1332, 'facts': 1624, 'thoughts': 4464, 'produced': 3414, 'brutal': 603, 'category': 718, 'lifetime': 2594, 'disturbing': 1300, 'stand': 4143, '16': 8, 'normally': 3034, 'eg': 1434, 'asian': 314, 'magnificent': 2705, 'grace': 1950, '18': 10, 'insane': 2296, 'scottish': 3825, 'discuss': 1283, 'photography': 3260, 'daily': 1097, 'impressive': 2253, 'revolution': 3680, 'thousands': 4466, 'struggle': 4234, 'changes': 751, 'global': 1920, 'mentioned': 2811, 'depressing': 1188, 'direct': 1258, 'answers': 252, 'distance': 1294, 'bears': 421, 'land': 2511, 'beat': 423, 'inspiring': 2302, 'relations': 3596, 'inspiration': 2300, 'touch': 4533, 'ability': 65, 'pretentious': 3383, 'stay': 4166, 'walker': 4778, 'harsh': 2040, 'reality': 3551, 'happiness': 2031, 'joy': 2422, 'unpleasant': 4674, 'philip': 3252, 'matthew': 2772, 'carrying': 701, 'chosen': 805, 'flight': 1757, 'exists': 1573, 'amanda': 205, 'pig': 3274, 'beaten': 424, 'corpse': 999, 'extraordinary': 1607, 'defend': 1158, 'directorial': 1265, 'substance': 4258, 'depiction': 1185, 'accompanied': 86, 'succeeds': 4264, '1980s': 21, 'bleak': 503, 'celluloid': 731, 'novel': 3052, 'attempted': 341, 'remarkably': 3614, 'serve': 3893, 'dickens': 1240, 'narrator': 2967, 'raised': 3508, 'aunt': 355, 'diana': 1237, 'increasingly': 2268, 'regarding': 3589, 'involvement': 2347, 'estate': 1525, 'richards': 3687, 'cousin': 1021, 'promise': 3430, 'closely': 855, 'ass': 323, 'oliver': 3102, 'consistently': 954, 'cure': 1081, 'laws': 2540, 'greedy': 1969, 'murder': 2939, 'trial': 4580, 'critical': 1062, 'legal': 2563, 'social': 4049, 'hunt': 2198, 'fields': 1705, 'notorious': 3051, 'maria': 2736, 'mini': 2854, 'pity': 3281, 'carry': 700, 'continue': 969, 'clue': 864, 'suggests': 4282, 'user': 4696, 'commented': 900, 'perspective': 3245, 'slightest': 4028, 'importance': 2246, 'directly': 1263, 'won': 4925, 'nervous': 2999, 'appreciated': 280, 'alien': 183, 'surprising': 4315, 'terrorist': 4413, '50': 51, 'remain': 3609, 'thanks': 4423, 'system': 4345, 'advantage': 129, 'pointed': 3317, 'sum': 4289, 'inspired': 2301, 'hopes': 2159, 'tends': 4402, 'teenagers': 4391, 'fights': 1710, 'fashion': 1659, 'removed': 3624, 'passed': 3202, 'consists': 955, 'mild': 2839, 'occasion': 3073, 'flawless': 1751, 'rex': 3683, 'memories': 2803, 'enter': 1494, 'wwii': 4975, 'underlying': 4641, 'overwhelming': 3157, 'sad': 3767, 'struck': 4232, 'suspects': 4328, 'suffered': 4276, 'uncomfortable': 4637, 'plight': 3308, 'offers': 3090, 'clues': 865, 'insight': 2298, 'achievement': 94, 'hopefully': 2157, 'remarkable': 3613, 'ii': 2226, 'strangely': 4212, 'madness': 2698, 'offered': 3088, 'hints': 2113, 'isolated': 2363, 'filmmakers': 1720, 'bonus': 534, 'behind': 447, 'spots': 4132, 'amateurish': 207, 'grey': 1973, 'shouldnt': 3952, 'built': 618, 'disappointing': 1274, 'brown': 601, 'leo': 2571, 'veteran': 4724, 'meaningless': 2782, 'teenage': 4389, 'breasts': 572, 'maintain': 2710, 'julia': 2427, 'finest': 1730, 'noir': 3023, 'pictures': 3270, 'string': 4227, 'westerns': 4854, 'bela': 450, 'lugosi': 2686, 'invisible': 2344, 'secrets': 3852, 'ed': 1415, 'san': 3780, 'francisco': 1819, 'inventive': 2341, 'introduced': 2337, 'rare': 3523, 'tale': 4353, 'productions': 3420, 'scope': 3821, 'continued': 970, 'lighting': 2596, 'resources': 3651, 'mysteries': 2954, 'conventional': 979, 'attitudes': 347, 'agrees': 157, 'arrival': 299, 'sleep': 4024, 'brand': 565, 'identity': 2217, 'womans': 4922, 'grasp': 1960, 'hopeless': 2158, 'menacing': 2807, 'murdered': 2940, 'sinister': 3998, 'scheme': 3812, 'otherwise': 3137, 'ie': 2221, 'deadly': 1133, 'christmas': 810, 'reputation': 3640, 'reference': 3582, 'fat': 1663, 'arrive': 300, 'witness': 4914, 'messed': 2821, 'leg': 2562, 'disturbed': 1299, 'toy': 4542, 'factory': 1623, 'card': 681, 'solution': 4059, 'eve': 1532, 'sucked': 4270, 'screening': 3830, 'grand': 1953, 'mary': 2751, 'louise': 2666, 'insulting': 2310, 'deaf': 1134, 'prepared': 3371, 'ludicrous': 2685, 'obnoxious': 3067, 'exception': 1557, 'gene': 1879, 'encounter': 1466, 'hole': 2132, 'talent': 4354, 'jr': 2423, 'louis': 2665, 'object': 3066, 'doom': 1326, 'nobody': 3022, 'competent': 917, 'onto': 3111, 'complaint': 920, 'thinks': 4454, 'allowing': 191, 'surface': 4310, 'beneath': 464, 'mgm': 2828, 'stunt': 4245, 'margaret': 2735, 'hamilton': 2012, 'wicked': 4879, 'west': 4852, 'edward': 1426, 'gang': 1867, 'driving': 1368, 'apart': 264, 'dimensional': 1253, 'revealed': 3671, 'desperate': 1208, 'marriage': 2743, 'humble': 2191, 'despair': 1207, 'friendship': 1838, 'worker': 4942, 'strength': 4219, 'ocean': 3079, 'chuck': 812, 'revenge': 3675, 'blind': 506, 'served': 3894, 'brief': 579, 'sexuality': 3909, 'teens': 4392, 'curiosity': 1082, 'chinese': 796, 'deserved': 1200, 'happily': 2030, 'proved': 3446, 'luke': 2687, 'impressed': 2251, 'slave': 4022, 'epic': 1506, 'putting': 3482, 'cooper': 990, 'cagney': 646, 'gordon': 1940, 'cole': 873, 'dick': 1239, 'rule': 3753, 'dentist': 1180, 'hotel': 2175, 'radio': 3504, 'touched': 4534, 'efforts': 1433, 'ruth': 3763, 'roman': 3731, 'sing': 3992, 'perform': 3227, 'base': 402, 'stranger': 4213, 'virginia': 4750, 'kidding': 2465, 'contract': 973, 'purple': 3473, 'rain': 3506, 'lights': 2597, 'originally': 3131, 'broadcast': 591, 'represents': 3639, 'lucy': 2684, 'directions': 1262, 'path': 3209, 'contemporary': 965, 'producers': 3416, 'gentle': 1890, 'cox': 1026, 'robinson': 3716, 'science': 3816, 'teacher': 4375, 'trademark': 4548, 'link': 2613, 'harvey': 2042, 'conflict': 939, 'competition': 918, 'schools': 3814, 'nurse': 3063, 'colorful': 878, 'depicts': 1186, 'appalling': 268, 'compelled': 915, 'spoken': 4126, 'examples': 1554, 'ship': 3934, 'captain': 674, 'court': 1020, 'plenty': 3307, 'technical': 4381, 'device': 1227, 'insult': 2309, 'trash': 4565, 'fictional': 1703, 'watches': 4814, 'outcome': 3142, 'laughably': 2531, 'shocking': 3940, 'grade': 1951, 'below': 462, 'par': 3184, 'dolph': 1317, 'plan': 3287, 'outer': 3143, 'monkey': 2890, 'values': 4710, 'streisand': 4218, 'reaches': 3538, 'dragged': 1343, 'nine': 3017, 'member': 2800, 'prize': 3405, 'literature': 2623, 'singer': 3993, 'shoots': 3944, 'genius': 1887, 'busy': 635, 'wrapped': 4964, 'paris': 3189, 'honest': 2146, 'innovative': 2295, 'visuals': 4759, 'remind': 3618, 'sin': 3988, 'earlier': 1399, 'toward': 4539, 'principal': 3398, 'animal': 239, 'clark': 832, 'painfully': 3172, 'clichéd': 845, 'illegal': 2229, 'activities': 102, 'gangster': 1868, 'holds': 2131, 'unknown': 4668, 'tie': 4488, 'forgotten': 1797, 'leonard': 2572, 'ps': 3453, 'butt': 638, 'final': 1722, 'occurred': 3077, 'wacky': 4769, 'aside': 315, 'reminded': 3619, 'favourite': 1673, 'paulie': 3215, 'keeping': 2450, 'resolution': 3649, 'keaton': 2448, 'price': 3389, 'expert': 1585, 'claims': 830, 'anna': 245, 'via': 4726, 'hint': 2112, 'larger': 2519, 'convoluted': 987, 'absurd': 73, 'convincingly': 986, 'ties': 4490, 'explains': 1589, 'noise': 3024, 'junk': 2436, 'ian': 2209, 'atrocious': 335, 'brought': 600, 'planned': 3290, 'cheating': 776, 'dare': 1113, 'beings': 449, 'motivations': 2915, 'suffers': 4278, 'suffer': 4275, 'unwatchable': 4682, 'wasting': 4810, 'turkey': 4604, 'vaguely': 4706, 'defined': 1160, 'express': 1600, 'splendid': 4119, 'tour': 4538, 'sings': 3997, 'heroes': 2089, 'solo': 4058, 'forest': 1791, 'hired': 2117, 'ho': 2127, 'charge': 761, 'jobs': 2406, 'rogers': 3725, 'fooled': 1780, '75': 57, 'replaced': 3634, 'routine': 3743, 'suit': 4284, 'smaller': 4034, 'remake': 3612, 'akshay': 169, 'abraham': 69, 'domestic': 1318, 'hasnt': 2044, '20th': 38, 'canada': 666, 'quotes': 3497, 'site': 4005, 'china': 795, 'tim': 4494, 'burton': 630, 'apes': 267, '1968': 16, 'heston': 2094, 'improved': 2255, 'understood': 4647, 'toys': 4543, 'bin': 483, 'tortured': 4530, 'receives': 3565, 'letter': 2581, 'capture': 676, 'die': 1243, 'begin': 442, 'tonight': 4519, 'plastic': 3294, 'giant': 1905, 'tremendous': 4579, 'spirits': 4115, 'chris': 806, 'strictly': 4223, '60s': 54, 'inner': 2292, 'wonders': 4931, 'draw': 1349, 'rolling': 3730, 'stones': 4198, 'stephen': 4176, 'asked': 317, 'karen': 2444, 'jimmy': 2403, 'nail': 2957, 'ray': 3533, 'billy': 482, 'burn': 625, 'brian': 576, 'bruce': 602, 'dutch': 1389, 'fly': 1763, 'threatening': 4468, 'hearts': 2066, 'bits': 490, 'cup': 1080, 'tea': 4373, 'manages': 2725, 'mill': 2845, 'emotion': 1458, 'likable': 2598, 'visit': 4755, 'health': 2060, 'doctors': 1305, 'shut': 3961, 'painted': 3174, 'cheesy': 781, 'unlikely': 4671, 'afternoon': 144, 'classical': 836, 'trained': 4557, 'execution': 1566, 'wannabe': 4787, 'ears': 1402, 'teachers': 4376, 'random': 3514, 'pile': 3275, 'promising': 3433, '11': 2, 'draws': 1352, 'visits': 4756, 'fever': 1699, 'drawing': 1350, 'dealing': 1136, 'impression': 2252, 'frankly': 1823, 'block': 508, 'field': 1704, 'alternate': 200, 'mark': 2739, 'keeps': 2451, 'ball': 388, 'fascinating': 1658, 'satisfied': 3789, 'variety': 4714, 'definite': 1161, 'worried': 4949, 'regret': 3591, 'trailers': 4555, 'internet': 2327, 'mentally': 2809, 'attached': 336, 'embarrassed': 1453, 'beyond': 476, 'flop': 1760, 'lover': 2672, 'overlooked': 3154, '1984': 23, 'computer': 927, 'imagery': 2234, 'borrowed': 545, 'heavily': 2069, 'heroine': 2091, 'constant': 957, 'attempts': 343, 'digital': 1251, 'flying': 1764, 'improvement': 2256, 'belief': 451, 'weapon': 4828, 'ships': 3935, 'stargate': 4151, 'lay': 2542, 'humans': 2190, 'dig': 1250, 'unpredictable': 4675, 'sides': 3967, 'laura': 2536, 'centers': 734, 'club': 863, 'kills': 2474, 'nude': 3058, 'cameo': 657, 'received': 3564, 'vote': 4766, 'lust': 2689, 'primary': 3394, 'superficial': 4298, 'presented': 3376, 'missing': 2869, 'needed': 2988, 'roots': 3738, 'lucky': 2683, 'yeah': 4977, 'followed': 1773, 'bush': 632, 'park': 3190, 'matt': 2768, 'network': 3000, 'sitcom': 4004, 'notice': 3048, 'bbc': 417, '1999': 27, 'appearing': 277, 'tall': 4362, 'youth': 4994, 'garden': 1872, 'inferior': 2285, 'upper': 4685, 'explosion': 1596, 'executive': 1567, 'market': 2740, 'hundred': 2195, 'boat': 523, 'generic': 1885, 'range': 3516, 'wished': 4905, 'miscast': 2862, 'sellers': 3872, 'hippie': 2115, 'prove': 3445, 'cinderella': 815, 'definition': 1163, 'guess': 1989, 'sign': 3970, 'senseless': 3878, 'rick': 3689, 'brilliance': 582, 'chose': 804, 'pain': 3170, 'wound': 4960, 'covered': 1023, 'brady': 561, 'everywhere': 1545, 'knock': 2488, 'steal': 4170, 'punch': 3466, 'guessed': 1990, 'classes': 834, 'rising': 3703, 'avoided': 364, 'mst3k': 2932, 'environment': 1505, 'damage': 1099, 'zombie': 4997, 'ripped': 3701, 'bare': 398, 'terror': 4412, 'opposite': 3123, 'persons': 3244, 'relatively': 3600, 'tiny': 4500, 'pearl': 3220, 'intent': 2318, 'portrait': 3339, 'portraying': 3343, 'combine': 884, 'documentaries': 1306, 'push': 3477, 'nightmares': 3015, 'buried': 624, 'queen': 3485, 'stevens': 4183, 'hideous': 2098, 'twenty': 4612, 'haunting': 2051, 'editor': 1423, 'sheriff': 3929, 'riding': 3695, 'meant': 2784, 'mainstream': 2709, 'africa': 141, 'mixed': 2877, '1970s': 17, 'pre': 3365, 'african': 142, 'race': 3499, 'refuses': 3587, 'helicopter': 2076, 'search': 3841, 'territory': 4411, 'vengeance': 4719, 'track': 4544, 'supernatural': 4302, 'knowledge': 2491, 'reaching': 3539, 'sell': 3871, 'wealthy': 4827, 'un': 4630, 'considering': 952, 'consequences': 947, 'united': 4664, 'ruins': 3752, 'loses': 2657, 'marks': 2742, 'fox': 1814, 'month': 2896, 'lifestyle': 2593, 'worry': 4950, 'chick': 786, 'chooses': 800, 'mummy': 2937, 'achieve': 92, 'spoil': 4121, 'combined': 885, 'trick': 4582, 'overlook': 3153, '3000': 43, 'italian': 2367, 'italy': 2368, 'robbins': 3712, 'cannibal': 669, 'causing': 726, 'banned': 395, 'forty': 1807, 'europe': 1529, 'ear': 1397, 'divorce': 1301, 'rival': 3706, 'obsession': 3070, 'directs': 1267, 'photos': 3261, 'restored': 3659, 'european': 1530, 'church': 813, 'usa': 4691, 'minimal': 2855, 'subtitles': 4259, 'flat': 1748, 'meeting': 2794, 'explained': 1587, 'aliens': 184, 'vampires': 4712, 'command': 897, 'fisher': 1739, 'cell': 730, 'cards': 683, 'possessed': 3347, 'indian': 2274, '1950s': 14, 'mom': 2885, 'dropped': 1370, 'featuring': 1681, 'psycho': 3457, 'dramas': 1347, 'racial': 3501, 'hatred': 2049, 'featured': 1679, 'safe': 3771, 'taylor': 4372, 'wayne': 4821, 'horrifying': 2167, 'charles': 764, 'indians': 2275, 'winter': 4900, 'forces': 1788, 'montana': 2895, 'lincoln': 2608, 'signed': 3971, 'carrey': 696, 'rubber': 3747, 'comedic': 888, 'stinks': 4192, 'gods': 1928, 'wanting': 4790, 'jennifer': 2392, 'gift': 1906, 'guts': 1999, 'religion': 3607, 'devoid': 1230, 'term': 4405, 'foster': 1809, 'mysterious': 2955, 'combination': 883, 'trailer': 4554, 'sounded': 4082, 'sneak': 4043, 'moral': 2902, 'wouldve': 4959, 'mentions': 2813, 'bigger': 479, 'raise': 3507, 'angels': 234, 'crash': 1033, 'essential': 1522, 'stupidity': 4248, 'protagonist': 3441, 'hence': 2083, 'titled': 4505, 'glenn': 1918, 'ford': 1789, 'bomb': 531, 'loaded': 2632, 'twelve': 4611, '50s': 52, 'anne': 246, 'victor': 4731, 'adapted': 114, 'audio': 354, 'shed': 3924, 'hills': 2109, 'spread': 4133, 'foreign': 1790, 'detailed': 1218, 'research': 3644, 'hitler': 2124, 'further': 1853, 'menace': 2806, 'selfish': 3870, 'hadnt': 2004, 'nazis': 2978, 'britain': 588, 'france': 1816, 'gas': 1874, 'stale': 4141, 'pat': 3208, 'grab': 1949, 'facing': 1620, 'notes': 3046, 'empire': 1464, 'von': 4765, 'april': 284, 'nazi': 2977, 'de': 1131, 'underground': 4640, 'leader': 2546, 'wishes': 4906, 'greater': 1965, 'fighter': 1708, 'cases': 708, 'mans': 2730, 'sounding': 4083, 'streets': 4217, 'march': 2734, 'psychotic': 3459, 'descent': 1193, 'guard': 1988, 'eerie': 1427, 'unaware': 4632, 'alive': 186, 'area': 286, 'teach': 4374, 'loose': 2650, '12': 3, 'countries': 1013, 'shall': 3916, 'society': 4050, 'window': 4894, 'signs': 3973, 'lessons': 2578, 'ashamed': 312, 'dances': 1106, 'warm': 4794, 'worthwhile': 4955, 'frightening': 1839, 'opening': 3114, 'doors': 1329, 'confused': 941, 'stretched': 4222, 'manipulative': 2727, 'nonsense': 3030, '1st': 28, 'sidney': 3968, 'rise': 3702, 'throws': 4482, 'winning': 4898, 'afford': 138, 'oscars': 3134, 'lucas': 2680, 'engaging': 1481, 'cares': 690, 'holmes': 2139, 'aids': 161, 'intriguing': 2335, 'vicious': 4728, 'los': 2653, 'factor': 1622, 'zone': 4999, 'serving': 3897, 'inept': 2281, 'rocks': 3722, 'spielberg': 4110, 'teeth': 4393, 'scenery': 3810, 'dying': 1393, 'accidentally': 85, 'portion': 3338, 'miserable': 2863, 'carol': 693, 'soviet': 4089, 'saved': 3795, 'homeless': 2143, 'drinking': 1362, 'condition': 937, 'rolled': 3729, 'justify': 2439, 'kay': 2447, 'alongside': 196, 'angle': 236, 'bollywood': 530, 'bridge': 578, 'river': 3707, 'treated': 4573, 'championship': 745, 'boxing': 556, 'contest': 967, 'ring': 3698, 'event': 1535, 'matches': 2764, 'practically': 3362, 'lose': 2654, 'gain': 1863, 'overdone': 3152, 'riveting': 3708, 'tales': 4357, 'instant': 2305, 'witches': 4910, 'majority': 2712, 'michelle': 2830, 'charlie': 765, 'niro': 3019, 'perfection': 3225, 'london': 2641, 'royal': 3746, 'forms': 1801, 'stanley': 4148, 'uk': 4626, 'recognized': 3570, 'ought': 3138, 'suggest': 4280, 'slowly': 4032, 'hearing': 2063, 'vice': 4727, 'deeper': 1155, 'felix': 1689, 'cruel': 1070, 'antics': 255, 'stereotypes': 4179, 'learn': 2550, 'talks': 4361, 'lesson': 2577, 'paranoia': 3186, 'included': 2262, 'polanski': 3321, 'guide': 1993, 'thrown': 4481, 'lynch': 2691, 'relief': 3605, 'succeed': 4262, 'loves': 2674, 'delivery': 1173, 'ensemble': 1492, 'develops': 1226, 'prequel': 3372, 'body': 527, 'beach': 419, 'twin': 4615, 'destruction': 1216, 'misery': 2865, 'yesterday': 4983, 'gorgeous': 1942, 'remarks': 3615, 'uninspired': 4657, 'warrior': 4802, 'ted': 4386, 'tag': 4348, 'hitting': 2126, 'manager': 2724, 'throat': 4476, 'cost': 1003, 'maker': 2714, 'hart': 2041, 'jumped': 2430, 'president': 3378, 'destroying': 1215, 'smoking': 4040, 'board': 522, 'drop': 1369, 'attacked': 338, 'bothered': 549, 'waitress': 4773, 'breaks': 571, 'maggie': 2702, 'calling': 653, 'plus': 3311, 'prostitute': 3440, 'drink': 1361, 'places': 3284, 'harder': 2035, 'translation': 4562, 'bible': 477, 'burt': 629, 'reynolds': 3684, 'careers': 687, 'beatty': 427, 'failure': 1629, 'sunshine': 4294, 'peters': 3248, 'stays': 4169, 'broadway': 592, 'brooks': 596, 'clothes': 860, 'der': 1191, 'educational': 1425, '1933': 12, 'eight': 1436, 'quit': 3494, 'league': 2549, 'anymore': 258, 'wanna': 4786, 'toilet': 4512, 'industry': 2280, 'allowed': 190, '2002': 32, 'influenced': 2287, 'alcohol': 176, 'fashioned': 1660, 'undoubtedly': 4648, 'mighty': 2836, 'greek': 1970, 'marry': 2745, 'rage': 3505, 'hill': 2108, 'protect': 3443, 'irony': 2357, 'horribly': 2164, 'montage': 2894, 'horse': 2170, 'revealing': 3672, 'tap': 4364, 'technically': 4382, 'buddies': 608, 'finger': 1731, 'paint': 3173, 'historical': 2119, 'minimum': 2856, 'drives': 1367, 'becoming': 435, 'cinematographer': 819, 'duo': 1386, 'stick': 4185, 'packed': 3166, 'books': 536, 'creature': 1045, 'focusing': 1769, 'attraction': 350, 'designs': 1204, 'games': 1865, 'metal': 2823, 'rocket': 3721, 'recognize': 3569, 'iron': 2354, 'kicking': 2462, 'dry': 1377, 'unoriginal': 4673, 'bullets': 621, 'government': 1948, 'holding': 2130, 'explicit': 1591, 'center': 732, 'embarrassing': 1454, 'enterprise': 1495, 'orders': 3127, 'ritter': 3705, 'dorothy': 1330, 'favorites': 1672, 'saturday': 3792, 'spanish': 4092, 'dear': 1140, 'gross': 1978, 'lawyer': 2541, 'bone': 533, 'losing': 2658, 'screenwriter': 3833, 'urban': 4688, 'legend': 2564, 'coherent': 871, 'pet': 3246, 'murderous': 2942, 'redemption': 3578, 'flow': 1762, 'swedish': 4335, 'saves': 3796, 'neighborhood': 2993, 'selling': 3873, 'kim': 2475, 'determined': 1221, 'ken': 2453, 'giallo': 1904, 'million': 2847, 'dollars': 1315, 'staged': 4140, 'emphasis': 1463, 'reminiscent': 3621, 'bird': 484, 'door': 1328, 'knife': 2487, 'plane': 3288, 'extras': 1608, 'stellar': 4174, 'circle': 821, 'chances': 748, 'qualities': 3483, 'theatrical': 4430, 'opened': 3113, 'village': 4743, 'legendary': 2565, 'howard': 2182, 'lemmon': 2567, 'composed': 926, 'photographed': 3258, 'realism': 3549, 'allows': 192, 'authority': 360, 'loads': 2633, 'flies': 1756, 'cheated': 775, 'sun': 4292, 'simon': 3982, 'nyc': 3065, 'celebrity': 729, 'anderson': 227, 'puts': 3481, 'agent': 150, 'hated': 2047, 'wreck': 4965, 'souls': 4080, 'guilty': 1995, 'improve': 2254, 'hollow': 2135, 'robin': 3715, 'homer': 2144, '40s': 49, 'shoes': 3941, 'aimed': 162, 'attracted': 349, 'partly': 3197, 'dozens': 1339, 'cuts': 1091, 'floor': 1759, 'highlight': 2103, 'creep': 1051, 'step': 4175, 'screams': 3828, 'li': 2587, 'bore': 540, 'amongst': 218, 'focuses': 1768, 'report': 3635, 'pie': 3271, 'arthur': 305, 'desert': 1198, 'equivalent': 1512, 'racist': 3503, 'theyve': 4446, 'theyll': 4444, 'joan': 2404, 'barry': 401, 'traveling': 4568, 'exotic': 1574, 'betty': 474, 'alfred': 181, 'hitchcock': 2123, 'elsewhere': 1449, 'illogical': 2231, 'teaching': 4377, 'morality': 2903, 'stealing': 4171, 'chan': 746, 'planning': 3291, 'reveals': 3673, 'forbidden': 1785, 'repeat': 3630, 'glorious': 1921, 'entertain': 1497, 'chest': 784, 'newly': 3004, 'troubled': 4593, 'display': 1291, 'neck': 2985, 'truck': 4595, 'committed': 905, 'desire': 1205, 'join': 2412, 'builds': 617, 'crimes': 1056, 'occurs': 3078, 'caring': 691, 'murderer': 2941, 'lloyd': 2630, 'walls': 4783, 'widely': 4881, 'offering': 3089, 'philosophy': 3254, 'fare': 1655, 'monk': 2889, 'demons': 1178, 'ease': 1404, 'sink': 3999, 'dirty': 1268, 'cold': 872, 'fits': 1741, 'unfortunate': 4653, 'distracting': 1297, 'neil': 2995, 'matthau': 2771, 'burns': 628, 'responsibility': 3655, 'nicholson': 3011, 'writes': 4970, 'nonetheless': 3029, 'sentimental': 3882, 'wallace': 4782, 'soft': 4051, 'notably': 3042, 'jackie': 2374, 'enjoys': 1489, 'suits': 4287, 'yelling': 4980, 'album': 175, 'slight': 4027, 'trail': 4553, 'share': 3920, 'adam': 111, 'sandler': 3781, 'shake': 3914, 'movements': 2924, 'captivating': 675, 'flawed': 1750, 'criticism': 1063, 'summary': 4290, 'occasional': 3074, 'citizen': 824, 'kane': 2442, 'subtlety': 4261, 'dalton': 1098, 'rochester': 3719, 'engaged': 1480, 'sympathy': 4343, 'grave': 1962, 'passionate': 3206, 'cruise': 1071, 'risk': 3704, 'according': 88, '2004': 34, 'compare': 911, 'le': 2544, 'progress': 3425, 'thru': 4483, 'couples': 1017, 'parallel': 3185, 'dialogs': 1233, 'situations': 4009, 'futuristic': 1857, 'split': 4120, 'racism': 3502, 'gangsters': 1869, 'dude': 1381, 'sudden': 4272, 'quick': 3490, 'bang': 393, 'revolves': 3682, 'angeles': 233, 'orange': 3125, 'comics': 895, 'bands': 392, 'models': 2881, 'description': 1197, 'punk': 3468, 'anger': 235, 'surfing': 4311, 'sports': 4130, 'sport': 4129, 'dawn': 1127, 'prevent': 3385, 'magazine': 2701, 'generation': 1883, '40': 48, 'boredom': 542, 'levels': 2585, 'intrigue': 2333, 'scared': 3805, 'ann': 244, 'attorney': 348, 'defense': 1159, 'eddie': 1416, 'moore': 2901, 'tune': 4602, 'susan': 4326, 'todd': 4510, 'raising': 3509, 'civil': 826, 'albeit': 173, 'praise': 3364, 'ward': 4793, 'chief': 788, 'donald': 1321, 'scientist': 3818, 'build': 614, 'downhill': 1336, 'jake': 2377, 'glad': 1916, 'travel': 4567, 'spiritual': 4116, 'alex': 179, 'franchise': 1817, 'costume': 1005, 'jeremy': 2394, '2003': 33, 'fest': 1696, 'demented': 1176, 'homosexual': 2145, 'loser': 2655, 'opposed': 3122, 'buffs': 612, 'zero': 4996, 'guest': 1992, 'genres': 1889, 'eric': 1514, 'orson': 3132, 'welles': 4844, 'cameron': 661, 'embarrassment': 1455, 'mansion': 2731, 'muslim': 2949, 'teenager': 4390, 'shy': 3962, 'conversation': 980, 'blue': 518, 'unseen': 4678, 'debut': 1143, 'someones': 4065, 'eastern': 1408, 'wendy': 4846, 'frustrated': 1842, 'mentioning': 2812, 'rose': 3739, 'versions': 4721, 'heroic': 2090, 'details': 1219, 'understandable': 4644, 'priceless': 3390, 'accurate': 90, 'resort': 3650, 'stereotype': 4178, 'farm': 1656, 'hudson': 2184, 'brazil': 568, 'creator': 1043, 'daring': 1114, 'suspenseful': 4331, 'handled': 2019, 'reveal': 3670, 'loosely': 2651, 'nicholas': 3010, 'fond': 1776, 'witnesses': 4916, 'kitchen': 2485, 'rat': 3525, 'trust': 4598, 'scientists': 3819, 'lab': 2501, 'elizabeth': 1445, 'mall': 2720, 'nasty': 2968, 'masterpieces': 2760, 'blond': 510, 'twins': 4616, 'terry': 4415, 'woods': 4935, 'screaming': 3827, 'designed': 1203, 'everybody': 1540, 'necessarily': 2983, 'beliefs': 452, 'shape': 3919, 'stiller': 4189, 'rachel': 3500, 'pro': 3406, 'walken': 4777, 'stinker': 4191, 'multi': 2935, 'farce': 1654, 'nostalgic': 3039, 'simplicity': 3984, 'characterization': 759, 'sid': 3964, 'revelation': 3674, 'pair': 3176, 'secretary': 3850, 'hugh': 2186, 'pretending': 3382, 'beats': 426, 'husbands': 2205, 'liners': 2611, 'oil': 3097, 'precious': 3366, 'creates': 1038, 'artificial': 306, 'wealth': 4826, 'wilson': 4891, 'eager': 1396, '70': 55, 'companion': 909, 'anybody': 257, 'comedian': 887, 'thomas': 4458, 'sutherland': 4333, 'brando': 566, 'golden': 1934, 'imagined': 2239, 'theyd': 4443, 'ironically': 2356, '1996': 26, 'useless': 4695, 'brave': 567, 'kingdom': 2480, 'mars': 2746, 'suspend': 4329, 'disbelief': 1277, 'kung': 2498, 'fu': 1844, 'abandoned': 62, 'basketball': 409, 'masters': 2761, 'shadow': 3912, 'ignore': 2224, 'controversial': 978, 'confidence': 938, 'june': 2433, 'fbi': 1675, 'service': 3896, 'describes': 1196, 'developing': 1224, 'process': 3412, '25': 40, 'stops': 4203, 'kidnapped': 2466, 'passing': 3204, 'babe': 375, 'training': 4558, 'kissing': 2484, 'ego': 1435, 'benefit': 465, 'wed': 4835, 'bergman': 466, 'familys': 1646, 'fortune': 1806, 'enters': 1496, 'rid': 3690, 'suffice': 4279, 'intention': 2319, 'spirit': 4113, 'psychiatrist': 3455, 'fault': 1668, 'nelson': 2997, 'liking': 2604, 'suffering': 4277, 'speech': 4102, 'sally': 3776, 'dress': 1357, 'wore': 4939, 'explaining': 1588, 'spy': 4135, 'understated': 4646, 'suited': 4286, 'plague': 3285, 'considerable': 950, 'sullivan': 4288, 'intensity': 2317, 'resembles': 3646, 'crack': 1027, 'physical': 3262, 'heights': 2073, 'wood': 4933, 'decades': 1145, 'disappeared': 1271, 'winters': 4901, 'poster': 3353, 'firstly': 1737, 'tracks': 4545, 'currently': 1085, 'status': 4165, 'numbers': 3061, 'cd': 728, 'southern': 4088, 'awkward': 374, 'gold': 1932, 'temple': 4398, 'widow': 4883, 'per': 3223, 'mrs': 2930, 'poem': 3312, 'typically': 4624, 'spin': 4112, 'rangers': 3517, 'superbly': 4297, 'consistent': 953, 'warmth': 4796, 'portray': 3340, 'georges': 1894, 'mundane': 2938, 'piano': 3264, 'afterwards': 145, 'stronger': 4230, 'aforementioned': 139, 'exploration': 1593, 'wells': 4845, 'explosions': 1597, 'doll': 1313, 'willis': 4890, 'chair': 742, 'seagal': 3839, 'silver': 3977, 'strike': 4224, 'disappear': 1270, 'presumably': 3380, 'creativity': 1042, 'everyones': 1543, 'green': 1971, 'anime': 243, 'chaos': 755, 'dub': 1378, 'kiss': 2483, 'skin': 4015, 'gray': 1963, 'concerns': 934, 'generations': 1884, 'survivors': 4325, 'concern': 931, 'tons': 4520, 'locations': 2636, 'proceeds': 3411, 'hook': 2152, 'overcome': 3151, 'interaction': 2322, 'versus': 4722, 'drivel': 1364, 'colors': 879, 'rubbish': 3748, 'roy': 3745, 'classics': 837, 'clint': 850, 'forgot': 1796, 'prior': 3400, 'mario': 2738, 'tender': 4401, 'attempting': 342, 'mouth': 2920, 'bank': 394, 'failing': 1627, 'guarantee': 1987, 'tense': 4403, 'robot': 3717, 'blake': 498, 'lively': 2627, 'impress': 2250, 'popcorn': 3331, 'swimming': 4338, 'existed': 1570, 'destiny': 1212, 'mate': 2765, 'suspicious': 4332, 'urge': 4689, 'cinemas': 817, 'performing': 3233, '3d': 46, 'universal': 4665, 'andy': 230, 'khan': 2459, 'ethan': 1528, 'uneven': 4649, 'neighbors': 2994, 'reads': 3545, 'tiresome': 4502, 'neo': 2998, 'jealous': 2388, 'drunken': 1376, 'round': 3742, 'emotionally': 1460, 'unforgettable': 4652, 'goldberg': 1933, 'icon': 2211, 'mouse': 2919, 'proof': 3434, 'nowadays': 3055, 'represent': 3637, 'resemblance': 3645, 'civilization': 827, 'hundreds': 2196, 'established': 1524, 'chased': 770, 'handful': 2017, 'theory': 4437, 'page': 3167, 'turner': 4607, 'hoped': 2156, 'succeeded': 4263, 'ultra': 4629, 'catchy': 717, 'official': 3094, 'stanwyck': 4149, 'exceptional': 1558, 'shakespeare': 3915, 'francis': 1818, 'kelly': 2452, 'grinch': 1975, 'myers': 2952, 'inappropriate': 2259, 'recognition': 3568, 'godfather': 1927, 'kicked': 2461, 'unit': 4663, 'dozen': 1338, 'safety': 3772, 'nearby': 2980, 'surviving': 4323, 'massacre': 2754, 'sentence': 3881, 'alert': 178, 'conspiracy': 956, 'burned': 626, 'claimed': 829, 'states': 4163, 'glass': 1917, 'viewings': 4741, 'awe': 370, 'bargain': 400, 'whilst': 4869, 'unintentionally': 4659, 'enemy': 1477, 'existent': 1572, 'machines': 2694, 'construction': 960, 'dolls': 1316, 'seed': 3856, 'flashback': 1746, '2001': 31, 'resident': 3647, 'spending': 4106, 'graphics': 1959, 'photo': 3257, 'landscapes': 2514, 'craft': 1028, 'jumping': 2431, 'survived': 4322, 'unhappy': 4656, 'bob': 524, 'waters': 4817, 'pink': 3277, 'washington': 4806, 'handle': 2018, 'simplistic': 3985, 'previously': 3388, 'laurel': 2537, 'hardy': 2037, 'stan': 4142, 'renting': 3629, 'eccentric': 1414, 'desperation': 1210, 'cameras': 660, 'andrews': 229, 'similarly': 3980, 'moody': 2899, 'spends': 4107, 'rebel': 3561, 'pit': 3278, 'rescue': 3643, 'showdown': 3955, 'mexican': 2826, 'fed': 1682, 'mexico': 2827, 'pleased': 3305, 'musicals': 2948, 'september': 3884, 'laid': 2508, 'highest': 2102, 'choreography': 802, 'artist': 307, 'empathy': 1462, 'ranks': 3519, 'suck': 4269, 'ironic': 2355, 'omen': 3104, 'lisa': 2616, 'canadian': 667, 'blair': 497, 'prefer': 3368, 'rabbit': 3498, 'sophisticated': 4075, 'hype': 2207, 'agreed': 156, 'revolutionary': 3681, 'combat': 882, 'travesty': 4570, '1973': 19, 'dinner': 1254, 'arrived': 301, 'mile': 2842, 'suitable': 4285, 'reduced': 3579, 'liberal': 2588, 'nations': 2971, 'roberts': 3714, 'pants': 3182, 'blob': 507, 'distinct': 1296, 'horrific': 2166, 'cabin': 643, 'trapped': 4564, 'blowing': 515, 'bullet': 620, 'connected': 945, 'wounded': 4961, 'operation': 3117, 'meat': 2787, 'tongue': 4518, 'cheek': 779, 'highlights': 2104, 'photographer': 3259, 'depicting': 1184, 'douglas': 1334, 'advertising': 132, 'timing': 4498, 'polished': 3323, 'evident': 1547, 'lion': 2614, 'colour': 880, 'locked': 2637, 'careful': 688, 'seven': 3903, 'elaborate': 1439, 'downright': 1337, 'psychological': 3458, 'lowest': 2678, 'forth': 1804, 'amy': 222, 'speed': 4103, 'mixture': 2878, 'trio': 4587, 'thugs': 4484, 'driver': 1366, 'react': 3540, 'reactions': 3542, 'buildings': 616, 'mistress': 2874, 'inevitably': 2283, 'vision': 4754, 'cook': 988, 'spain': 4091, 'ridiculously': 3694, 'spoiled': 4122, 'ruined': 3751, 'moronic': 2907, 'largely': 2518, 'swear': 4334, 'guns': 1998, 'agents': 151, 'restaurant': 3658, 'bobby': 525, 'burning': 627, 'provoking': 3452, 'fix': 1744, 'fathers': 1667, 'clip': 851, 'catching': 716, 'bud': 607, 'wes': 4851, 'press': 3379, 'sword': 4340, 'carries': 699, 'trap': 4563, 'unreal': 4676, 'masterful': 2758, '1983': 22, 'horses': 2171, 'occur': 3076, 'ireland': 2352, 'persona': 3239, 'kenneth': 2455, 'branagh': 564, 'projects': 3428, 'exposure': 1599, 'greatly': 1967, 'escapes': 1519, 'smith': 4038, 'vague': 4705, 'experiments': 1584, 'lovable': 2668, 'forgive': 1795, 'advise': 134, 'ruthless': 3764, 'amitabh': 216, 'barbara': 397, 'robbery': 3711, 'idiotic': 2219, 'lies': 2591, 'titanic': 4503, 'semi': 3874, 'torn': 4528, 'walked': 4776, 'contrived': 976, 'online': 3109, 'transformation': 4560, 'alcoholic': 177, 'department': 1182, 'displays': 1293, 'helping': 2081, 'childrens': 793, 'wear': 4830, 'womens': 4924, 'misses': 2868, 'reached': 3537, 'jaw': 2384, 'namely': 2962, 'smiling': 4037, 'nuts': 3064, 'columbo': 881, 'map': 2733, 'enemies': 1476, 'pan': 3180, 'table': 4346, 'promises': 3432, 'lou': 2663, 'size': 4012, 'indie': 2276, 'conservative': 948, 'strip': 4228, 'pot': 3354, 'rental': 3627, 'dragon': 1344, 'nights': 3016, 'centered': 733, 'linda': 2609, 'opinions': 3119, 'rocky': 3723, 'uninteresting': 4660, 'elegant': 1441, 'novels': 3053, 'awfully': 373, 'pitt': 3280, 'karloff': 2445, 'frankenstein': 1822, 'dracula': 1341, 'furthermore': 1854, 'fallen': 1638, 'sue': 4274, 'rob': 3710, 'gory': 1943, 'mel': 2796, 'enthusiasm': 1501, 'noticed': 3049, 'roger': 3724, 'evidence': 1546, 'arnold': 296, 'gradually': 1952, 'dave': 1123, 'pushing': 3479, 'logical': 2639, 'countless': 1012, 'wake': 4774, 'beer': 439, 'purposes': 3475, 'dust': 1388, 'unbelievably': 4635, 'uwe': 4703, 'boll': 529, 'huh': 2187, 'unbearable': 4633, 'shower': 3957, 'broad': 590, 'fulci': 1845, 'wrap': 4963, 'recording': 3575, 'investigate': 2342, 'incident': 2260, 'surrounded': 4318, 'communist': 907, 'max': 2774, 'annie': 247, 'chapter': 757, 'stunts': 4246, 'sake': 3775, 'endings': 1472, 'kudos': 2497, 'workers': 4943, 'twilight': 4614, 'painting': 3175, 'kinda': 2477, 'jenny': 2393, 'outfit': 3144, 'adorable': 124, 'rooms': 3736, 'capturing': 679, 'survivor': 4324, 'intrigued': 2334, 'alexander': 180, 'chilling': 794, 'hide': 2097, 'unintentional': 4658, 'journalist': 2420, 'travels': 4569, 'comparing': 913, 'carefully': 689, 'invasion': 2340, 'berlin': 467, 'surrounding': 4319, 'significant': 3972, 'murphy': 2944, 'catherine': 719, 'transition': 4561, 'ramones': 3512, 'glory': 1922, 'instinct': 2308, 'shining': 3933, 'warren': 4801, 'disagree': 1269, 'integrity': 2311, 'pays': 3218, 'striking': 4226, 'funeral': 1849, 'suggested': 4281, 'navy': 2976, 'chorus': 803, 'contrast': 975, 'multiple': 2936, 'universe': 4666, 'stiff': 4187, 'access': 83, 'wet': 4855, 'emma': 1457, 'backdrop': 379, 'displayed': 1292, 'treats': 4575, 'cities': 823, 'artists': 309, 'warn': 4797, 'waves': 4819, 'brosnan': 597, 'dignity': 1252, 'dawson': 1128, 'joey': 2408, 'kirk': 2482, 'originality': 3130, 'household': 2179, 'weakest': 4825, 'gripping': 1976, 'spirited': 4114, 'everyday': 1541, 'introduces': 2338, 'absence': 70, 'spare': 4093, 'butler': 637, 'sisters': 4002, 'introduce': 2336, 'macy': 2695, 'lately': 2524, 'faster': 1662, 'paltrow': 3178, 'relevant': 3604, 'pamela': 3179, 'reed': 3580, 'ruby': 3749, 'threw': 4470, 'cheese': 780, 'horrid': 2165, 'capital': 673, 'financial': 1725, 'arrogant': 303, 'mtv': 2933, 'learns': 2553, 'werewolf': 4850, 'carrie': 697, 'encounters': 1467, 'neighbor': 2992, 'purchase': 3469, 'kicks': 2463, 'challenging': 744, 'sinatra': 3989, 'simmons': 3981, 'shirley': 3936, 'germans': 1897, 'gerard': 1895, 'relation': 3595, 'eating': 1413, 'grandfather': 1954, 'feminist': 1695, 'equipment': 1511, 'millions': 2848, 'secretly': 3851, 'analysis': 224, 'scenario': 3808, 'promised': 3431, 'tooth': 4524, 'basement': 405, 'taxi': 4371, 'eastwood': 1409, 'glimpse': 1919, 'conceived': 929, 'earl': 1398, 'fetched': 1698, 'nose': 3037, 'che': 773, 'jumps': 2432, 'cuba': 1075, 'armed': 293, 'intimate': 2331, '80': 58, 'diane': 1238, 'hello': 2078, 'conflicts': 940, 'interpretation': 2328, 'statement': 4162, 'admire': 121, 'mob': 2879, 'boss': 546, 'staying': 4168, 'reel': 3581, 'bold': 528, 'notable': 3041, 'achieved': 93, 'brutally': 604, 'worthless': 4954, 'powell': 3358, 'players': 3299, 'genuine': 1891, 'dancer': 1104, 'shadows': 3913, 'eighties': 1437, 'bucks': 606, 'atmospheric': 334, 'genuinely': 1892, 'contrary': 974, 'horrendous': 2162, 'bedroom': 437, 'adequate': 120, 'struggling': 4236, 'reflection': 3585, 'lyrics': 2692, 'sloppy': 4030, 'minded': 2850, 'kapoor': 2443, 'perry': 3237, 'birthday': 487, 'stated': 4161, 'explored': 1595, 'mickey': 2831, 'judy': 2426, 'miller': 2846, 'madonna': 2699, 'sole': 4055, 'subsequent': 4257, 'hardcore': 2034, 'visible': 4753, 'fears': 1677, 'rambo': 3511, 'listed': 2618, 'ingredients': 2289, 'identify': 2216, 'poetry': 3314, 'symbolism': 4341, 'philosophical': 3253, 'sits': 4006, 'museum': 2945, 'countryside': 1015, 'chaplin': 756, 'americas': 215, 'olivier': 3103, 'trite': 4589, 'latin': 2527, 'cave': 727, 'crucial': 1068, 'robots': 3718, 'trek': 4578, 'denzel': 1181, 'desired': 1206, 'joined': 2413, 'bo': 521, 'dialogues': 1235, 'hung': 2197, 'entertained': 1498, 'hunters': 2200, 'nuclear': 3057, 'plant': 3293, 'education': 1424, 'dancers': 1105, 'dropping': 1371, 'belongs': 460, 'pitch': 3279, 'potentially': 3356, 'clothing': 861, 'craig': 1030, 'ensues': 1493, 'dinosaur': 1255, 'bettie': 473, 'campbell': 663, 'iraq': 2351, 'judging': 2425, 'feed': 1683, 'fatal': 1664, 'simpson': 3987, 'mere': 2814, 'danger': 1109, 'charismatic': 763, 'chicago': 785, 'parent': 3187, 'specifically': 4100, 'clumsy': 866, 'incoherent': 2265, 'critic': 1061, 'boot': 538, 'overrated': 3156, 'holly': 2136, 'leslie': 2574, 'gabriel': 1859, 'spider': 4109, 'primarily': 3393, 'troubles': 4594, 'awake': 365, 'superman': 4301, 'snow': 4045, 'comfortable': 892, 'contained': 963, 'lacked': 2503, 'confusion': 943, 'korean': 2495, 'blues': 519, 'chess': 783, 'lumet': 2688, 'godzilla': 1929, 'em': 1452, 'bull': 619, 'backgrounds': 381, 'craven': 1034, 'useful': 4694, 'motivation': 2914, 'jail': 2376, 'witnessed': 4915, 'climactic': 848, 'sandra': 3782, 'marketing': 2741, 'drew': 1360, 'corporate': 998, 'singers': 3994, 'matched': 2763, 'batman': 413, 'cameos': 658, 'scripted': 3835, 'jamie': 2379, '45': 50, 'pretend': 3381, 'valley': 4707, 'chasing': 772, 'masses': 2755, 'troops': 4591, 'reasonably': 3559, 'bourne': 554, 'catches': 715, 'medical': 2790, 'unsettling': 4679, 'damon': 1101, 'cia': 814, 'dogs': 1311, 'delight': 1167, 'appreciation': 281, 'thrilling': 4474, 'iii': 2227, 'bag': 384, 'seventies': 3904, 'hang': 2022, 'testament': 4417, 'tad': 4347, 'et': 1526, 'rotten': 3740, 'shelley': 3928, 'sincere': 3991, 'jazz': 2387, 'grows': 1985, 'coach': 868, 'snake': 4042, 'gandhi': 1866, 'molly': 2884, 'norman': 3035, 'prisoner': 3402, 'shark': 3921, 'assistant': 326, 'experiment': 1583, 'explore': 1594, 'curtis': 1087, 'iran': 2350, 'jet': 2400, 'tiger': 4491, 'monkeys': 2891, 'sidekick': 3966, 'assigned': 325, 'rank': 3518, 'scores': 3823, 'blatant': 502, 'trashy': 4566, 'ridden': 3691, 'morris': 2908, 'helen': 2075, 'devoted': 1231, 'miracle': 2860, 'poetic': 3313, 'eyre': 1614, 'bakshi': 386, 'punishment': 3467, 'wives': 4918, 'smoke': 4039, 'airplane': 166, 'holy': 2140, 'crush': 1072, 'doubts': 1333, 'panic': 3181, 'landing': 2512, 'abc': 63, 'pride': 3391, 'stood': 4199, 'sticks': 4186, 'jungle': 2434, 'relative': 3599, 'errors': 1516, 'imitation': 2241, 'respected': 3653, 'performs': 3234, 'ham': 2011, 'deceased': 1146, 'diamond': 1236, 'remote': 3622, 'assault': 324, 'behave': 445, 'web': 4833, 'porno': 3337, 'storm': 4206, '1972': 18, 'rendition': 3625, 'concert': 935, 'edgar': 1417, 'carradine': 695, 'species': 4098, 'realise': 3548, 'lena': 2568, 'dvds': 1392, 'wisdom': 4902, 'merits': 2817, 'donna': 1323, '2007': 37, 'garbo': 1871, 'modesty': 2883, 'wholly': 4874, 'stilted': 4190, 'greed': 1968, 'elvira': 1450, 'rural': 3758, 'vast': 4716, 'dinosaurs': 1256, 'eaten': 1412, 'switch': 4339, 'threat': 4467, 'jesse': 2397, 'boom': 537, 'satan': 3787, 'hyde': 2206, 'distribution': 1298, 'mildred': 2841, 'hollywoods': 2138, 'valuable': 4708, 'elvis': 1451, 'mitchell': 2875, 'virus': 4752, 'hilariously': 2107, 'elephant': 1444, 'kennedy': 2454, 'ralph': 3510, 'advanced': 128, 'calm': 655, 'rats': 3531, 'soccer': 4048, 'davies': 1125, 'popularity': 3334, 'cliche': 843, 'ballet': 389, 'mann': 2728, 'carpenter': 694, 'melting': 2799, 'duty': 1390, 'prisoners': 3403, 'possibility': 3349, 'ellen': 1446, 'derek': 1192, 'businessman': 634, 'scrooge': 3837, 'phantom': 3251, 'widmark': 4882, 'spoke': 4125, 'crocodile': 1065, 'sixties': 4011, 'flynn': 1765, 'astaire': 330, 'ginger': 1908, 'prom': 3429, 'females': 1694, 'fury': 1855, 'cardboard': 682, 'pursuit': 3476, 'scarecrow': 3804, 'trees': 4577, 'bacall': 377, 'edie': 1419, 'domino': 1319, 'pokemon': 3320, 'angela': 232}\n"
     ]
    }
   ],
   "source": [
    "print(str(vocabulary))"
   ]
  },
  {
   "cell_type": "markdown",
   "metadata": {},
   "source": [
    "Once you have added the endpoint name to the Lambda function, click on **Save**. Your Lambda function is now up and running. Next we need to create a way for our web app to execute the Lambda function."
   ]
  },
  {
   "cell_type": "markdown",
   "metadata": {},
   "source": [
    "### Setting up API Gateway\n",
    "\n",
    "Now that our Lambda function is set up, it is time to create a new API using API Gateway that will trigger the Lambda function we have just created.\n",
    "\n",
    "Using AWS Console, navigate to **Amazon API Gateway** and then click on **Get started**.\n",
    "\n",
    "On the next page, make sure that **New API** is selected and give the new api a name, for example, `sentiment_analysis_web_app`. Then, click on **Create API**.\n",
    "\n",
    "Now we have created an API, however it doesn't currently do anything. What we want it to do is to trigger the Lambda function that we created earlier.\n",
    "\n",
    "Select the **Actions** dropdown menu and click **Create Method**. A new blank method will be created, select its dropdown menu and select **POST**, then click on the check mark beside it.\n",
    "\n",
    "For the integration point, make sure that **Lambda Function** is selected and click on the **Use Lambda Proxy integration**. This option makes sure that the data that is sent to the API is then sent directly to the Lambda function with no processing. It also means that the return value must be a proper response object as it will also not be processed by API Gateway.\n",
    "\n",
    "Type the name of the Lambda function you created earlier into the **Lambda Function** text entry box and then click on **Save**. Click on **OK** in the pop-up box that then appears, giving permission to API Gateway to invoke the Lambda function you created.\n",
    "\n",
    "The last step in creating the API Gateway is to select the **Actions** dropdown and click on **Deploy API**. You will need to create a new Deployment stage and name it anything you like, for example `prod`.\n",
    "\n",
    "You have now successfully set up a public API to access your SageMaker model. Make sure to copy or write down the URL provided to invoke your newly created public API as this will be needed in the next step. This URL can be found at the top of the page, highlighted in blue next to the text **Invoke URL**."
   ]
  },
  {
   "cell_type": "markdown",
   "metadata": {},
   "source": [
    "## Step 7: Deploying our web app\n",
    "\n",
    "Now that we have a publicly available API, we can start using it in a web app. For our purposes, we have provided a simple static html file which can make use of the public api you created earlier.\n",
    "\n",
    "In the `website` folder there should be a file called `index.html`. Download the file to your computer and open that file up in a text editor of your choice. There should be a line which contains **\\*\\*REPLACE WITH PUBLIC API URL\\*\\***. Replace this string with the url that you wrote down in the last step and then save the file.\n",
    "\n",
    "Now, if you open `index.html` on your local computer, your browser will behave as a local web server and you can use the provided site to interact with your SageMaker model.\n",
    "\n",
    "If you'd like to go further, you can host this html file anywhere you'd like, for example using github or hosting a static site on Amazon's S3. Once you have done this you can share the link with anyone you'd like and have them play with it too!\n",
    "\n",
    "> **Important Note** In order for the web app to communicate with the SageMaker endpoint, the endpoint has to actually be deployed and running. This means that you are paying for it. Make sure that the endpoint is running when you want to use the web app but that you shut it down when you don't need it, otherwise you will end up with a surprisingly large AWS bill."
   ]
  },
  {
   "cell_type": "markdown",
   "metadata": {},
   "source": [
    "### Delete the endpoint\n",
    "\n",
    "Remember to always shut down your endpoint if you are no longer using it. You are charged for the length of time that the endpoint is running so if you forget and leave it on you could end up with an unexpectedly large bill."
   ]
  },
  {
   "cell_type": "code",
   "execution_count": 53,
   "metadata": {},
   "outputs": [
    {
     "ename": "ClientError",
     "evalue": "An error occurred (ValidationException) when calling the DeleteEndpointConfig operation: Could not find endpoint configuration \"arn:aws:sagemaker:us-east-1:034554972399:endpoint-config/xgboost-2019-08-08-01-38-29-538\".",
     "output_type": "error",
     "traceback": [
      "\u001b[0;31m---------------------------------------------------------------------------\u001b[0m",
      "\u001b[0;31mClientError\u001b[0m                               Traceback (most recent call last)",
      "\u001b[0;32m<ipython-input-53-16a6b43a8b29>\u001b[0m in \u001b[0;36m<module>\u001b[0;34m()\u001b[0m\n\u001b[0;32m----> 1\u001b[0;31m \u001b[0mxgb_predictor\u001b[0m\u001b[0;34m.\u001b[0m\u001b[0mdelete_endpoint\u001b[0m\u001b[0;34m(\u001b[0m\u001b[0;34m)\u001b[0m\u001b[0;34m\u001b[0m\u001b[0m\n\u001b[0m",
      "\u001b[0;32m~/anaconda3/envs/python3/lib/python3.6/site-packages/sagemaker/predictor.py\u001b[0m in \u001b[0;36mdelete_endpoint\u001b[0;34m(self, delete_endpoint_config)\u001b[0m\n\u001b[1;32m    132\u001b[0m         \"\"\"\n\u001b[1;32m    133\u001b[0m         \u001b[0;32mif\u001b[0m \u001b[0mdelete_endpoint_config\u001b[0m\u001b[0;34m:\u001b[0m\u001b[0;34m\u001b[0m\u001b[0m\n\u001b[0;32m--> 134\u001b[0;31m             \u001b[0mself\u001b[0m\u001b[0;34m.\u001b[0m\u001b[0m_delete_endpoint_config\u001b[0m\u001b[0;34m(\u001b[0m\u001b[0;34m)\u001b[0m\u001b[0;34m\u001b[0m\u001b[0m\n\u001b[0m\u001b[1;32m    135\u001b[0m \u001b[0;34m\u001b[0m\u001b[0m\n\u001b[1;32m    136\u001b[0m         \u001b[0mself\u001b[0m\u001b[0;34m.\u001b[0m\u001b[0msagemaker_session\u001b[0m\u001b[0;34m.\u001b[0m\u001b[0mdelete_endpoint\u001b[0m\u001b[0;34m(\u001b[0m\u001b[0mself\u001b[0m\u001b[0;34m.\u001b[0m\u001b[0mendpoint\u001b[0m\u001b[0;34m)\u001b[0m\u001b[0;34m\u001b[0m\u001b[0m\n",
      "\u001b[0;32m~/anaconda3/envs/python3/lib/python3.6/site-packages/sagemaker/predictor.py\u001b[0m in \u001b[0;36m_delete_endpoint_config\u001b[0;34m(self)\u001b[0m\n\u001b[1;32m    119\u001b[0m \u001b[0;34m\u001b[0m\u001b[0m\n\u001b[1;32m    120\u001b[0m         \"\"\"\n\u001b[0;32m--> 121\u001b[0;31m         \u001b[0mself\u001b[0m\u001b[0;34m.\u001b[0m\u001b[0msagemaker_session\u001b[0m\u001b[0;34m.\u001b[0m\u001b[0mdelete_endpoint_config\u001b[0m\u001b[0;34m(\u001b[0m\u001b[0mself\u001b[0m\u001b[0;34m.\u001b[0m\u001b[0m_endpoint_config_name\u001b[0m\u001b[0;34m)\u001b[0m\u001b[0;34m\u001b[0m\u001b[0m\n\u001b[0m\u001b[1;32m    122\u001b[0m \u001b[0;34m\u001b[0m\u001b[0m\n\u001b[1;32m    123\u001b[0m     \u001b[0;32mdef\u001b[0m \u001b[0mdelete_endpoint\u001b[0m\u001b[0;34m(\u001b[0m\u001b[0mself\u001b[0m\u001b[0;34m,\u001b[0m \u001b[0mdelete_endpoint_config\u001b[0m\u001b[0;34m=\u001b[0m\u001b[0;32mTrue\u001b[0m\u001b[0;34m)\u001b[0m\u001b[0;34m:\u001b[0m\u001b[0;34m\u001b[0m\u001b[0m\n",
      "\u001b[0;32m~/anaconda3/envs/python3/lib/python3.6/site-packages/sagemaker/session.py\u001b[0m in \u001b[0;36mdelete_endpoint_config\u001b[0;34m(self, endpoint_config_name)\u001b[0m\n\u001b[1;32m    925\u001b[0m         \"\"\"\n\u001b[1;32m    926\u001b[0m         \u001b[0mLOGGER\u001b[0m\u001b[0;34m.\u001b[0m\u001b[0minfo\u001b[0m\u001b[0;34m(\u001b[0m\u001b[0;34m\"Deleting endpoint configuration with name: %s\"\u001b[0m\u001b[0;34m,\u001b[0m \u001b[0mendpoint_config_name\u001b[0m\u001b[0;34m)\u001b[0m\u001b[0;34m\u001b[0m\u001b[0m\n\u001b[0;32m--> 927\u001b[0;31m         \u001b[0mself\u001b[0m\u001b[0;34m.\u001b[0m\u001b[0msagemaker_client\u001b[0m\u001b[0;34m.\u001b[0m\u001b[0mdelete_endpoint_config\u001b[0m\u001b[0;34m(\u001b[0m\u001b[0mEndpointConfigName\u001b[0m\u001b[0;34m=\u001b[0m\u001b[0mendpoint_config_name\u001b[0m\u001b[0;34m)\u001b[0m\u001b[0;34m\u001b[0m\u001b[0m\n\u001b[0m\u001b[1;32m    928\u001b[0m \u001b[0;34m\u001b[0m\u001b[0m\n\u001b[1;32m    929\u001b[0m     \u001b[0;32mdef\u001b[0m \u001b[0mdelete_model\u001b[0m\u001b[0;34m(\u001b[0m\u001b[0mself\u001b[0m\u001b[0;34m,\u001b[0m \u001b[0mmodel_name\u001b[0m\u001b[0;34m)\u001b[0m\u001b[0;34m:\u001b[0m\u001b[0;34m\u001b[0m\u001b[0m\n",
      "\u001b[0;32m~/anaconda3/envs/python3/lib/python3.6/site-packages/botocore/client.py\u001b[0m in \u001b[0;36m_api_call\u001b[0;34m(self, *args, **kwargs)\u001b[0m\n\u001b[1;32m    355\u001b[0m                     \"%s() only accepts keyword arguments.\" % py_operation_name)\n\u001b[1;32m    356\u001b[0m             \u001b[0;31m# The \"self\" in this scope is referring to the BaseClient.\u001b[0m\u001b[0;34m\u001b[0m\u001b[0;34m\u001b[0m\u001b[0m\n\u001b[0;32m--> 357\u001b[0;31m             \u001b[0;32mreturn\u001b[0m \u001b[0mself\u001b[0m\u001b[0;34m.\u001b[0m\u001b[0m_make_api_call\u001b[0m\u001b[0;34m(\u001b[0m\u001b[0moperation_name\u001b[0m\u001b[0;34m,\u001b[0m \u001b[0mkwargs\u001b[0m\u001b[0;34m)\u001b[0m\u001b[0;34m\u001b[0m\u001b[0m\n\u001b[0m\u001b[1;32m    358\u001b[0m \u001b[0;34m\u001b[0m\u001b[0m\n\u001b[1;32m    359\u001b[0m         \u001b[0m_api_call\u001b[0m\u001b[0;34m.\u001b[0m\u001b[0m__name__\u001b[0m \u001b[0;34m=\u001b[0m \u001b[0mstr\u001b[0m\u001b[0;34m(\u001b[0m\u001b[0mpy_operation_name\u001b[0m\u001b[0;34m)\u001b[0m\u001b[0;34m\u001b[0m\u001b[0m\n",
      "\u001b[0;32m~/anaconda3/envs/python3/lib/python3.6/site-packages/botocore/client.py\u001b[0m in \u001b[0;36m_make_api_call\u001b[0;34m(self, operation_name, api_params)\u001b[0m\n\u001b[1;32m    659\u001b[0m             \u001b[0merror_code\u001b[0m \u001b[0;34m=\u001b[0m \u001b[0mparsed_response\u001b[0m\u001b[0;34m.\u001b[0m\u001b[0mget\u001b[0m\u001b[0;34m(\u001b[0m\u001b[0;34m\"Error\"\u001b[0m\u001b[0;34m,\u001b[0m \u001b[0;34m{\u001b[0m\u001b[0;34m}\u001b[0m\u001b[0;34m)\u001b[0m\u001b[0;34m.\u001b[0m\u001b[0mget\u001b[0m\u001b[0;34m(\u001b[0m\u001b[0;34m\"Code\"\u001b[0m\u001b[0;34m)\u001b[0m\u001b[0;34m\u001b[0m\u001b[0m\n\u001b[1;32m    660\u001b[0m             \u001b[0merror_class\u001b[0m \u001b[0;34m=\u001b[0m \u001b[0mself\u001b[0m\u001b[0;34m.\u001b[0m\u001b[0mexceptions\u001b[0m\u001b[0;34m.\u001b[0m\u001b[0mfrom_code\u001b[0m\u001b[0;34m(\u001b[0m\u001b[0merror_code\u001b[0m\u001b[0;34m)\u001b[0m\u001b[0;34m\u001b[0m\u001b[0m\n\u001b[0;32m--> 661\u001b[0;31m             \u001b[0;32mraise\u001b[0m \u001b[0merror_class\u001b[0m\u001b[0;34m(\u001b[0m\u001b[0mparsed_response\u001b[0m\u001b[0;34m,\u001b[0m \u001b[0moperation_name\u001b[0m\u001b[0;34m)\u001b[0m\u001b[0;34m\u001b[0m\u001b[0m\n\u001b[0m\u001b[1;32m    662\u001b[0m         \u001b[0;32melse\u001b[0m\u001b[0;34m:\u001b[0m\u001b[0;34m\u001b[0m\u001b[0m\n\u001b[1;32m    663\u001b[0m             \u001b[0;32mreturn\u001b[0m \u001b[0mparsed_response\u001b[0m\u001b[0;34m\u001b[0m\u001b[0m\n",
      "\u001b[0;31mClientError\u001b[0m: An error occurred (ValidationException) when calling the DeleteEndpointConfig operation: Could not find endpoint configuration \"arn:aws:sagemaker:us-east-1:034554972399:endpoint-config/xgboost-2019-08-08-01-38-29-538\"."
     ]
    }
   ],
   "source": [
    "xgb_predictor.delete_endpoint()"
   ]
  },
  {
   "cell_type": "markdown",
   "metadata": {},
   "source": [
    "## Optional: Clean up\n",
    "\n",
    "The default notebook instance on SageMaker doesn't have a lot of excess disk space available. As you continue to complete and execute notebooks you will eventually fill up this disk space, leading to errors which can be difficult to diagnose. Once you are completely finished using a notebook it is a good idea to remove the files that you created along the way. Of course, you can do this from the terminal or from the notebook hub if you would like. The cell below contains some commands to clean up the created files from within the notebook."
   ]
  },
  {
   "cell_type": "code",
   "execution_count": 54,
   "metadata": {},
   "outputs": [
    {
     "ename": "OSError",
     "evalue": "[Errno 12] Cannot allocate memory",
     "output_type": "error",
     "traceback": [
      "\u001b[0;31m---------------------------------------------------------------------------\u001b[0m",
      "\u001b[0;31mOSError\u001b[0m                                   Traceback (most recent call last)",
      "\u001b[0;32m<ipython-input-54-2c87d8eefdf2>\u001b[0m in \u001b[0;36m<module>\u001b[0;34m()\u001b[0m\n\u001b[1;32m      1\u001b[0m \u001b[0;31m# First we will remove all of the files contained in the data_dir directory\u001b[0m\u001b[0;34m\u001b[0m\u001b[0;34m\u001b[0m\u001b[0m\n\u001b[0;32m----> 2\u001b[0;31m \u001b[0mget_ipython\u001b[0m\u001b[0;34m(\u001b[0m\u001b[0;34m)\u001b[0m\u001b[0;34m.\u001b[0m\u001b[0msystem\u001b[0m\u001b[0;34m(\u001b[0m\u001b[0;34m'rm $data_dir/*'\u001b[0m\u001b[0;34m)\u001b[0m\u001b[0;34m\u001b[0m\u001b[0m\n\u001b[0m\u001b[1;32m      3\u001b[0m \u001b[0;34m\u001b[0m\u001b[0m\n\u001b[1;32m      4\u001b[0m \u001b[0;31m# And then we delete the directory itself\u001b[0m\u001b[0;34m\u001b[0m\u001b[0;34m\u001b[0m\u001b[0m\n\u001b[1;32m      5\u001b[0m \u001b[0mget_ipython\u001b[0m\u001b[0;34m(\u001b[0m\u001b[0;34m)\u001b[0m\u001b[0;34m.\u001b[0m\u001b[0msystem\u001b[0m\u001b[0;34m(\u001b[0m\u001b[0;34m'rmdir $data_dir'\u001b[0m\u001b[0;34m)\u001b[0m\u001b[0;34m\u001b[0m\u001b[0m\n",
      "\u001b[0;32m~/anaconda3/envs/python3/lib/python3.6/site-packages/IPython/core/interactiveshell.py\u001b[0m in \u001b[0;36msystem_piped\u001b[0;34m(self, cmd)\u001b[0m\n\u001b[1;32m   2259\u001b[0m         \u001b[0;31m# a non-None value would trigger :func:`sys.displayhook` calls.\u001b[0m\u001b[0;34m\u001b[0m\u001b[0;34m\u001b[0m\u001b[0m\n\u001b[1;32m   2260\u001b[0m         \u001b[0;31m# Instead, we store the exit_code in user_ns.\u001b[0m\u001b[0;34m\u001b[0m\u001b[0;34m\u001b[0m\u001b[0m\n\u001b[0;32m-> 2261\u001b[0;31m         \u001b[0mself\u001b[0m\u001b[0;34m.\u001b[0m\u001b[0muser_ns\u001b[0m\u001b[0;34m[\u001b[0m\u001b[0;34m'_exit_code'\u001b[0m\u001b[0;34m]\u001b[0m \u001b[0;34m=\u001b[0m \u001b[0msystem\u001b[0m\u001b[0;34m(\u001b[0m\u001b[0mself\u001b[0m\u001b[0;34m.\u001b[0m\u001b[0mvar_expand\u001b[0m\u001b[0;34m(\u001b[0m\u001b[0mcmd\u001b[0m\u001b[0;34m,\u001b[0m \u001b[0mdepth\u001b[0m\u001b[0;34m=\u001b[0m\u001b[0;36m1\u001b[0m\u001b[0;34m)\u001b[0m\u001b[0;34m)\u001b[0m\u001b[0;34m\u001b[0m\u001b[0m\n\u001b[0m\u001b[1;32m   2262\u001b[0m \u001b[0;34m\u001b[0m\u001b[0m\n\u001b[1;32m   2263\u001b[0m     \u001b[0;32mdef\u001b[0m \u001b[0msystem_raw\u001b[0m\u001b[0;34m(\u001b[0m\u001b[0mself\u001b[0m\u001b[0;34m,\u001b[0m \u001b[0mcmd\u001b[0m\u001b[0;34m)\u001b[0m\u001b[0;34m:\u001b[0m\u001b[0;34m\u001b[0m\u001b[0m\n",
      "\u001b[0;32m~/anaconda3/envs/python3/lib/python3.6/site-packages/IPython/utils/_process_posix.py\u001b[0m in \u001b[0;36msystem\u001b[0;34m(self, cmd)\u001b[0m\n\u001b[1;32m    154\u001b[0m                 \u001b[0mchild\u001b[0m \u001b[0;34m=\u001b[0m \u001b[0mpexpect\u001b[0m\u001b[0;34m.\u001b[0m\u001b[0mspawnb\u001b[0m\u001b[0;34m(\u001b[0m\u001b[0mself\u001b[0m\u001b[0;34m.\u001b[0m\u001b[0msh\u001b[0m\u001b[0;34m,\u001b[0m \u001b[0margs\u001b[0m\u001b[0;34m=\u001b[0m\u001b[0;34m[\u001b[0m\u001b[0;34m'-c'\u001b[0m\u001b[0;34m,\u001b[0m \u001b[0mcmd\u001b[0m\u001b[0;34m]\u001b[0m\u001b[0;34m)\u001b[0m \u001b[0;31m# Pexpect-U\u001b[0m\u001b[0;34m\u001b[0m\u001b[0m\n\u001b[1;32m    155\u001b[0m             \u001b[0;32melse\u001b[0m\u001b[0;34m:\u001b[0m\u001b[0;34m\u001b[0m\u001b[0m\n\u001b[0;32m--> 156\u001b[0;31m                 \u001b[0mchild\u001b[0m \u001b[0;34m=\u001b[0m \u001b[0mpexpect\u001b[0m\u001b[0;34m.\u001b[0m\u001b[0mspawn\u001b[0m\u001b[0;34m(\u001b[0m\u001b[0mself\u001b[0m\u001b[0;34m.\u001b[0m\u001b[0msh\u001b[0m\u001b[0;34m,\u001b[0m \u001b[0margs\u001b[0m\u001b[0;34m=\u001b[0m\u001b[0;34m[\u001b[0m\u001b[0;34m'-c'\u001b[0m\u001b[0;34m,\u001b[0m \u001b[0mcmd\u001b[0m\u001b[0;34m]\u001b[0m\u001b[0;34m)\u001b[0m  \u001b[0;31m# Vanilla Pexpect\u001b[0m\u001b[0;34m\u001b[0m\u001b[0m\n\u001b[0m\u001b[1;32m    157\u001b[0m             \u001b[0mflush\u001b[0m \u001b[0;34m=\u001b[0m \u001b[0msys\u001b[0m\u001b[0;34m.\u001b[0m\u001b[0mstdout\u001b[0m\u001b[0;34m.\u001b[0m\u001b[0mflush\u001b[0m\u001b[0;34m\u001b[0m\u001b[0m\n\u001b[1;32m    158\u001b[0m             \u001b[0;32mwhile\u001b[0m \u001b[0;32mTrue\u001b[0m\u001b[0;34m:\u001b[0m\u001b[0;34m\u001b[0m\u001b[0m\n",
      "\u001b[0;32m~/anaconda3/envs/python3/lib/python3.6/site-packages/pexpect/pty_spawn.py\u001b[0m in \u001b[0;36m__init__\u001b[0;34m(self, command, args, timeout, maxread, searchwindowsize, logfile, cwd, env, ignore_sighup, echo, preexec_fn, encoding, codec_errors, dimensions, use_poll)\u001b[0m\n\u001b[1;32m    202\u001b[0m             \u001b[0mself\u001b[0m\u001b[0;34m.\u001b[0m\u001b[0mname\u001b[0m \u001b[0;34m=\u001b[0m \u001b[0;34m'<pexpect factory incomplete>'\u001b[0m\u001b[0;34m\u001b[0m\u001b[0m\n\u001b[1;32m    203\u001b[0m         \u001b[0;32melse\u001b[0m\u001b[0;34m:\u001b[0m\u001b[0;34m\u001b[0m\u001b[0m\n\u001b[0;32m--> 204\u001b[0;31m             \u001b[0mself\u001b[0m\u001b[0;34m.\u001b[0m\u001b[0m_spawn\u001b[0m\u001b[0;34m(\u001b[0m\u001b[0mcommand\u001b[0m\u001b[0;34m,\u001b[0m \u001b[0margs\u001b[0m\u001b[0;34m,\u001b[0m \u001b[0mpreexec_fn\u001b[0m\u001b[0;34m,\u001b[0m \u001b[0mdimensions\u001b[0m\u001b[0;34m)\u001b[0m\u001b[0;34m\u001b[0m\u001b[0m\n\u001b[0m\u001b[1;32m    205\u001b[0m         \u001b[0mself\u001b[0m\u001b[0;34m.\u001b[0m\u001b[0muse_poll\u001b[0m \u001b[0;34m=\u001b[0m \u001b[0muse_poll\u001b[0m\u001b[0;34m\u001b[0m\u001b[0m\n\u001b[1;32m    206\u001b[0m \u001b[0;34m\u001b[0m\u001b[0m\n",
      "\u001b[0;32m~/anaconda3/envs/python3/lib/python3.6/site-packages/pexpect/pty_spawn.py\u001b[0m in \u001b[0;36m_spawn\u001b[0;34m(self, command, args, preexec_fn, dimensions)\u001b[0m\n\u001b[1;32m    301\u001b[0m \u001b[0;34m\u001b[0m\u001b[0m\n\u001b[1;32m    302\u001b[0m         self.ptyproc = self._spawnpty(self.args, env=self.env,\n\u001b[0;32m--> 303\u001b[0;31m                                      cwd=self.cwd, **kwargs)\n\u001b[0m\u001b[1;32m    304\u001b[0m \u001b[0;34m\u001b[0m\u001b[0m\n\u001b[1;32m    305\u001b[0m         \u001b[0mself\u001b[0m\u001b[0;34m.\u001b[0m\u001b[0mpid\u001b[0m \u001b[0;34m=\u001b[0m \u001b[0mself\u001b[0m\u001b[0;34m.\u001b[0m\u001b[0mptyproc\u001b[0m\u001b[0;34m.\u001b[0m\u001b[0mpid\u001b[0m\u001b[0;34m\u001b[0m\u001b[0m\n",
      "\u001b[0;32m~/anaconda3/envs/python3/lib/python3.6/site-packages/pexpect/pty_spawn.py\u001b[0m in \u001b[0;36m_spawnpty\u001b[0;34m(self, args, **kwargs)\u001b[0m\n\u001b[1;32m    312\u001b[0m     \u001b[0;32mdef\u001b[0m \u001b[0m_spawnpty\u001b[0m\u001b[0;34m(\u001b[0m\u001b[0mself\u001b[0m\u001b[0;34m,\u001b[0m \u001b[0margs\u001b[0m\u001b[0;34m,\u001b[0m \u001b[0;34m**\u001b[0m\u001b[0mkwargs\u001b[0m\u001b[0;34m)\u001b[0m\u001b[0;34m:\u001b[0m\u001b[0;34m\u001b[0m\u001b[0m\n\u001b[1;32m    313\u001b[0m         \u001b[0;34m'''Spawn a pty and return an instance of PtyProcess.'''\u001b[0m\u001b[0;34m\u001b[0m\u001b[0m\n\u001b[0;32m--> 314\u001b[0;31m         \u001b[0;32mreturn\u001b[0m \u001b[0mptyprocess\u001b[0m\u001b[0;34m.\u001b[0m\u001b[0mPtyProcess\u001b[0m\u001b[0;34m.\u001b[0m\u001b[0mspawn\u001b[0m\u001b[0;34m(\u001b[0m\u001b[0margs\u001b[0m\u001b[0;34m,\u001b[0m \u001b[0;34m**\u001b[0m\u001b[0mkwargs\u001b[0m\u001b[0;34m)\u001b[0m\u001b[0;34m\u001b[0m\u001b[0m\n\u001b[0m\u001b[1;32m    315\u001b[0m \u001b[0;34m\u001b[0m\u001b[0m\n\u001b[1;32m    316\u001b[0m     \u001b[0;32mdef\u001b[0m \u001b[0mclose\u001b[0m\u001b[0;34m(\u001b[0m\u001b[0mself\u001b[0m\u001b[0;34m,\u001b[0m \u001b[0mforce\u001b[0m\u001b[0;34m=\u001b[0m\u001b[0;32mTrue\u001b[0m\u001b[0;34m)\u001b[0m\u001b[0;34m:\u001b[0m\u001b[0;34m\u001b[0m\u001b[0m\n",
      "\u001b[0;32m~/anaconda3/envs/python3/lib/python3.6/site-packages/ptyprocess/ptyprocess.py\u001b[0m in \u001b[0;36mspawn\u001b[0;34m(cls, argv, cwd, env, echo, preexec_fn, dimensions)\u001b[0m\n\u001b[1;32m    220\u001b[0m \u001b[0;34m\u001b[0m\u001b[0m\n\u001b[1;32m    221\u001b[0m         \u001b[0;32mif\u001b[0m \u001b[0muse_native_pty_fork\u001b[0m\u001b[0;34m:\u001b[0m\u001b[0;34m\u001b[0m\u001b[0m\n\u001b[0;32m--> 222\u001b[0;31m             \u001b[0mpid\u001b[0m\u001b[0;34m,\u001b[0m \u001b[0mfd\u001b[0m \u001b[0;34m=\u001b[0m \u001b[0mpty\u001b[0m\u001b[0;34m.\u001b[0m\u001b[0mfork\u001b[0m\u001b[0;34m(\u001b[0m\u001b[0;34m)\u001b[0m\u001b[0;34m\u001b[0m\u001b[0m\n\u001b[0m\u001b[1;32m    223\u001b[0m         \u001b[0;32melse\u001b[0m\u001b[0;34m:\u001b[0m\u001b[0;34m\u001b[0m\u001b[0m\n\u001b[1;32m    224\u001b[0m             \u001b[0;31m# Use internal fork_pty, for Solaris\u001b[0m\u001b[0;34m\u001b[0m\u001b[0;34m\u001b[0m\u001b[0m\n",
      "\u001b[0;32m~/anaconda3/envs/python3/lib/python3.6/pty.py\u001b[0m in \u001b[0;36mfork\u001b[0;34m()\u001b[0m\n\u001b[1;32m     95\u001b[0m \u001b[0;34m\u001b[0m\u001b[0m\n\u001b[1;32m     96\u001b[0m     \u001b[0mmaster_fd\u001b[0m\u001b[0;34m,\u001b[0m \u001b[0mslave_fd\u001b[0m \u001b[0;34m=\u001b[0m \u001b[0mopenpty\u001b[0m\u001b[0;34m(\u001b[0m\u001b[0;34m)\u001b[0m\u001b[0;34m\u001b[0m\u001b[0m\n\u001b[0;32m---> 97\u001b[0;31m     \u001b[0mpid\u001b[0m \u001b[0;34m=\u001b[0m \u001b[0mos\u001b[0m\u001b[0;34m.\u001b[0m\u001b[0mfork\u001b[0m\u001b[0;34m(\u001b[0m\u001b[0;34m)\u001b[0m\u001b[0;34m\u001b[0m\u001b[0m\n\u001b[0m\u001b[1;32m     98\u001b[0m     \u001b[0;32mif\u001b[0m \u001b[0mpid\u001b[0m \u001b[0;34m==\u001b[0m \u001b[0mCHILD\u001b[0m\u001b[0;34m:\u001b[0m\u001b[0;34m\u001b[0m\u001b[0m\n\u001b[1;32m     99\u001b[0m         \u001b[0;31m# Establish a new session.\u001b[0m\u001b[0;34m\u001b[0m\u001b[0;34m\u001b[0m\u001b[0m\n",
      "\u001b[0;31mOSError\u001b[0m: [Errno 12] Cannot allocate memory"
     ]
    }
   ],
   "source": [
    "# First we will remove all of the files contained in the data_dir directory\n",
    "!rm $data_dir/*\n",
    "\n",
    "# And then we delete the directory itself\n",
    "!rmdir $data_dir\n",
    "\n",
    "# Similarly we remove the files in the cache_dir directory and the directory itself\n",
    "!rm $cache_dir/*\n",
    "!rmdir $cache_dir"
   ]
  },
  {
   "cell_type": "code",
   "execution_count": null,
   "metadata": {},
   "outputs": [],
   "source": []
  }
 ],
 "metadata": {
  "kernelspec": {
   "display_name": "conda_python3",
   "language": "python",
   "name": "conda_python3"
  },
  "language_info": {
   "codemirror_mode": {
    "name": "ipython",
    "version": 3
   },
   "file_extension": ".py",
   "mimetype": "text/x-python",
   "name": "python",
   "nbconvert_exporter": "python",
   "pygments_lexer": "ipython3",
   "version": "3.6.5"
  }
 },
 "nbformat": 4,
 "nbformat_minor": 2
}
